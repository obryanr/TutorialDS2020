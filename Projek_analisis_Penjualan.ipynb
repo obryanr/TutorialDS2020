{
  "nbformat": 4,
  "nbformat_minor": 0,
  "metadata": {
    "colab": {
      "name": "Projek analisis Penjualan",
      "provenance": [],
      "collapsed_sections": []
    },
    "kernelspec": {
      "name": "python3",
      "display_name": "Python 3"
    }
  },
  "cells": [
    {
      "cell_type": "code",
      "metadata": {
        "id": "U0IMaxfFcpBf"
      },
      "source": [
        "from google.colab import files\n",
        "import pandas as pd\n",
        "import numpy as np\n",
        "import seaborn as sns\n",
        "import matplotlib.pyplot as plt"
      ],
      "execution_count": null,
      "outputs": []
    },
    {
      "cell_type": "code",
      "metadata": {
        "id": "1Qj2Bcp-cu0W",
        "colab": {
          "resources": {
            "http://localhost:8080/nbextensions/google.colab/files.js": {
              "data": "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",
              "ok": true,
              "headers": [
                [
                  "content-type",
                  "application/javascript"
                ]
              ],
              "status": 200,
              "status_text": "OK"
            }
          },
          "base_uri": "https://localhost:8080/",
          "height": 76
        },
        "outputId": "44bc0f32-47bb-4028-b057-3f2cfcba5c50"
      },
      "source": [
        "file = files.upload()"
      ],
      "execution_count": null,
      "outputs": [
        {
          "output_type": "display_data",
          "data": {
            "text/html": [
              "\n",
              "     <input type=\"file\" id=\"files-9743bb75-adf5-4cda-9830-368ce996774e\" name=\"files[]\" multiple disabled\n",
              "        style=\"border:none\" />\n",
              "     <output id=\"result-9743bb75-adf5-4cda-9830-368ce996774e\">\n",
              "      Upload widget is only available when the cell has been executed in the\n",
              "      current browser session. Please rerun this cell to enable.\n",
              "      </output>\n",
              "      <script src=\"/nbextensions/google.colab/files.js\"></script> "
            ],
            "text/plain": [
              "<IPython.core.display.HTML object>"
            ]
          },
          "metadata": {
            "tags": []
          }
        },
        {
          "output_type": "stream",
          "text": [
            "Saving used_car_data.csv to used_car_data (1).csv\n"
          ],
          "name": "stdout"
        }
      ]
    },
    {
      "cell_type": "code",
      "metadata": {
        "id": "P4NZl1B-U3T7"
      },
      "source": [
        ""
      ],
      "execution_count": null,
      "outputs": []
    },
    {
      "cell_type": "code",
      "metadata": {
        "id": "6SxBvoO6cxOB",
        "colab": {
          "base_uri": "https://localhost:8080/",
          "height": 206
        },
        "outputId": "a6bb96d5-0845-4d92-eaa9-a5773f34c842"
      },
      "source": [
        "df = pd.read_csv('used_car_data.csv')\n",
        "df.head()"
      ],
      "execution_count": null,
      "outputs": [
        {
          "output_type": "execute_result",
          "data": {
            "text/html": [
              "<div>\n",
              "<style scoped>\n",
              "    .dataframe tbody tr th:only-of-type {\n",
              "        vertical-align: middle;\n",
              "    }\n",
              "\n",
              "    .dataframe tbody tr th {\n",
              "        vertical-align: top;\n",
              "    }\n",
              "\n",
              "    .dataframe thead th {\n",
              "        text-align: right;\n",
              "    }\n",
              "</style>\n",
              "<table border=\"1\" class=\"dataframe\">\n",
              "  <thead>\n",
              "    <tr style=\"text-align: right;\">\n",
              "      <th></th>\n",
              "      <th>Name</th>\n",
              "      <th>Location</th>\n",
              "      <th>Year</th>\n",
              "      <th>Kilometers_Driven</th>\n",
              "      <th>Fuel_Type</th>\n",
              "      <th>Transmission</th>\n",
              "      <th>Owner_Type</th>\n",
              "      <th>Mileage</th>\n",
              "      <th>Engine</th>\n",
              "      <th>Power</th>\n",
              "      <th>Seats</th>\n",
              "      <th>Price</th>\n",
              "    </tr>\n",
              "  </thead>\n",
              "  <tbody>\n",
              "    <tr>\n",
              "      <th>0</th>\n",
              "      <td>Maruti Wagon R LXI CNG</td>\n",
              "      <td>Mumbai</td>\n",
              "      <td>2010</td>\n",
              "      <td>72000</td>\n",
              "      <td>CNG</td>\n",
              "      <td>Manual</td>\n",
              "      <td>First</td>\n",
              "      <td>26.6 km/kg</td>\n",
              "      <td>998 CC</td>\n",
              "      <td>58.16 bhp</td>\n",
              "      <td>5.0</td>\n",
              "      <td>1.75</td>\n",
              "    </tr>\n",
              "    <tr>\n",
              "      <th>1</th>\n",
              "      <td>Hyundai Creta 1.6 CRDi SX Option</td>\n",
              "      <td>Pune</td>\n",
              "      <td>2015</td>\n",
              "      <td>41000</td>\n",
              "      <td>Diesel</td>\n",
              "      <td>Manual</td>\n",
              "      <td>First</td>\n",
              "      <td>19.67 kmpl</td>\n",
              "      <td>1582 CC</td>\n",
              "      <td>126.2 bhp</td>\n",
              "      <td>5.0</td>\n",
              "      <td>12.50</td>\n",
              "    </tr>\n",
              "    <tr>\n",
              "      <th>2</th>\n",
              "      <td>Honda Jazz V</td>\n",
              "      <td>Chennai</td>\n",
              "      <td>2011</td>\n",
              "      <td>46000</td>\n",
              "      <td>Petrol</td>\n",
              "      <td>Manual</td>\n",
              "      <td>First</td>\n",
              "      <td>18.2 kmpl</td>\n",
              "      <td>1199 CC</td>\n",
              "      <td>88.7 bhp</td>\n",
              "      <td>5.0</td>\n",
              "      <td>4.50</td>\n",
              "    </tr>\n",
              "    <tr>\n",
              "      <th>3</th>\n",
              "      <td>Maruti Ertiga VDI</td>\n",
              "      <td>Chennai</td>\n",
              "      <td>2012</td>\n",
              "      <td>87000</td>\n",
              "      <td>Diesel</td>\n",
              "      <td>Manual</td>\n",
              "      <td>First</td>\n",
              "      <td>20.77 kmpl</td>\n",
              "      <td>1248 CC</td>\n",
              "      <td>88.76 bhp</td>\n",
              "      <td>7.0</td>\n",
              "      <td>6.00</td>\n",
              "    </tr>\n",
              "    <tr>\n",
              "      <th>4</th>\n",
              "      <td>Audi A4 New 2.0 TDI Multitronic</td>\n",
              "      <td>Coimbatore</td>\n",
              "      <td>2013</td>\n",
              "      <td>40670</td>\n",
              "      <td>Diesel</td>\n",
              "      <td>Automatic</td>\n",
              "      <td>Second</td>\n",
              "      <td>15.2 kmpl</td>\n",
              "      <td>1968 CC</td>\n",
              "      <td>140.8 bhp</td>\n",
              "      <td>5.0</td>\n",
              "      <td>17.74</td>\n",
              "    </tr>\n",
              "  </tbody>\n",
              "</table>\n",
              "</div>"
            ],
            "text/plain": [
              "                               Name    Location  Year  ...      Power Seats  Price\n",
              "0            Maruti Wagon R LXI CNG      Mumbai  2010  ...  58.16 bhp   5.0   1.75\n",
              "1  Hyundai Creta 1.6 CRDi SX Option        Pune  2015  ...  126.2 bhp   5.0  12.50\n",
              "2                      Honda Jazz V     Chennai  2011  ...   88.7 bhp   5.0   4.50\n",
              "3                 Maruti Ertiga VDI     Chennai  2012  ...  88.76 bhp   7.0   6.00\n",
              "4   Audi A4 New 2.0 TDI Multitronic  Coimbatore  2013  ...  140.8 bhp   5.0  17.74\n",
              "\n",
              "[5 rows x 12 columns]"
            ]
          },
          "metadata": {
            "tags": []
          },
          "execution_count": 123
        }
      ]
    },
    {
      "cell_type": "code",
      "metadata": {
        "id": "Qq47htf-c_RS",
        "colab": {
          "base_uri": "https://localhost:8080/",
          "height": 300
        },
        "outputId": "1e3db62d-833b-4d60-ae9f-42512d309bf0"
      },
      "source": [
        "df.describe()"
      ],
      "execution_count": null,
      "outputs": [
        {
          "output_type": "execute_result",
          "data": {
            "text/html": [
              "<div>\n",
              "<style scoped>\n",
              "    .dataframe tbody tr th:only-of-type {\n",
              "        vertical-align: middle;\n",
              "    }\n",
              "\n",
              "    .dataframe tbody tr th {\n",
              "        vertical-align: top;\n",
              "    }\n",
              "\n",
              "    .dataframe thead th {\n",
              "        text-align: right;\n",
              "    }\n",
              "</style>\n",
              "<table border=\"1\" class=\"dataframe\">\n",
              "  <thead>\n",
              "    <tr style=\"text-align: right;\">\n",
              "      <th></th>\n",
              "      <th>Year</th>\n",
              "      <th>Kilometers_Driven</th>\n",
              "      <th>Seats</th>\n",
              "      <th>Price</th>\n",
              "    </tr>\n",
              "  </thead>\n",
              "  <tbody>\n",
              "    <tr>\n",
              "      <th>count</th>\n",
              "      <td>6019.000000</td>\n",
              "      <td>6.019000e+03</td>\n",
              "      <td>5977.000000</td>\n",
              "      <td>6019.000000</td>\n",
              "    </tr>\n",
              "    <tr>\n",
              "      <th>mean</th>\n",
              "      <td>2013.358199</td>\n",
              "      <td>5.873838e+04</td>\n",
              "      <td>5.278735</td>\n",
              "      <td>9.479468</td>\n",
              "    </tr>\n",
              "    <tr>\n",
              "      <th>std</th>\n",
              "      <td>3.269742</td>\n",
              "      <td>9.126884e+04</td>\n",
              "      <td>0.808840</td>\n",
              "      <td>11.187917</td>\n",
              "    </tr>\n",
              "    <tr>\n",
              "      <th>min</th>\n",
              "      <td>1998.000000</td>\n",
              "      <td>1.710000e+02</td>\n",
              "      <td>0.000000</td>\n",
              "      <td>0.440000</td>\n",
              "    </tr>\n",
              "    <tr>\n",
              "      <th>25%</th>\n",
              "      <td>2011.000000</td>\n",
              "      <td>3.400000e+04</td>\n",
              "      <td>5.000000</td>\n",
              "      <td>3.500000</td>\n",
              "    </tr>\n",
              "    <tr>\n",
              "      <th>50%</th>\n",
              "      <td>2014.000000</td>\n",
              "      <td>5.300000e+04</td>\n",
              "      <td>5.000000</td>\n",
              "      <td>5.640000</td>\n",
              "    </tr>\n",
              "    <tr>\n",
              "      <th>75%</th>\n",
              "      <td>2016.000000</td>\n",
              "      <td>7.300000e+04</td>\n",
              "      <td>5.000000</td>\n",
              "      <td>9.950000</td>\n",
              "    </tr>\n",
              "    <tr>\n",
              "      <th>max</th>\n",
              "      <td>2019.000000</td>\n",
              "      <td>6.500000e+06</td>\n",
              "      <td>10.000000</td>\n",
              "      <td>160.000000</td>\n",
              "    </tr>\n",
              "  </tbody>\n",
              "</table>\n",
              "</div>"
            ],
            "text/plain": [
              "              Year  Kilometers_Driven        Seats        Price\n",
              "count  6019.000000       6.019000e+03  5977.000000  6019.000000\n",
              "mean   2013.358199       5.873838e+04     5.278735     9.479468\n",
              "std       3.269742       9.126884e+04     0.808840    11.187917\n",
              "min    1998.000000       1.710000e+02     0.000000     0.440000\n",
              "25%    2011.000000       3.400000e+04     5.000000     3.500000\n",
              "50%    2014.000000       5.300000e+04     5.000000     5.640000\n",
              "75%    2016.000000       7.300000e+04     5.000000     9.950000\n",
              "max    2019.000000       6.500000e+06    10.000000   160.000000"
            ]
          },
          "metadata": {
            "tags": []
          },
          "execution_count": 124
        }
      ]
    },
    {
      "cell_type": "markdown",
      "metadata": {
        "id": "eMeH1K4edaRL"
      },
      "source": [
        "1) Merk apa saja yang tersedia dan berapa banyak mobil untuk tiap merk?"
      ]
    },
    {
      "cell_type": "code",
      "metadata": {
        "id": "TvNCp7gtdXxA",
        "colab": {
          "base_uri": "https://localhost:8080/",
          "height": 245
        },
        "outputId": "0900adb3-b1ad-4f60-c9b1-dfeaa06507ba"
      },
      "source": [
        "df['Name'].value_counts()"
      ],
      "execution_count": null,
      "outputs": [
        {
          "output_type": "execute_result",
          "data": {
            "text/plain": [
              "Mahindra XUV500 W8 2WD                49\n",
              "Maruti Swift VDI                      45\n",
              "Maruti Swift Dzire VDI                34\n",
              "Honda City 1.5 S MT                   34\n",
              "Maruti Swift VDI BSIV                 31\n",
              "                                      ..\n",
              "Maruti Celerio ZXI AMT                 1\n",
              "Skoda Rapid 1.6 MPI Active             1\n",
              "Maruti Swift AMT VDI                   1\n",
              "Volkswagen Tiguan 2.0 TDI Highline     1\n",
              "Mahindra Bolero mHAWK D70 ZLX          1\n",
              "Name: Name, Length: 1876, dtype: int64"
            ]
          },
          "metadata": {
            "tags": []
          },
          "execution_count": 125
        }
      ]
    },
    {
      "cell_type": "code",
      "metadata": {
        "id": "cyAme7jiroxY"
      },
      "source": [
        "# Split brand and brand type\n",
        "mobil_brand = df['Name'].str.split(\" \", expand=True)[0]"
      ],
      "execution_count": null,
      "outputs": []
    },
    {
      "cell_type": "code",
      "metadata": {
        "id": "ewC9BobFRfTm"
      },
      "source": [
        "# Transform duplicated ISUZU --> Isuzu\n",
        "mobil_brand = mobil_brand.str.replace('ISUZU', 'Isuzu')"
      ],
      "execution_count": null,
      "outputs": []
    },
    {
      "cell_type": "code",
      "metadata": {
        "id": "RyLmSCBXsLVV",
        "colab": {
          "base_uri": "https://localhost:8080/",
          "height": 786
        },
        "outputId": "fc7288e3-9b55-4838-b4ba-2476911ec190"
      },
      "source": [
        "plt.figure(figsize=(18, 12))\n",
        "ax = mobil_brand.value_counts().plot(kind='bar')\n",
        "ax.set_alpha(0.8)\n",
        "ax.set_title(\"Distribusi Merk Mobil\", fontsize=18)\n",
        "ax.set_ylabel(\"Jumlah Setiap Merk\", fontsize=18);\n",
        "ax.set_yticks([0, 5, 10, 15, 20])\n",
        "\n",
        "# totals = []\n",
        "\n",
        "# for i in ax.patches:\n",
        "#     totals.append(i.get_height())\n",
        "\n",
        "# total = sum(totals)\n",
        "\n",
        "# Annotate bar chart\n",
        "for i in ax.patches:\n",
        "    ax.text(i.get_x()-.03, i.get_height()+15, \\\n",
        "            str(i.get_height()), fontsize=12,\n",
        "                color='dimgrey')"
      ],
      "execution_count": null,
      "outputs": [
        {
          "output_type": "display_data",
          "data": {
            "image/png": "[encoded data removed]",
            "text/plain": [
              "<Figure size 1296x864 with 1 Axes>"
            ]
          },
          "metadata": {
            "tags": [],
            "needs_background": "light"
          }
        }
      ]
    },
    {
      "cell_type": "markdown",
      "metadata": {
        "id": "t7gKoY26RTIi"
      },
      "source": [
        "Double brand : ISUZU & Isuzu"
      ]
    },
    {
      "cell_type": "code",
      "metadata": {
        "id": "9wcr6BITKIW9",
        "colab": {
          "base_uri": "https://localhost:8080/",
          "height": 607
        },
        "outputId": "ac3e7b54-8056-4539-a609-f64151f4abbf"
      },
      "source": [
        "# Proportion\n",
        "display(round(mobil_brand.value_counts()*100/np.sum(mobil_brand.value_counts()),2))"
      ],
      "execution_count": null,
      "outputs": [
        {
          "output_type": "display_data",
          "data": {
            "text/plain": [
              "Maruti           20.12\n",
              "Hyundai          18.39\n",
              "Honda            10.10\n",
              "Toyota            6.83\n",
              "Mercedes-Benz     5.28\n",
              "Volkswagen        5.23\n",
              "Ford              4.98\n",
              "Mahindra          4.52\n",
              "BMW               4.44\n",
              "Audi              3.92\n",
              "Tata              3.09\n",
              "Skoda             2.87\n",
              "Renault           2.41\n",
              "Chevrolet         2.01\n",
              "Nissan            1.51\n",
              "Land              1.00\n",
              "Jaguar            0.66\n",
              "Fiat              0.47\n",
              "Mitsubishi        0.45\n",
              "Mini              0.43\n",
              "Volvo             0.35\n",
              "Porsche           0.30\n",
              "Jeep              0.25\n",
              "Datsun            0.22\n",
              "Force             0.05\n",
              "Isuzu             0.05\n",
              "Ambassador        0.02\n",
              "Lamborghini       0.02\n",
              "Bentley           0.02\n",
              "Smart             0.02\n",
              "Name: 0, dtype: float64"
            ]
          },
          "metadata": {
            "tags": []
          }
        }
      ]
    },
    {
      "cell_type": "markdown",
      "metadata": {
        "id": "MQLj8xzWeAuE"
      },
      "source": [
        "2) Kota apa yang memiliki mobil bekas paling banyak?"
      ]
    },
    {
      "cell_type": "code",
      "metadata": {
        "id": "GGnDhl_-eDIw"
      },
      "source": [
        "# Filter Owner_Type\n",
        "mobil_second = df[['Location', 'Owner_Type']][df['Owner_Type'] != 'First']"
      ],
      "execution_count": null,
      "outputs": []
    },
    {
      "cell_type": "code",
      "metadata": {
        "id": "0rHsQWdBTU30"
      },
      "source": [
        "desc_mobil_second = mobil_second.describe()"
      ],
      "execution_count": null,
      "outputs": []
    },
    {
      "cell_type": "code",
      "metadata": {
        "id": "-reS9FQMeQYg"
      },
      "source": [
        "# Group Owner Type and Location by counting owner type for each location\n",
        "dist = mobil_second.groupby(['Owner_Type','Location'])['Location'].count()\n",
        "dist.columns = ['Owner_Type', 'Location', 'Total']\n",
        "dist_reset = dist.reset_index(name='Total')"
      ],
      "execution_count": null,
      "outputs": []
    },
    {
      "cell_type": "code",
      "metadata": {
        "id": "9WAbG04khNxf",
        "colab": {
          "base_uri": "https://localhost:8080/",
          "height": 531
        },
        "outputId": "78fa9ede-ad46-4e8a-fd60-bf906ec2cb23"
      },
      "source": [
        "dist"
      ],
      "execution_count": null,
      "outputs": [
        {
          "output_type": "execute_result",
          "data": {
            "text/plain": [
              "Owner_Type      Location  \n",
              "Fourth & Above  Bangalore       1\n",
              "                Chennai         2\n",
              "                Coimbatore      1\n",
              "                Jaipur          1\n",
              "                Mumbai          2\n",
              "                Pune            2\n",
              "Second          Ahmedabad      38\n",
              "                Bangalore     114\n",
              "                Chennai       121\n",
              "                Coimbatore     63\n",
              "                Delhi          94\n",
              "                Hyderabad      84\n",
              "                Jaipur         97\n",
              "                Kochi          34\n",
              "                Kolkata        32\n",
              "                Mumbai        121\n",
              "                Pune          170\n",
              "Third           Bangalore      12\n",
              "                Chennai        36\n",
              "                Coimbatore      1\n",
              "                Delhi           3\n",
              "                Jaipur         15\n",
              "                Kochi           3\n",
              "                Mumbai         14\n",
              "                Pune           29\n",
              "Name: Location, dtype: int64"
            ]
          },
          "metadata": {
            "tags": []
          },
          "execution_count": 133
        }
      ]
    },
    {
      "cell_type": "code",
      "metadata": {
        "id": "OuO0bLNKflK7"
      },
      "source": [
        "# Re index & order to see clearly the distribution\n",
        "pt_dist = pd.pivot_table(dist_reset, values ='Total', columns='Owner_Type', index='Location', aggfunc=sum, margins=True)\n",
        "\n",
        "# Fill NaN value with 0 and transform dtype into integer\n",
        "pt_dist[['Fourth & Above', 'Second', 'Third']] = pt_dist[['Fourth & Above', 'Second', 'Third']].fillna(0).astype(int)\n",
        "\n",
        "# Reordering pt_dist column\n",
        "pt_dist = pt_dist[['Second', 'Third', 'Fourth & Above', 'All']]"
      ],
      "execution_count": null,
      "outputs": []
    },
    {
      "cell_type": "code",
      "metadata": {
        "id": "wKIdg2xJlbvw",
        "colab": {
          "base_uri": "https://localhost:8080/",
          "height": 457
        },
        "outputId": "2560c3c8-09b7-4e7e-e843-976e538b267b"
      },
      "source": [
        "pt_dist = pt_dist.sort_values('All')\n",
        "pt_dist"
      ],
      "execution_count": null,
      "outputs": [
        {
          "output_type": "execute_result",
          "data": {
            "text/html": [
              "<div>\n",
              "<style scoped>\n",
              "    .dataframe tbody tr th:only-of-type {\n",
              "        vertical-align: middle;\n",
              "    }\n",
              "\n",
              "    .dataframe tbody tr th {\n",
              "        vertical-align: top;\n",
              "    }\n",
              "\n",
              "    .dataframe thead th {\n",
              "        text-align: right;\n",
              "    }\n",
              "</style>\n",
              "<table border=\"1\" class=\"dataframe\">\n",
              "  <thead>\n",
              "    <tr style=\"text-align: right;\">\n",
              "      <th>Owner_Type</th>\n",
              "      <th>Second</th>\n",
              "      <th>Third</th>\n",
              "      <th>Fourth &amp; Above</th>\n",
              "      <th>All</th>\n",
              "    </tr>\n",
              "    <tr>\n",
              "      <th>Location</th>\n",
              "      <th></th>\n",
              "      <th></th>\n",
              "      <th></th>\n",
              "      <th></th>\n",
              "    </tr>\n",
              "  </thead>\n",
              "  <tbody>\n",
              "    <tr>\n",
              "      <th>Kolkata</th>\n",
              "      <td>32</td>\n",
              "      <td>0</td>\n",
              "      <td>0</td>\n",
              "      <td>32</td>\n",
              "    </tr>\n",
              "    <tr>\n",
              "      <th>Kochi</th>\n",
              "      <td>34</td>\n",
              "      <td>3</td>\n",
              "      <td>0</td>\n",
              "      <td>37</td>\n",
              "    </tr>\n",
              "    <tr>\n",
              "      <th>Ahmedabad</th>\n",
              "      <td>38</td>\n",
              "      <td>0</td>\n",
              "      <td>0</td>\n",
              "      <td>38</td>\n",
              "    </tr>\n",
              "    <tr>\n",
              "      <th>Coimbatore</th>\n",
              "      <td>63</td>\n",
              "      <td>1</td>\n",
              "      <td>1</td>\n",
              "      <td>65</td>\n",
              "    </tr>\n",
              "    <tr>\n",
              "      <th>Hyderabad</th>\n",
              "      <td>84</td>\n",
              "      <td>0</td>\n",
              "      <td>0</td>\n",
              "      <td>84</td>\n",
              "    </tr>\n",
              "    <tr>\n",
              "      <th>Delhi</th>\n",
              "      <td>94</td>\n",
              "      <td>3</td>\n",
              "      <td>0</td>\n",
              "      <td>97</td>\n",
              "    </tr>\n",
              "    <tr>\n",
              "      <th>Jaipur</th>\n",
              "      <td>97</td>\n",
              "      <td>15</td>\n",
              "      <td>1</td>\n",
              "      <td>113</td>\n",
              "    </tr>\n",
              "    <tr>\n",
              "      <th>Bangalore</th>\n",
              "      <td>114</td>\n",
              "      <td>12</td>\n",
              "      <td>1</td>\n",
              "      <td>127</td>\n",
              "    </tr>\n",
              "    <tr>\n",
              "      <th>Mumbai</th>\n",
              "      <td>121</td>\n",
              "      <td>14</td>\n",
              "      <td>2</td>\n",
              "      <td>137</td>\n",
              "    </tr>\n",
              "    <tr>\n",
              "      <th>Chennai</th>\n",
              "      <td>121</td>\n",
              "      <td>36</td>\n",
              "      <td>2</td>\n",
              "      <td>159</td>\n",
              "    </tr>\n",
              "    <tr>\n",
              "      <th>Pune</th>\n",
              "      <td>170</td>\n",
              "      <td>29</td>\n",
              "      <td>2</td>\n",
              "      <td>201</td>\n",
              "    </tr>\n",
              "    <tr>\n",
              "      <th>All</th>\n",
              "      <td>968</td>\n",
              "      <td>113</td>\n",
              "      <td>9</td>\n",
              "      <td>1090</td>\n",
              "    </tr>\n",
              "  </tbody>\n",
              "</table>\n",
              "</div>"
            ],
            "text/plain": [
              "Owner_Type  Second  Third  Fourth & Above   All\n",
              "Location                                       \n",
              "Kolkata         32      0               0    32\n",
              "Kochi           34      3               0    37\n",
              "Ahmedabad       38      0               0    38\n",
              "Coimbatore      63      1               1    65\n",
              "Hyderabad       84      0               0    84\n",
              "Delhi           94      3               0    97\n",
              "Jaipur          97     15               1   113\n",
              "Bangalore      114     12               1   127\n",
              "Mumbai         121     14               2   137\n",
              "Chennai        121     36               2   159\n",
              "Pune           170     29               2   201\n",
              "All            968    113               9  1090"
            ]
          },
          "metadata": {
            "tags": []
          },
          "execution_count": 135
        }
      ]
    },
    {
      "cell_type": "code",
      "metadata": {
        "id": "r0M7ahDdTun5"
      },
      "source": [
        "from pandas.plotting import table\n"
      ],
      "execution_count": null,
      "outputs": []
    },
    {
      "cell_type": "code",
      "metadata": {
        "id": "nP5sotUFWXjs"
      },
      "source": [
        "# # Save table df into png\n",
        "# ax1 = plt.subplot(511, frame_on=False) \n",
        "# ax1.xaxis.set_visible(False)  \n",
        "# ax1.yaxis.set_visible(False)  \n",
        "\n",
        "# table(ax1, impact_pivot)  \n",
        "\n",
        "# plt.savefig('mytable.png')"
      ],
      "execution_count": null,
      "outputs": []
    },
    {
      "cell_type": "markdown",
      "metadata": {
        "id": "Au8uEreNek7o"
      },
      "source": [
        "3) Bagaimana distribusi tahun edisi mobil-mobil bekas tersebut?"
      ]
    },
    {
      "cell_type": "code",
      "metadata": {
        "id": "FzOs9NHBekFz"
      },
      "source": [
        "# Filter Owner_Type\n",
        "dist_mobil_bekas = df[['Year', 'Name']][df['Owner_Type'] != 'First']"
      ],
      "execution_count": null,
      "outputs": []
    },
    {
      "cell_type": "code",
      "metadata": {
        "id": "fMNXCeO_e71f",
        "colab": {
          "base_uri": "https://localhost:8080/",
          "height": 438
        },
        "outputId": "5c7bb287-4e60-45cc-f069-354943c6e719"
      },
      "source": [
        "dist_mobil_bekas.groupby(['Name', 'Year']).count().sort_values('Year')"
      ],
      "execution_count": null,
      "outputs": [
        {
          "output_type": "execute_result",
          "data": {
            "text/html": [
              "<div>\n",
              "<style scoped>\n",
              "    .dataframe tbody tr th:only-of-type {\n",
              "        vertical-align: middle;\n",
              "    }\n",
              "\n",
              "    .dataframe tbody tr th {\n",
              "        vertical-align: top;\n",
              "    }\n",
              "\n",
              "    .dataframe thead th {\n",
              "        text-align: right;\n",
              "    }\n",
              "</style>\n",
              "<table border=\"1\" class=\"dataframe\">\n",
              "  <thead>\n",
              "    <tr style=\"text-align: right;\">\n",
              "      <th></th>\n",
              "      <th></th>\n",
              "    </tr>\n",
              "    <tr>\n",
              "      <th>Name</th>\n",
              "      <th>Year</th>\n",
              "    </tr>\n",
              "  </thead>\n",
              "  <tbody>\n",
              "    <tr>\n",
              "      <th>Maruti 1000 AC</th>\n",
              "      <th>1998</th>\n",
              "    </tr>\n",
              "    <tr>\n",
              "      <th>Maruti Zen LX</th>\n",
              "      <th>1998</th>\n",
              "    </tr>\n",
              "    <tr>\n",
              "      <th>Maruti Zen LXI</th>\n",
              "      <th>1998</th>\n",
              "    </tr>\n",
              "    <tr>\n",
              "      <th>Maruti Zen VX</th>\n",
              "      <th>1999</th>\n",
              "    </tr>\n",
              "    <tr>\n",
              "      <th>Tata Sumo Delux</th>\n",
              "      <th>2000</th>\n",
              "    </tr>\n",
              "    <tr>\n",
              "      <th>...</th>\n",
              "      <th>...</th>\n",
              "    </tr>\n",
              "    <tr>\n",
              "      <th>Renault KWID Climber 1.0 AMT</th>\n",
              "      <th>2018</th>\n",
              "    </tr>\n",
              "    <tr>\n",
              "      <th>Volkswagen Vento 1.6 Comfortline</th>\n",
              "      <th>2018</th>\n",
              "    </tr>\n",
              "    <tr>\n",
              "      <th>Hyundai i20 1.4 Sportz</th>\n",
              "      <th>2018</th>\n",
              "    </tr>\n",
              "    <tr>\n",
              "      <th>Chevrolet Cruze LTZ</th>\n",
              "      <th>2018</th>\n",
              "    </tr>\n",
              "    <tr>\n",
              "      <th>Mahindra NuvoSport N6</th>\n",
              "      <th>2018</th>\n",
              "    </tr>\n",
              "  </tbody>\n",
              "</table>\n",
              "<p>957 rows × 0 columns</p>\n",
              "</div>"
            ],
            "text/plain": [
              "Empty DataFrame\n",
              "Columns: []\n",
              "Index: [(Maruti 1000 AC, 1998), (Maruti Zen LX, 1998), (Maruti Zen LXI, 1998), (Maruti Zen VX, 1999), (Tata Sumo Delux, 2000), (Maruti Zen VXi - BS III, 2000), (Honda City 1.5 EXI, 2001), (Hyundai Accent GLE, 2001), (Fiat Siena 1.2 ELX, 2001), (Mitsubishi Lancer 1.5 SFXi, 2001), (Toyota Qualis Fleet A3, 2001), (Hyundai Santro D Lite, 2001), (Toyota Qualis FS B3, 2002), (Hyundai Santro GS zipDrive - Euro II, 2002), (Hyundai Santro LS zipPlus, 2002), (Maruti Alto Vxi 1.1, 2002), (Ford Ikon 1.3 Flair, 2002), (Maruti Zen VXI BSII, 2002), (Maruti 800 Std BSIII, 2002), (Skoda Octavia Ambiente 1.9 TDI MT, 2002), (Honda City 1.5 GXI, 2002), (Maruti Wagon R VXI, 2002), (Ford Ikon 1.6 CLXI, 2003), (Maruti Wagon R VXI BSIII, 2003), (Maruti Zen VXI BSII, 2003), (Ambassador Classic Nova Diesel, 2003), (Maruti Esteem LX BSII, 2003), (Mitsubishi Lancer GLXD, 2003), (Land Rover Range Rover 3.0 D, 2003), (Hyundai Sonata GOLD, 2003), (Maruti Versa DX2 BS II, 2003), (Hyundai Santro Xing XG, 2003), (Maruti Wagon R LX, 2003), (Toyota Corolla DX, 2003), (Maruti Wagon R LXI, 2004), (Honda City 1.3 EXI, 2004), (Honda CR-V Petrol 2WD, 2004), (Honda City 1.5 GXI, 2004), (Maruti Omni 8 Seater BSII, 2004), (Maruti Wagon R LX, 2004), (Maruti 800 Std BSIII, 2004), (Tata Indica V2 DL BSIII, 2004), (Ford Ikon 1.6 ZXI NXt, 2004), (Toyota Corolla H4, 2004), (Maruti Alto Std, 2004), (Toyota Qualis FS B2, 2004), (Maruti Wagon R LX BSIII, 2004), (Toyota Qualis RS E2, 2004), (Mercedes-Benz E-Class 200 Kompressor Elegance, 2004), (Honda City 1.5 EXI, 2004), (Hyundai Accent GLS 1.6, 2004), (Ford Ikon 1.3 LXi NXt, 2004), (Tata Indica DLS, 2005), (Skoda Octavia Classic 1.9 TDI MT, 2005), (Toyota Corolla H4, 2005), (Maruti Wagon R LX BSIII, 2005), (Fiat Petra 1.2 EL, 2005), (Tata Indigo LX BSII, 2005), (Honda City 1.5 GXI, 2005), (Toyota Innova 2.5 G4 Diesel 8-seater, 2005), (Maruti Esteem Vxi - BSIII, 2005), (Hyundai Santro Xing XO CNG, 2005), (Hyundai Santro Xing XL eRLX Euro III, 2005), (Hyundai Santro Xing XG, 2005), (Hyundai Santro GS, 2005), (Mercedes-Benz E-Class E270 CDI, 2005), (Honda City 1.5 EXI, 2005), (Hyundai Getz GLS ABS, 2005), (Hyundai Getz GLS, 2005), (Hyundai Accent GLE, 2005), (Hyundai Getz GVS, 2005), (Mahindra Scorpio 2.6 DX, 2005), (Honda City ZX CVT, 2005), (Maruti Zen LXI, 2005), (Honda City ZX GXi, 2005), (Mahindra Bolero SLX 2WD, 2006), (Maruti Swift VXI BSIV, 2006), (Honda City 1.5 EXI AT, 2006), (Hyundai Verna CRDi, 2006), (Hyundai Tucson CRDi, 2006), (Hyundai Santro Xing XO eRLX Euro II, 2006), (Honda CR-V 2.4 4WD AT, 2006), (Maruti Wagon R LX BSII, 2006), (Ford Fiesta 1.4 Duratorq EXI, 2006), (Ford Fiesta 1.4 TDCi EXI, 2006), (Ford Fiesta 1.4 TDCi EXI Limited Edition, 2006), (Honda City ZX VTEC, 2006), (Skoda Octavia Classic 1.9 TDI MT, 2006), (Skoda Octavia L and K 1.9 TDI MT, 2006), (Maruti Zen LXi - BS III, 2006), (Mercedes-Benz S Class 2005 2013 S 350 L, 2006), (Maruti Wagon R LX BSIII, 2006), (Tata Indica LEI, 2006), (Maruti Wagon R LXI, 2006), (Tata Indica V2 DLG TC, 2006), (Hyundai Getz GLE, 2006), (Ford Ikon 1.3 Flair, 2006), (Honda Accord V6 AT, 2006), (Honda Civic 2006-2010 1.8 S MT, 2006), (Hyundai Santro Xing XL, 2006), ...]\n",
              "\n",
              "[957 rows x 0 columns]"
            ]
          },
          "metadata": {
            "tags": []
          },
          "execution_count": 139
        }
      ]
    },
    {
      "cell_type": "code",
      "metadata": {
        "id": "3Ewh7APsXrDy"
      },
      "source": [
        "dist_mobil_bekas['Name'] = dist_mobil_bekas.Name.str.split(\" \", expand=True)[0]"
      ],
      "execution_count": null,
      "outputs": []
    },
    {
      "cell_type": "code",
      "metadata": {
        "id": "frB8L8tCYYh4",
        "colab": {
          "base_uri": "https://localhost:8080/",
          "height": 424
        },
        "outputId": "46635511-4e3a-4a28-8756-809c823b7987"
      },
      "source": [
        "dist_mobil_bekas"
      ],
      "execution_count": null,
      "outputs": [
        {
          "output_type": "execute_result",
          "data": {
            "text/html": [
              "<div>\n",
              "<style scoped>\n",
              "    .dataframe tbody tr th:only-of-type {\n",
              "        vertical-align: middle;\n",
              "    }\n",
              "\n",
              "    .dataframe tbody tr th {\n",
              "        vertical-align: top;\n",
              "    }\n",
              "\n",
              "    .dataframe thead th {\n",
              "        text-align: right;\n",
              "    }\n",
              "</style>\n",
              "<table border=\"1\" class=\"dataframe\">\n",
              "  <thead>\n",
              "    <tr style=\"text-align: right;\">\n",
              "      <th></th>\n",
              "      <th>Year</th>\n",
              "      <th>Name</th>\n",
              "    </tr>\n",
              "  </thead>\n",
              "  <tbody>\n",
              "    <tr>\n",
              "      <th>4</th>\n",
              "      <td>2013</td>\n",
              "      <td>Audi</td>\n",
              "    </tr>\n",
              "    <tr>\n",
              "      <th>9</th>\n",
              "      <td>2012</td>\n",
              "      <td>Tata</td>\n",
              "    </tr>\n",
              "    <tr>\n",
              "      <th>14</th>\n",
              "      <td>2012</td>\n",
              "      <td>Land</td>\n",
              "    </tr>\n",
              "    <tr>\n",
              "      <th>21</th>\n",
              "      <td>2015</td>\n",
              "      <td>Maruti</td>\n",
              "    </tr>\n",
              "    <tr>\n",
              "      <th>27</th>\n",
              "      <td>2013</td>\n",
              "      <td>Maruti</td>\n",
              "    </tr>\n",
              "    <tr>\n",
              "      <th>...</th>\n",
              "      <td>...</td>\n",
              "      <td>...</td>\n",
              "    </tr>\n",
              "    <tr>\n",
              "      <th>5994</th>\n",
              "      <td>2009</td>\n",
              "      <td>Honda</td>\n",
              "    </tr>\n",
              "    <tr>\n",
              "      <th>5998</th>\n",
              "      <td>2010</td>\n",
              "      <td>Volkswagen</td>\n",
              "    </tr>\n",
              "    <tr>\n",
              "      <th>6000</th>\n",
              "      <td>2014</td>\n",
              "      <td>Hyundai</td>\n",
              "    </tr>\n",
              "    <tr>\n",
              "      <th>6008</th>\n",
              "      <td>2013</td>\n",
              "      <td>Porsche</td>\n",
              "    </tr>\n",
              "    <tr>\n",
              "      <th>6016</th>\n",
              "      <td>2012</td>\n",
              "      <td>Mahindra</td>\n",
              "    </tr>\n",
              "  </tbody>\n",
              "</table>\n",
              "<p>1090 rows × 2 columns</p>\n",
              "</div>"
            ],
            "text/plain": [
              "      Year        Name\n",
              "4     2013        Audi\n",
              "9     2012        Tata\n",
              "14    2012        Land\n",
              "21    2015      Maruti\n",
              "27    2013      Maruti\n",
              "...    ...         ...\n",
              "5994  2009       Honda\n",
              "5998  2010  Volkswagen\n",
              "6000  2014     Hyundai\n",
              "6008  2013     Porsche\n",
              "6016  2012    Mahindra\n",
              "\n",
              "[1090 rows x 2 columns]"
            ]
          },
          "metadata": {
            "tags": []
          },
          "execution_count": 141
        }
      ]
    },
    {
      "cell_type": "code",
      "metadata": {
        "id": "sN60qN0wX8e9",
        "colab": {
          "base_uri": "https://localhost:8080/",
          "height": 264
        },
        "outputId": "9163f5e8-62e3-4987-dd31-ea796095770c"
      },
      "source": [
        "mob_bekas_group = dist_mobil_bekas.groupby(['Name', 'Year'])['Year'].count()\n",
        "mob_bekas_group"
      ],
      "execution_count": null,
      "outputs": [
        {
          "output_type": "execute_result",
          "data": {
            "text/plain": [
              "Name        Year\n",
              "Ambassador  2003    1\n",
              "Audi        2008    5\n",
              "            2009    4\n",
              "            2011    4\n",
              "            2012    7\n",
              "                   ..\n",
              "Volkswagen  2018    1\n",
              "Volvo       2010    1\n",
              "            2012    1\n",
              "            2014    1\n",
              "            2015    2\n",
              "Name: Year, Length: 235, dtype: int64"
            ]
          },
          "metadata": {
            "tags": []
          },
          "execution_count": 142
        }
      ]
    },
    {
      "cell_type": "code",
      "metadata": {
        "id": "zX9FiuIVCEsC"
      },
      "source": [
        "# Re index & order to see clearly the distribution\n",
        "mob_bekas_year = pd.pivot_table(mob_bekas_group.reset_index(name='Total'), values ='Total', columns='Year', index='Name', aggfunc=sum, margins=True)\n",
        "\n",
        "# Fill NaN value with 0 and transform dtype into integer\n",
        "mob_bekas_year.iloc[0:-1] = mob_bekas_year.iloc[0:-1].fillna(0).astype(int)\n"
      ],
      "execution_count": null,
      "outputs": []
    },
    {
      "cell_type": "code",
      "metadata": {
        "id": "MiZujCqhCmJh",
        "colab": {
          "base_uri": "https://localhost:8080/",
          "height": 896
        },
        "outputId": "5d14a8ee-833a-4c5c-af99-7c02d27a6a74"
      },
      "source": [
        "mob_bekas_year"
      ],
      "execution_count": null,
      "outputs": [
        {
          "output_type": "execute_result",
          "data": {
            "text/html": [
              "<div>\n",
              "<style scoped>\n",
              "    .dataframe tbody tr th:only-of-type {\n",
              "        vertical-align: middle;\n",
              "    }\n",
              "\n",
              "    .dataframe tbody tr th {\n",
              "        vertical-align: top;\n",
              "    }\n",
              "\n",
              "    .dataframe thead th {\n",
              "        text-align: right;\n",
              "    }\n",
              "</style>\n",
              "<table border=\"1\" class=\"dataframe\">\n",
              "  <thead>\n",
              "    <tr style=\"text-align: right;\">\n",
              "      <th>Year</th>\n",
              "      <th>1998</th>\n",
              "      <th>1999</th>\n",
              "      <th>2000</th>\n",
              "      <th>2001</th>\n",
              "      <th>2002</th>\n",
              "      <th>2003</th>\n",
              "      <th>2004</th>\n",
              "      <th>2005</th>\n",
              "      <th>2006</th>\n",
              "      <th>2007</th>\n",
              "      <th>2008</th>\n",
              "      <th>2009</th>\n",
              "      <th>2010</th>\n",
              "      <th>2011</th>\n",
              "      <th>2012</th>\n",
              "      <th>2013</th>\n",
              "      <th>2014</th>\n",
              "      <th>2015</th>\n",
              "      <th>2016</th>\n",
              "      <th>2017</th>\n",
              "      <th>2018</th>\n",
              "      <th>All</th>\n",
              "    </tr>\n",
              "    <tr>\n",
              "      <th>Name</th>\n",
              "      <th></th>\n",
              "      <th></th>\n",
              "      <th></th>\n",
              "      <th></th>\n",
              "      <th></th>\n",
              "      <th></th>\n",
              "      <th></th>\n",
              "      <th></th>\n",
              "      <th></th>\n",
              "      <th></th>\n",
              "      <th></th>\n",
              "      <th></th>\n",
              "      <th></th>\n",
              "      <th></th>\n",
              "      <th></th>\n",
              "      <th></th>\n",
              "      <th></th>\n",
              "      <th></th>\n",
              "      <th></th>\n",
              "      <th></th>\n",
              "      <th></th>\n",
              "      <th></th>\n",
              "    </tr>\n",
              "  </thead>\n",
              "  <tbody>\n",
              "    <tr>\n",
              "      <th>Ambassador</th>\n",
              "      <td>0.0</td>\n",
              "      <td>0.0</td>\n",
              "      <td>0.0</td>\n",
              "      <td>0.0</td>\n",
              "      <td>0.0</td>\n",
              "      <td>1.0</td>\n",
              "      <td>0.0</td>\n",
              "      <td>0.0</td>\n",
              "      <td>0.0</td>\n",
              "      <td>0.0</td>\n",
              "      <td>0.0</td>\n",
              "      <td>0.0</td>\n",
              "      <td>0.0</td>\n",
              "      <td>0.0</td>\n",
              "      <td>0.0</td>\n",
              "      <td>0.0</td>\n",
              "      <td>0.0</td>\n",
              "      <td>0.0</td>\n",
              "      <td>0.0</td>\n",
              "      <td>0.0</td>\n",
              "      <td>0.0</td>\n",
              "      <td>1</td>\n",
              "    </tr>\n",
              "    <tr>\n",
              "      <th>Audi</th>\n",
              "      <td>0.0</td>\n",
              "      <td>0.0</td>\n",
              "      <td>0.0</td>\n",
              "      <td>0.0</td>\n",
              "      <td>0.0</td>\n",
              "      <td>0.0</td>\n",
              "      <td>0.0</td>\n",
              "      <td>0.0</td>\n",
              "      <td>0.0</td>\n",
              "      <td>0.0</td>\n",
              "      <td>5.0</td>\n",
              "      <td>4.0</td>\n",
              "      <td>0.0</td>\n",
              "      <td>4.0</td>\n",
              "      <td>7.0</td>\n",
              "      <td>8.0</td>\n",
              "      <td>9.0</td>\n",
              "      <td>5.0</td>\n",
              "      <td>3.0</td>\n",
              "      <td>2.0</td>\n",
              "      <td>0.0</td>\n",
              "      <td>47</td>\n",
              "    </tr>\n",
              "    <tr>\n",
              "      <th>BMW</th>\n",
              "      <td>0.0</td>\n",
              "      <td>0.0</td>\n",
              "      <td>0.0</td>\n",
              "      <td>0.0</td>\n",
              "      <td>0.0</td>\n",
              "      <td>0.0</td>\n",
              "      <td>0.0</td>\n",
              "      <td>0.0</td>\n",
              "      <td>1.0</td>\n",
              "      <td>1.0</td>\n",
              "      <td>8.0</td>\n",
              "      <td>7.0</td>\n",
              "      <td>5.0</td>\n",
              "      <td>8.0</td>\n",
              "      <td>13.0</td>\n",
              "      <td>7.0</td>\n",
              "      <td>3.0</td>\n",
              "      <td>4.0</td>\n",
              "      <td>4.0</td>\n",
              "      <td>1.0</td>\n",
              "      <td>0.0</td>\n",
              "      <td>62</td>\n",
              "    </tr>\n",
              "    <tr>\n",
              "      <th>Chevrolet</th>\n",
              "      <td>0.0</td>\n",
              "      <td>0.0</td>\n",
              "      <td>0.0</td>\n",
              "      <td>0.0</td>\n",
              "      <td>0.0</td>\n",
              "      <td>0.0</td>\n",
              "      <td>0.0</td>\n",
              "      <td>0.0</td>\n",
              "      <td>1.0</td>\n",
              "      <td>2.0</td>\n",
              "      <td>3.0</td>\n",
              "      <td>3.0</td>\n",
              "      <td>4.0</td>\n",
              "      <td>7.0</td>\n",
              "      <td>4.0</td>\n",
              "      <td>4.0</td>\n",
              "      <td>2.0</td>\n",
              "      <td>0.0</td>\n",
              "      <td>1.0</td>\n",
              "      <td>0.0</td>\n",
              "      <td>1.0</td>\n",
              "      <td>32</td>\n",
              "    </tr>\n",
              "    <tr>\n",
              "      <th>Fiat</th>\n",
              "      <td>0.0</td>\n",
              "      <td>0.0</td>\n",
              "      <td>0.0</td>\n",
              "      <td>1.0</td>\n",
              "      <td>0.0</td>\n",
              "      <td>0.0</td>\n",
              "      <td>0.0</td>\n",
              "      <td>1.0</td>\n",
              "      <td>0.0</td>\n",
              "      <td>0.0</td>\n",
              "      <td>0.0</td>\n",
              "      <td>1.0</td>\n",
              "      <td>2.0</td>\n",
              "      <td>1.0</td>\n",
              "      <td>0.0</td>\n",
              "      <td>1.0</td>\n",
              "      <td>0.0</td>\n",
              "      <td>1.0</td>\n",
              "      <td>0.0</td>\n",
              "      <td>0.0</td>\n",
              "      <td>0.0</td>\n",
              "      <td>8</td>\n",
              "    </tr>\n",
              "    <tr>\n",
              "      <th>Ford</th>\n",
              "      <td>0.0</td>\n",
              "      <td>0.0</td>\n",
              "      <td>0.0</td>\n",
              "      <td>0.0</td>\n",
              "      <td>1.0</td>\n",
              "      <td>1.0</td>\n",
              "      <td>2.0</td>\n",
              "      <td>0.0</td>\n",
              "      <td>6.0</td>\n",
              "      <td>7.0</td>\n",
              "      <td>9.0</td>\n",
              "      <td>2.0</td>\n",
              "      <td>12.0</td>\n",
              "      <td>7.0</td>\n",
              "      <td>2.0</td>\n",
              "      <td>7.0</td>\n",
              "      <td>4.0</td>\n",
              "      <td>4.0</td>\n",
              "      <td>0.0</td>\n",
              "      <td>2.0</td>\n",
              "      <td>0.0</td>\n",
              "      <td>66</td>\n",
              "    </tr>\n",
              "    <tr>\n",
              "      <th>Honda</th>\n",
              "      <td>0.0</td>\n",
              "      <td>0.0</td>\n",
              "      <td>0.0</td>\n",
              "      <td>1.0</td>\n",
              "      <td>1.0</td>\n",
              "      <td>0.0</td>\n",
              "      <td>4.0</td>\n",
              "      <td>5.0</td>\n",
              "      <td>7.0</td>\n",
              "      <td>11.0</td>\n",
              "      <td>12.0</td>\n",
              "      <td>10.0</td>\n",
              "      <td>8.0</td>\n",
              "      <td>6.0</td>\n",
              "      <td>11.0</td>\n",
              "      <td>7.0</td>\n",
              "      <td>17.0</td>\n",
              "      <td>3.0</td>\n",
              "      <td>2.0</td>\n",
              "      <td>3.0</td>\n",
              "      <td>0.0</td>\n",
              "      <td>108</td>\n",
              "    </tr>\n",
              "    <tr>\n",
              "      <th>Hyundai</th>\n",
              "      <td>0.0</td>\n",
              "      <td>0.0</td>\n",
              "      <td>0.0</td>\n",
              "      <td>2.0</td>\n",
              "      <td>2.0</td>\n",
              "      <td>2.0</td>\n",
              "      <td>1.0</td>\n",
              "      <td>10.0</td>\n",
              "      <td>7.0</td>\n",
              "      <td>10.0</td>\n",
              "      <td>18.0</td>\n",
              "      <td>17.0</td>\n",
              "      <td>22.0</td>\n",
              "      <td>16.0</td>\n",
              "      <td>22.0</td>\n",
              "      <td>17.0</td>\n",
              "      <td>15.0</td>\n",
              "      <td>22.0</td>\n",
              "      <td>6.0</td>\n",
              "      <td>5.0</td>\n",
              "      <td>1.0</td>\n",
              "      <td>195</td>\n",
              "    </tr>\n",
              "    <tr>\n",
              "      <th>Jaguar</th>\n",
              "      <td>0.0</td>\n",
              "      <td>0.0</td>\n",
              "      <td>0.0</td>\n",
              "      <td>0.0</td>\n",
              "      <td>0.0</td>\n",
              "      <td>0.0</td>\n",
              "      <td>0.0</td>\n",
              "      <td>0.0</td>\n",
              "      <td>0.0</td>\n",
              "      <td>0.0</td>\n",
              "      <td>0.0</td>\n",
              "      <td>0.0</td>\n",
              "      <td>0.0</td>\n",
              "      <td>1.0</td>\n",
              "      <td>0.0</td>\n",
              "      <td>1.0</td>\n",
              "      <td>1.0</td>\n",
              "      <td>1.0</td>\n",
              "      <td>0.0</td>\n",
              "      <td>0.0</td>\n",
              "      <td>0.0</td>\n",
              "      <td>4</td>\n",
              "    </tr>\n",
              "    <tr>\n",
              "      <th>Lamborghini</th>\n",
              "      <td>0.0</td>\n",
              "      <td>0.0</td>\n",
              "      <td>0.0</td>\n",
              "      <td>0.0</td>\n",
              "      <td>0.0</td>\n",
              "      <td>0.0</td>\n",
              "      <td>0.0</td>\n",
              "      <td>0.0</td>\n",
              "      <td>0.0</td>\n",
              "      <td>0.0</td>\n",
              "      <td>0.0</td>\n",
              "      <td>0.0</td>\n",
              "      <td>0.0</td>\n",
              "      <td>1.0</td>\n",
              "      <td>0.0</td>\n",
              "      <td>0.0</td>\n",
              "      <td>0.0</td>\n",
              "      <td>0.0</td>\n",
              "      <td>0.0</td>\n",
              "      <td>0.0</td>\n",
              "      <td>0.0</td>\n",
              "      <td>1</td>\n",
              "    </tr>\n",
              "    <tr>\n",
              "      <th>Land</th>\n",
              "      <td>0.0</td>\n",
              "      <td>0.0</td>\n",
              "      <td>0.0</td>\n",
              "      <td>0.0</td>\n",
              "      <td>0.0</td>\n",
              "      <td>1.0</td>\n",
              "      <td>0.0</td>\n",
              "      <td>0.0</td>\n",
              "      <td>0.0</td>\n",
              "      <td>0.0</td>\n",
              "      <td>1.0</td>\n",
              "      <td>0.0</td>\n",
              "      <td>1.0</td>\n",
              "      <td>1.0</td>\n",
              "      <td>5.0</td>\n",
              "      <td>4.0</td>\n",
              "      <td>3.0</td>\n",
              "      <td>1.0</td>\n",
              "      <td>1.0</td>\n",
              "      <td>0.0</td>\n",
              "      <td>0.0</td>\n",
              "      <td>18</td>\n",
              "    </tr>\n",
              "    <tr>\n",
              "      <th>Mahindra</th>\n",
              "      <td>0.0</td>\n",
              "      <td>0.0</td>\n",
              "      <td>0.0</td>\n",
              "      <td>0.0</td>\n",
              "      <td>0.0</td>\n",
              "      <td>0.0</td>\n",
              "      <td>0.0</td>\n",
              "      <td>1.0</td>\n",
              "      <td>1.0</td>\n",
              "      <td>1.0</td>\n",
              "      <td>2.0</td>\n",
              "      <td>0.0</td>\n",
              "      <td>3.0</td>\n",
              "      <td>12.0</td>\n",
              "      <td>9.0</td>\n",
              "      <td>9.0</td>\n",
              "      <td>2.0</td>\n",
              "      <td>6.0</td>\n",
              "      <td>1.0</td>\n",
              "      <td>2.0</td>\n",
              "      <td>1.0</td>\n",
              "      <td>50</td>\n",
              "    </tr>\n",
              "    <tr>\n",
              "      <th>Maruti</th>\n",
              "      <td>3.0</td>\n",
              "      <td>1.0</td>\n",
              "      <td>1.0</td>\n",
              "      <td>0.0</td>\n",
              "      <td>4.0</td>\n",
              "      <td>5.0</td>\n",
              "      <td>7.0</td>\n",
              "      <td>3.0</td>\n",
              "      <td>13.0</td>\n",
              "      <td>15.0</td>\n",
              "      <td>19.0</td>\n",
              "      <td>16.0</td>\n",
              "      <td>16.0</td>\n",
              "      <td>14.0</td>\n",
              "      <td>16.0</td>\n",
              "      <td>12.0</td>\n",
              "      <td>16.0</td>\n",
              "      <td>9.0</td>\n",
              "      <td>5.0</td>\n",
              "      <td>1.0</td>\n",
              "      <td>1.0</td>\n",
              "      <td>177</td>\n",
              "    </tr>\n",
              "    <tr>\n",
              "      <th>Mercedes-Benz</th>\n",
              "      <td>0.0</td>\n",
              "      <td>0.0</td>\n",
              "      <td>0.0</td>\n",
              "      <td>0.0</td>\n",
              "      <td>0.0</td>\n",
              "      <td>0.0</td>\n",
              "      <td>1.0</td>\n",
              "      <td>1.0</td>\n",
              "      <td>1.0</td>\n",
              "      <td>2.0</td>\n",
              "      <td>2.0</td>\n",
              "      <td>7.0</td>\n",
              "      <td>5.0</td>\n",
              "      <td>18.0</td>\n",
              "      <td>2.0</td>\n",
              "      <td>8.0</td>\n",
              "      <td>8.0</td>\n",
              "      <td>0.0</td>\n",
              "      <td>1.0</td>\n",
              "      <td>1.0</td>\n",
              "      <td>0.0</td>\n",
              "      <td>57</td>\n",
              "    </tr>\n",
              "    <tr>\n",
              "      <th>Mini</th>\n",
              "      <td>0.0</td>\n",
              "      <td>0.0</td>\n",
              "      <td>0.0</td>\n",
              "      <td>0.0</td>\n",
              "      <td>0.0</td>\n",
              "      <td>0.0</td>\n",
              "      <td>0.0</td>\n",
              "      <td>0.0</td>\n",
              "      <td>0.0</td>\n",
              "      <td>0.0</td>\n",
              "      <td>0.0</td>\n",
              "      <td>0.0</td>\n",
              "      <td>0.0</td>\n",
              "      <td>0.0</td>\n",
              "      <td>2.0</td>\n",
              "      <td>0.0</td>\n",
              "      <td>2.0</td>\n",
              "      <td>1.0</td>\n",
              "      <td>0.0</td>\n",
              "      <td>1.0</td>\n",
              "      <td>0.0</td>\n",
              "      <td>6</td>\n",
              "    </tr>\n",
              "    <tr>\n",
              "      <th>Mitsubishi</th>\n",
              "      <td>0.0</td>\n",
              "      <td>0.0</td>\n",
              "      <td>0.0</td>\n",
              "      <td>1.0</td>\n",
              "      <td>0.0</td>\n",
              "      <td>1.0</td>\n",
              "      <td>0.0</td>\n",
              "      <td>0.0</td>\n",
              "      <td>0.0</td>\n",
              "      <td>1.0</td>\n",
              "      <td>1.0</td>\n",
              "      <td>0.0</td>\n",
              "      <td>2.0</td>\n",
              "      <td>0.0</td>\n",
              "      <td>1.0</td>\n",
              "      <td>0.0</td>\n",
              "      <td>1.0</td>\n",
              "      <td>0.0</td>\n",
              "      <td>0.0</td>\n",
              "      <td>0.0</td>\n",
              "      <td>0.0</td>\n",
              "      <td>8</td>\n",
              "    </tr>\n",
              "    <tr>\n",
              "      <th>Nissan</th>\n",
              "      <td>0.0</td>\n",
              "      <td>0.0</td>\n",
              "      <td>0.0</td>\n",
              "      <td>0.0</td>\n",
              "      <td>0.0</td>\n",
              "      <td>0.0</td>\n",
              "      <td>0.0</td>\n",
              "      <td>0.0</td>\n",
              "      <td>0.0</td>\n",
              "      <td>0.0</td>\n",
              "      <td>1.0</td>\n",
              "      <td>0.0</td>\n",
              "      <td>2.0</td>\n",
              "      <td>3.0</td>\n",
              "      <td>2.0</td>\n",
              "      <td>4.0</td>\n",
              "      <td>0.0</td>\n",
              "      <td>4.0</td>\n",
              "      <td>0.0</td>\n",
              "      <td>0.0</td>\n",
              "      <td>0.0</td>\n",
              "      <td>16</td>\n",
              "    </tr>\n",
              "    <tr>\n",
              "      <th>Porsche</th>\n",
              "      <td>0.0</td>\n",
              "      <td>0.0</td>\n",
              "      <td>0.0</td>\n",
              "      <td>0.0</td>\n",
              "      <td>0.0</td>\n",
              "      <td>0.0</td>\n",
              "      <td>0.0</td>\n",
              "      <td>0.0</td>\n",
              "      <td>0.0</td>\n",
              "      <td>0.0</td>\n",
              "      <td>0.0</td>\n",
              "      <td>0.0</td>\n",
              "      <td>2.0</td>\n",
              "      <td>0.0</td>\n",
              "      <td>0.0</td>\n",
              "      <td>3.0</td>\n",
              "      <td>0.0</td>\n",
              "      <td>0.0</td>\n",
              "      <td>0.0</td>\n",
              "      <td>0.0</td>\n",
              "      <td>0.0</td>\n",
              "      <td>5</td>\n",
              "    </tr>\n",
              "    <tr>\n",
              "      <th>Renault</th>\n",
              "      <td>0.0</td>\n",
              "      <td>0.0</td>\n",
              "      <td>0.0</td>\n",
              "      <td>0.0</td>\n",
              "      <td>0.0</td>\n",
              "      <td>0.0</td>\n",
              "      <td>0.0</td>\n",
              "      <td>0.0</td>\n",
              "      <td>0.0</td>\n",
              "      <td>0.0</td>\n",
              "      <td>0.0</td>\n",
              "      <td>0.0</td>\n",
              "      <td>0.0</td>\n",
              "      <td>1.0</td>\n",
              "      <td>2.0</td>\n",
              "      <td>6.0</td>\n",
              "      <td>1.0</td>\n",
              "      <td>3.0</td>\n",
              "      <td>2.0</td>\n",
              "      <td>2.0</td>\n",
              "      <td>1.0</td>\n",
              "      <td>18</td>\n",
              "    </tr>\n",
              "    <tr>\n",
              "      <th>Skoda</th>\n",
              "      <td>0.0</td>\n",
              "      <td>0.0</td>\n",
              "      <td>0.0</td>\n",
              "      <td>0.0</td>\n",
              "      <td>1.0</td>\n",
              "      <td>0.0</td>\n",
              "      <td>0.0</td>\n",
              "      <td>1.0</td>\n",
              "      <td>2.0</td>\n",
              "      <td>1.0</td>\n",
              "      <td>2.0</td>\n",
              "      <td>6.0</td>\n",
              "      <td>4.0</td>\n",
              "      <td>5.0</td>\n",
              "      <td>3.0</td>\n",
              "      <td>1.0</td>\n",
              "      <td>1.0</td>\n",
              "      <td>1.0</td>\n",
              "      <td>0.0</td>\n",
              "      <td>0.0</td>\n",
              "      <td>0.0</td>\n",
              "      <td>28</td>\n",
              "    </tr>\n",
              "    <tr>\n",
              "      <th>Smart</th>\n",
              "      <td>0.0</td>\n",
              "      <td>0.0</td>\n",
              "      <td>0.0</td>\n",
              "      <td>0.0</td>\n",
              "      <td>0.0</td>\n",
              "      <td>0.0</td>\n",
              "      <td>0.0</td>\n",
              "      <td>0.0</td>\n",
              "      <td>0.0</td>\n",
              "      <td>0.0</td>\n",
              "      <td>1.0</td>\n",
              "      <td>0.0</td>\n",
              "      <td>0.0</td>\n",
              "      <td>0.0</td>\n",
              "      <td>0.0</td>\n",
              "      <td>0.0</td>\n",
              "      <td>0.0</td>\n",
              "      <td>0.0</td>\n",
              "      <td>0.0</td>\n",
              "      <td>0.0</td>\n",
              "      <td>0.0</td>\n",
              "      <td>1</td>\n",
              "    </tr>\n",
              "    <tr>\n",
              "      <th>Tata</th>\n",
              "      <td>0.0</td>\n",
              "      <td>0.0</td>\n",
              "      <td>1.0</td>\n",
              "      <td>0.0</td>\n",
              "      <td>0.0</td>\n",
              "      <td>0.0</td>\n",
              "      <td>1.0</td>\n",
              "      <td>2.0</td>\n",
              "      <td>2.0</td>\n",
              "      <td>3.0</td>\n",
              "      <td>4.0</td>\n",
              "      <td>3.0</td>\n",
              "      <td>2.0</td>\n",
              "      <td>6.0</td>\n",
              "      <td>7.0</td>\n",
              "      <td>3.0</td>\n",
              "      <td>5.0</td>\n",
              "      <td>4.0</td>\n",
              "      <td>3.0</td>\n",
              "      <td>2.0</td>\n",
              "      <td>0.0</td>\n",
              "      <td>48</td>\n",
              "    </tr>\n",
              "    <tr>\n",
              "      <th>Toyota</th>\n",
              "      <td>0.0</td>\n",
              "      <td>0.0</td>\n",
              "      <td>0.0</td>\n",
              "      <td>1.0</td>\n",
              "      <td>1.0</td>\n",
              "      <td>1.0</td>\n",
              "      <td>4.0</td>\n",
              "      <td>3.0</td>\n",
              "      <td>3.0</td>\n",
              "      <td>5.0</td>\n",
              "      <td>5.0</td>\n",
              "      <td>5.0</td>\n",
              "      <td>11.0</td>\n",
              "      <td>9.0</td>\n",
              "      <td>6.0</td>\n",
              "      <td>10.0</td>\n",
              "      <td>5.0</td>\n",
              "      <td>8.0</td>\n",
              "      <td>3.0</td>\n",
              "      <td>0.0</td>\n",
              "      <td>1.0</td>\n",
              "      <td>81</td>\n",
              "    </tr>\n",
              "    <tr>\n",
              "      <th>Volkswagen</th>\n",
              "      <td>0.0</td>\n",
              "      <td>0.0</td>\n",
              "      <td>0.0</td>\n",
              "      <td>0.0</td>\n",
              "      <td>0.0</td>\n",
              "      <td>0.0</td>\n",
              "      <td>0.0</td>\n",
              "      <td>0.0</td>\n",
              "      <td>0.0</td>\n",
              "      <td>1.0</td>\n",
              "      <td>0.0</td>\n",
              "      <td>1.0</td>\n",
              "      <td>4.0</td>\n",
              "      <td>10.0</td>\n",
              "      <td>6.0</td>\n",
              "      <td>9.0</td>\n",
              "      <td>8.0</td>\n",
              "      <td>4.0</td>\n",
              "      <td>2.0</td>\n",
              "      <td>2.0</td>\n",
              "      <td>1.0</td>\n",
              "      <td>48</td>\n",
              "    </tr>\n",
              "    <tr>\n",
              "      <th>Volvo</th>\n",
              "      <td>0.0</td>\n",
              "      <td>0.0</td>\n",
              "      <td>0.0</td>\n",
              "      <td>0.0</td>\n",
              "      <td>0.0</td>\n",
              "      <td>0.0</td>\n",
              "      <td>0.0</td>\n",
              "      <td>0.0</td>\n",
              "      <td>0.0</td>\n",
              "      <td>0.0</td>\n",
              "      <td>0.0</td>\n",
              "      <td>0.0</td>\n",
              "      <td>1.0</td>\n",
              "      <td>0.0</td>\n",
              "      <td>1.0</td>\n",
              "      <td>0.0</td>\n",
              "      <td>1.0</td>\n",
              "      <td>2.0</td>\n",
              "      <td>0.0</td>\n",
              "      <td>0.0</td>\n",
              "      <td>0.0</td>\n",
              "      <td>5</td>\n",
              "    </tr>\n",
              "    <tr>\n",
              "      <th>All</th>\n",
              "      <td>3.0</td>\n",
              "      <td>1.0</td>\n",
              "      <td>2.0</td>\n",
              "      <td>6.0</td>\n",
              "      <td>10.0</td>\n",
              "      <td>12.0</td>\n",
              "      <td>20.0</td>\n",
              "      <td>27.0</td>\n",
              "      <td>44.0</td>\n",
              "      <td>60.0</td>\n",
              "      <td>93.0</td>\n",
              "      <td>82.0</td>\n",
              "      <td>106.0</td>\n",
              "      <td>130.0</td>\n",
              "      <td>121.0</td>\n",
              "      <td>121.0</td>\n",
              "      <td>104.0</td>\n",
              "      <td>83.0</td>\n",
              "      <td>34.0</td>\n",
              "      <td>24.0</td>\n",
              "      <td>7.0</td>\n",
              "      <td>1090</td>\n",
              "    </tr>\n",
              "  </tbody>\n",
              "</table>\n",
              "</div>"
            ],
            "text/plain": [
              "Year           1998  1999  2000  2001  2002  ...  2015  2016  2017  2018   All\n",
              "Name                                         ...                              \n",
              "Ambassador      0.0   0.0   0.0   0.0   0.0  ...   0.0   0.0   0.0   0.0     1\n",
              "Audi            0.0   0.0   0.0   0.0   0.0  ...   5.0   3.0   2.0   0.0    47\n",
              "BMW             0.0   0.0   0.0   0.0   0.0  ...   4.0   4.0   1.0   0.0    62\n",
              "Chevrolet       0.0   0.0   0.0   0.0   0.0  ...   0.0   1.0   0.0   1.0    32\n",
              "Fiat            0.0   0.0   0.0   1.0   0.0  ...   1.0   0.0   0.0   0.0     8\n",
              "Ford            0.0   0.0   0.0   0.0   1.0  ...   4.0   0.0   2.0   0.0    66\n",
              "Honda           0.0   0.0   0.0   1.0   1.0  ...   3.0   2.0   3.0   0.0   108\n",
              "Hyundai         0.0   0.0   0.0   2.0   2.0  ...  22.0   6.0   5.0   1.0   195\n",
              "Jaguar          0.0   0.0   0.0   0.0   0.0  ...   1.0   0.0   0.0   0.0     4\n",
              "Lamborghini     0.0   0.0   0.0   0.0   0.0  ...   0.0   0.0   0.0   0.0     1\n",
              "Land            0.0   0.0   0.0   0.0   0.0  ...   1.0   1.0   0.0   0.0    18\n",
              "Mahindra        0.0   0.0   0.0   0.0   0.0  ...   6.0   1.0   2.0   1.0    50\n",
              "Maruti          3.0   1.0   1.0   0.0   4.0  ...   9.0   5.0   1.0   1.0   177\n",
              "Mercedes-Benz   0.0   0.0   0.0   0.0   0.0  ...   0.0   1.0   1.0   0.0    57\n",
              "Mini            0.0   0.0   0.0   0.0   0.0  ...   1.0   0.0   1.0   0.0     6\n",
              "Mitsubishi      0.0   0.0   0.0   1.0   0.0  ...   0.0   0.0   0.0   0.0     8\n",
              "Nissan          0.0   0.0   0.0   0.0   0.0  ...   4.0   0.0   0.0   0.0    16\n",
              "Porsche         0.0   0.0   0.0   0.0   0.0  ...   0.0   0.0   0.0   0.0     5\n",
              "Renault         0.0   0.0   0.0   0.0   0.0  ...   3.0   2.0   2.0   1.0    18\n",
              "Skoda           0.0   0.0   0.0   0.0   1.0  ...   1.0   0.0   0.0   0.0    28\n",
              "Smart           0.0   0.0   0.0   0.0   0.0  ...   0.0   0.0   0.0   0.0     1\n",
              "Tata            0.0   0.0   1.0   0.0   0.0  ...   4.0   3.0   2.0   0.0    48\n",
              "Toyota          0.0   0.0   0.0   1.0   1.0  ...   8.0   3.0   0.0   1.0    81\n",
              "Volkswagen      0.0   0.0   0.0   0.0   0.0  ...   4.0   2.0   2.0   1.0    48\n",
              "Volvo           0.0   0.0   0.0   0.0   0.0  ...   2.0   0.0   0.0   0.0     5\n",
              "All             3.0   1.0   2.0   6.0  10.0  ...  83.0  34.0  24.0   7.0  1090\n",
              "\n",
              "[26 rows x 22 columns]"
            ]
          },
          "metadata": {
            "tags": []
          },
          "execution_count": 144
        }
      ]
    },
    {
      "cell_type": "code",
      "metadata": {
        "id": "7Xie6MiyDqDT",
        "colab": {
          "base_uri": "https://localhost:8080/",
          "height": 606
        },
        "outputId": "2fb99f90-6ab5-47e0-d9b3-0e888e794de1"
      },
      "source": [
        "# Plot with heatmap\n",
        "plt.figure(figsize=(16,10))\n",
        "sns.heatmap(mob_bekas_year.drop('All', axis=1).drop('All', axis=0), annot=True, cmap='BuPu')\n",
        "plt.xlabel('Year')\n",
        "plt.ylabel('Brand')\n",
        "plt.show()"
      ],
      "execution_count": null,
      "outputs": [
        {
          "output_type": "display_data",
          "data": {
            "image/png": "[encoded data removed]",
            "text/plain": [
              "<Figure size 1152x720 with 2 Axes>"
            ]
          },
          "metadata": {
            "tags": [],
            "needs_background": "light"
          }
        }
      ]
    },
    {
      "cell_type": "markdown",
      "metadata": {
        "id": "3kl6JAY3Nesd"
      },
      "source": [
        "It's too wide and hard to interpret"
      ]
    },
    {
      "cell_type": "code",
      "metadata": {
        "id": "LRbte-WuHjUf"
      },
      "source": [
        "# Binning Year\n",
        "bins = np.array([1997, 2002, 2007, 2012, 2018])\n",
        "mob_bekas_reindex = mob_bekas_group.reset_index(name='Total')\n",
        "mob_bekas_reindex['Year_Range'] = pd.cut(mob_bekas_reindex.Year, bins=bins, labels=['1998-2002', '2003-2007', '2008-2012', '2013-2018'])"
      ],
      "execution_count": null,
      "outputs": []
    },
    {
      "cell_type": "code",
      "metadata": {
        "id": "rwPSfGohId52",
        "colab": {
          "base_uri": "https://localhost:8080/",
          "height": 424
        },
        "outputId": "9caf349a-fb5a-4d2e-e5b9-9c380615f4de"
      },
      "source": [
        "mob_bekas_reindex.sort_values('Year')"
      ],
      "execution_count": null,
      "outputs": [
        {
          "output_type": "execute_result",
          "data": {
            "text/html": [
              "<div>\n",
              "<style scoped>\n",
              "    .dataframe tbody tr th:only-of-type {\n",
              "        vertical-align: middle;\n",
              "    }\n",
              "\n",
              "    .dataframe tbody tr th {\n",
              "        vertical-align: top;\n",
              "    }\n",
              "\n",
              "    .dataframe thead th {\n",
              "        text-align: right;\n",
              "    }\n",
              "</style>\n",
              "<table border=\"1\" class=\"dataframe\">\n",
              "  <thead>\n",
              "    <tr style=\"text-align: right;\">\n",
              "      <th></th>\n",
              "      <th>Name</th>\n",
              "      <th>Year</th>\n",
              "      <th>Total</th>\n",
              "      <th>Year_Range</th>\n",
              "    </tr>\n",
              "  </thead>\n",
              "  <tbody>\n",
              "    <tr>\n",
              "      <th>115</th>\n",
              "      <td>Maruti</td>\n",
              "      <td>1998</td>\n",
              "      <td>3</td>\n",
              "      <td>1998-2002</td>\n",
              "    </tr>\n",
              "    <tr>\n",
              "      <th>116</th>\n",
              "      <td>Maruti</td>\n",
              "      <td>1999</td>\n",
              "      <td>1</td>\n",
              "      <td>1998-2002</td>\n",
              "    </tr>\n",
              "    <tr>\n",
              "      <th>188</th>\n",
              "      <td>Tata</td>\n",
              "      <td>2000</td>\n",
              "      <td>1</td>\n",
              "      <td>1998-2002</td>\n",
              "    </tr>\n",
              "    <tr>\n",
              "      <th>117</th>\n",
              "      <td>Maruti</td>\n",
              "      <td>2000</td>\n",
              "      <td>1</td>\n",
              "      <td>1998-2002</td>\n",
              "    </tr>\n",
              "    <tr>\n",
              "      <th>33</th>\n",
              "      <td>Fiat</td>\n",
              "      <td>2001</td>\n",
              "      <td>1</td>\n",
              "      <td>1998-2002</td>\n",
              "    </tr>\n",
              "    <tr>\n",
              "      <th>...</th>\n",
              "      <td>...</td>\n",
              "      <td>...</td>\n",
              "      <td>...</td>\n",
              "      <td>...</td>\n",
              "    </tr>\n",
              "    <tr>\n",
              "      <th>32</th>\n",
              "      <td>Chevrolet</td>\n",
              "      <td>2018</td>\n",
              "      <td>1</td>\n",
              "      <td>2013-2018</td>\n",
              "    </tr>\n",
              "    <tr>\n",
              "      <th>230</th>\n",
              "      <td>Volkswagen</td>\n",
              "      <td>2018</td>\n",
              "      <td>1</td>\n",
              "      <td>2013-2018</td>\n",
              "    </tr>\n",
              "    <tr>\n",
              "      <th>219</th>\n",
              "      <td>Toyota</td>\n",
              "      <td>2018</td>\n",
              "      <td>1</td>\n",
              "      <td>2013-2018</td>\n",
              "    </tr>\n",
              "    <tr>\n",
              "      <th>174</th>\n",
              "      <td>Renault</td>\n",
              "      <td>2018</td>\n",
              "      <td>1</td>\n",
              "      <td>2013-2018</td>\n",
              "    </tr>\n",
              "    <tr>\n",
              "      <th>87</th>\n",
              "      <td>Hyundai</td>\n",
              "      <td>2018</td>\n",
              "      <td>1</td>\n",
              "      <td>2013-2018</td>\n",
              "    </tr>\n",
              "  </tbody>\n",
              "</table>\n",
              "<p>235 rows × 4 columns</p>\n",
              "</div>"
            ],
            "text/plain": [
              "           Name  Year  Total Year_Range\n",
              "115      Maruti  1998      3  1998-2002\n",
              "116      Maruti  1999      1  1998-2002\n",
              "188        Tata  2000      1  1998-2002\n",
              "117      Maruti  2000      1  1998-2002\n",
              "33         Fiat  2001      1  1998-2002\n",
              "..          ...   ...    ...        ...\n",
              "32    Chevrolet  2018      1  2013-2018\n",
              "230  Volkswagen  2018      1  2013-2018\n",
              "219      Toyota  2018      1  2013-2018\n",
              "174     Renault  2018      1  2013-2018\n",
              "87      Hyundai  2018      1  2013-2018\n",
              "\n",
              "[235 rows x 4 columns]"
            ]
          },
          "metadata": {
            "tags": []
          },
          "execution_count": 147
        }
      ]
    },
    {
      "cell_type": "code",
      "metadata": {
        "id": "PSrglzA6KaRk"
      },
      "source": [
        "# Re index & order to see clearly the distribution\n",
        "mob_bekas_reindex = pd.pivot_table(mob_bekas_reindex, values ='Total', columns='Year_Range', index='Name', aggfunc=sum, margins=True)\n",
        "\n",
        "# Fill NaN value with 0 and transform dtype into integer\n",
        "mob_bekas_reindex.iloc[0:-1] = mob_bekas_reindex.iloc[0:-1].fillna(0).astype(int)\n"
      ],
      "execution_count": null,
      "outputs": []
    },
    {
      "cell_type": "code",
      "metadata": {
        "id": "9CaB65sPKgl7",
        "colab": {
          "base_uri": "https://localhost:8080/",
          "height": 896
        },
        "outputId": "ee03435b-edbf-4f63-9737-0623c5a2e12c"
      },
      "source": [
        "mob_bekas_reindex"
      ],
      "execution_count": null,
      "outputs": [
        {
          "output_type": "execute_result",
          "data": {
            "text/html": [
              "<div>\n",
              "<style scoped>\n",
              "    .dataframe tbody tr th:only-of-type {\n",
              "        vertical-align: middle;\n",
              "    }\n",
              "\n",
              "    .dataframe tbody tr th {\n",
              "        vertical-align: top;\n",
              "    }\n",
              "\n",
              "    .dataframe thead th {\n",
              "        text-align: right;\n",
              "    }\n",
              "</style>\n",
              "<table border=\"1\" class=\"dataframe\">\n",
              "  <thead>\n",
              "    <tr style=\"text-align: right;\">\n",
              "      <th>Year_Range</th>\n",
              "      <th>1998-2002</th>\n",
              "      <th>2003-2007</th>\n",
              "      <th>2008-2012</th>\n",
              "      <th>2013-2018</th>\n",
              "      <th>All</th>\n",
              "    </tr>\n",
              "    <tr>\n",
              "      <th>Name</th>\n",
              "      <th></th>\n",
              "      <th></th>\n",
              "      <th></th>\n",
              "      <th></th>\n",
              "      <th></th>\n",
              "    </tr>\n",
              "  </thead>\n",
              "  <tbody>\n",
              "    <tr>\n",
              "      <th>Ambassador</th>\n",
              "      <td>0.0</td>\n",
              "      <td>1.0</td>\n",
              "      <td>0.0</td>\n",
              "      <td>0.0</td>\n",
              "      <td>1</td>\n",
              "    </tr>\n",
              "    <tr>\n",
              "      <th>Audi</th>\n",
              "      <td>0.0</td>\n",
              "      <td>0.0</td>\n",
              "      <td>20.0</td>\n",
              "      <td>27.0</td>\n",
              "      <td>47</td>\n",
              "    </tr>\n",
              "    <tr>\n",
              "      <th>BMW</th>\n",
              "      <td>0.0</td>\n",
              "      <td>2.0</td>\n",
              "      <td>41.0</td>\n",
              "      <td>19.0</td>\n",
              "      <td>62</td>\n",
              "    </tr>\n",
              "    <tr>\n",
              "      <th>Chevrolet</th>\n",
              "      <td>0.0</td>\n",
              "      <td>3.0</td>\n",
              "      <td>21.0</td>\n",
              "      <td>8.0</td>\n",
              "      <td>32</td>\n",
              "    </tr>\n",
              "    <tr>\n",
              "      <th>Fiat</th>\n",
              "      <td>1.0</td>\n",
              "      <td>1.0</td>\n",
              "      <td>4.0</td>\n",
              "      <td>2.0</td>\n",
              "      <td>8</td>\n",
              "    </tr>\n",
              "    <tr>\n",
              "      <th>Ford</th>\n",
              "      <td>1.0</td>\n",
              "      <td>16.0</td>\n",
              "      <td>32.0</td>\n",
              "      <td>17.0</td>\n",
              "      <td>66</td>\n",
              "    </tr>\n",
              "    <tr>\n",
              "      <th>Honda</th>\n",
              "      <td>2.0</td>\n",
              "      <td>27.0</td>\n",
              "      <td>47.0</td>\n",
              "      <td>32.0</td>\n",
              "      <td>108</td>\n",
              "    </tr>\n",
              "    <tr>\n",
              "      <th>Hyundai</th>\n",
              "      <td>4.0</td>\n",
              "      <td>30.0</td>\n",
              "      <td>95.0</td>\n",
              "      <td>66.0</td>\n",
              "      <td>195</td>\n",
              "    </tr>\n",
              "    <tr>\n",
              "      <th>Jaguar</th>\n",
              "      <td>0.0</td>\n",
              "      <td>0.0</td>\n",
              "      <td>1.0</td>\n",
              "      <td>3.0</td>\n",
              "      <td>4</td>\n",
              "    </tr>\n",
              "    <tr>\n",
              "      <th>Lamborghini</th>\n",
              "      <td>0.0</td>\n",
              "      <td>0.0</td>\n",
              "      <td>1.0</td>\n",
              "      <td>0.0</td>\n",
              "      <td>1</td>\n",
              "    </tr>\n",
              "    <tr>\n",
              "      <th>Land</th>\n",
              "      <td>0.0</td>\n",
              "      <td>1.0</td>\n",
              "      <td>8.0</td>\n",
              "      <td>9.0</td>\n",
              "      <td>18</td>\n",
              "    </tr>\n",
              "    <tr>\n",
              "      <th>Mahindra</th>\n",
              "      <td>0.0</td>\n",
              "      <td>3.0</td>\n",
              "      <td>26.0</td>\n",
              "      <td>21.0</td>\n",
              "      <td>50</td>\n",
              "    </tr>\n",
              "    <tr>\n",
              "      <th>Maruti</th>\n",
              "      <td>9.0</td>\n",
              "      <td>43.0</td>\n",
              "      <td>81.0</td>\n",
              "      <td>44.0</td>\n",
              "      <td>177</td>\n",
              "    </tr>\n",
              "    <tr>\n",
              "      <th>Mercedes-Benz</th>\n",
              "      <td>0.0</td>\n",
              "      <td>5.0</td>\n",
              "      <td>34.0</td>\n",
              "      <td>18.0</td>\n",
              "      <td>57</td>\n",
              "    </tr>\n",
              "    <tr>\n",
              "      <th>Mini</th>\n",
              "      <td>0.0</td>\n",
              "      <td>0.0</td>\n",
              "      <td>2.0</td>\n",
              "      <td>4.0</td>\n",
              "      <td>6</td>\n",
              "    </tr>\n",
              "    <tr>\n",
              "      <th>Mitsubishi</th>\n",
              "      <td>1.0</td>\n",
              "      <td>2.0</td>\n",
              "      <td>4.0</td>\n",
              "      <td>1.0</td>\n",
              "      <td>8</td>\n",
              "    </tr>\n",
              "    <tr>\n",
              "      <th>Nissan</th>\n",
              "      <td>0.0</td>\n",
              "      <td>0.0</td>\n",
              "      <td>8.0</td>\n",
              "      <td>8.0</td>\n",
              "      <td>16</td>\n",
              "    </tr>\n",
              "    <tr>\n",
              "      <th>Porsche</th>\n",
              "      <td>0.0</td>\n",
              "      <td>0.0</td>\n",
              "      <td>2.0</td>\n",
              "      <td>3.0</td>\n",
              "      <td>5</td>\n",
              "    </tr>\n",
              "    <tr>\n",
              "      <th>Renault</th>\n",
              "      <td>0.0</td>\n",
              "      <td>0.0</td>\n",
              "      <td>3.0</td>\n",
              "      <td>15.0</td>\n",
              "      <td>18</td>\n",
              "    </tr>\n",
              "    <tr>\n",
              "      <th>Skoda</th>\n",
              "      <td>1.0</td>\n",
              "      <td>4.0</td>\n",
              "      <td>20.0</td>\n",
              "      <td>3.0</td>\n",
              "      <td>28</td>\n",
              "    </tr>\n",
              "    <tr>\n",
              "      <th>Smart</th>\n",
              "      <td>0.0</td>\n",
              "      <td>0.0</td>\n",
              "      <td>1.0</td>\n",
              "      <td>0.0</td>\n",
              "      <td>1</td>\n",
              "    </tr>\n",
              "    <tr>\n",
              "      <th>Tata</th>\n",
              "      <td>1.0</td>\n",
              "      <td>8.0</td>\n",
              "      <td>22.0</td>\n",
              "      <td>17.0</td>\n",
              "      <td>48</td>\n",
              "    </tr>\n",
              "    <tr>\n",
              "      <th>Toyota</th>\n",
              "      <td>2.0</td>\n",
              "      <td>16.0</td>\n",
              "      <td>36.0</td>\n",
              "      <td>27.0</td>\n",
              "      <td>81</td>\n",
              "    </tr>\n",
              "    <tr>\n",
              "      <th>Volkswagen</th>\n",
              "      <td>0.0</td>\n",
              "      <td>1.0</td>\n",
              "      <td>21.0</td>\n",
              "      <td>26.0</td>\n",
              "      <td>48</td>\n",
              "    </tr>\n",
              "    <tr>\n",
              "      <th>Volvo</th>\n",
              "      <td>0.0</td>\n",
              "      <td>0.0</td>\n",
              "      <td>2.0</td>\n",
              "      <td>3.0</td>\n",
              "      <td>5</td>\n",
              "    </tr>\n",
              "    <tr>\n",
              "      <th>All</th>\n",
              "      <td>22.0</td>\n",
              "      <td>163.0</td>\n",
              "      <td>532.0</td>\n",
              "      <td>373.0</td>\n",
              "      <td>1090</td>\n",
              "    </tr>\n",
              "  </tbody>\n",
              "</table>\n",
              "</div>"
            ],
            "text/plain": [
              "Year_Range     1998-2002  2003-2007  2008-2012  2013-2018   All\n",
              "Name                                                           \n",
              "Ambassador           0.0        1.0        0.0        0.0     1\n",
              "Audi                 0.0        0.0       20.0       27.0    47\n",
              "BMW                  0.0        2.0       41.0       19.0    62\n",
              "Chevrolet            0.0        3.0       21.0        8.0    32\n",
              "Fiat                 1.0        1.0        4.0        2.0     8\n",
              "Ford                 1.0       16.0       32.0       17.0    66\n",
              "Honda                2.0       27.0       47.0       32.0   108\n",
              "Hyundai              4.0       30.0       95.0       66.0   195\n",
              "Jaguar               0.0        0.0        1.0        3.0     4\n",
              "Lamborghini          0.0        0.0        1.0        0.0     1\n",
              "Land                 0.0        1.0        8.0        9.0    18\n",
              "Mahindra             0.0        3.0       26.0       21.0    50\n",
              "Maruti               9.0       43.0       81.0       44.0   177\n",
              "Mercedes-Benz        0.0        5.0       34.0       18.0    57\n",
              "Mini                 0.0        0.0        2.0        4.0     6\n",
              "Mitsubishi           1.0        2.0        4.0        1.0     8\n",
              "Nissan               0.0        0.0        8.0        8.0    16\n",
              "Porsche              0.0        0.0        2.0        3.0     5\n",
              "Renault              0.0        0.0        3.0       15.0    18\n",
              "Skoda                1.0        4.0       20.0        3.0    28\n",
              "Smart                0.0        0.0        1.0        0.0     1\n",
              "Tata                 1.0        8.0       22.0       17.0    48\n",
              "Toyota               2.0       16.0       36.0       27.0    81\n",
              "Volkswagen           0.0        1.0       21.0       26.0    48\n",
              "Volvo                0.0        0.0        2.0        3.0     5\n",
              "All                 22.0      163.0      532.0      373.0  1090"
            ]
          },
          "metadata": {
            "tags": []
          },
          "execution_count": 149
        }
      ]
    },
    {
      "cell_type": "code",
      "metadata": {
        "id": "PP9Fk5sfKxEu",
        "colab": {
          "base_uri": "https://localhost:8080/",
          "height": 610
        },
        "outputId": "6db856f4-0a13-47b8-d58c-298a8b6b683d"
      },
      "source": [
        "# Plot with heatmap\n",
        "plt.figure(figsize=(16,10))\n",
        "sns.heatmap(mob_bekas_reindex.drop('All', axis=1), annot=True, cmap='BuPu', vmax=100, fmt='g')\n",
        "plt.xlabel('Year')\n",
        "plt.ylabel('Brand')\n",
        "plt.show()"
      ],
      "execution_count": null,
      "outputs": [
        {
          "output_type": "display_data",
          "data": {
            "image/png": "[encoded data removed]",
            "text/plain": [
              "<Figure size 1152x720 with 2 Axes>"
            ]
          },
          "metadata": {
            "tags": [],
            "needs_background": "light"
          }
        }
      ]
    },
    {
      "cell_type": "markdown",
      "metadata": {
        "id": "E5WnPtUtgHup"
      },
      "source": [
        "4. Berapa banyak mobil yang memiliki total jarak pemakaian di bawah 100.000 kilometer?"
      ]
    },
    {
      "cell_type": "code",
      "metadata": {
        "id": "rTp1J6HwhV_W"
      },
      "source": [
        "soal_4 = df['Kilometers_Driven'] < 100000"
      ],
      "execution_count": null,
      "outputs": []
    },
    {
      "cell_type": "code",
      "metadata": {
        "id": "XjiJQtBLhqxv",
        "colab": {
          "base_uri": "https://localhost:8080/",
          "height": 36
        },
        "outputId": "481f028a-bb23-4c76-8bb2-d1073f490503"
      },
      "source": [
        "soal_4[soal_4 == True].count()"
      ],
      "execution_count": null,
      "outputs": [
        {
          "output_type": "execute_result",
          "data": {
            "text/plain": [
              "5470"
            ]
          },
          "metadata": {
            "tags": []
          },
          "execution_count": 152
        }
      ]
    },
    {
      "cell_type": "markdown",
      "metadata": {
        "id": "lG1FhWQ4ix6X"
      },
      "source": [
        "5. Pada batas berapa kilometer total jarak pemakaian bisa dikategorikan sebagai rendah\n",
        "atau tinggi? Sertakan argumen yang mendukung jawaban."
      ]
    },
    {
      "cell_type": "code",
      "metadata": {
        "id": "fLnALO7Gi4rA",
        "colab": {
          "base_uri": "https://localhost:8080/",
          "height": 299
        },
        "outputId": "482416b2-6bdb-4a6e-affb-3c9ed204184c"
      },
      "source": [
        "sns.boxplot(df['Kilometers_Driven'][df['Kilometers_Driven'] < 600000], sym=\"\")"
      ],
      "execution_count": null,
      "outputs": [
        {
          "output_type": "execute_result",
          "data": {
            "text/plain": [
              "<matplotlib.axes._subplots.AxesSubplot at 0x7f45c8cb09e8>"
            ]
          },
          "metadata": {
            "tags": []
          },
          "execution_count": 153
        },
        {
          "output_type": "display_data",
          "data": {
            "image/png": "[encoded data removed]",
            "text/plain": [
              "<Figure size 432x288 with 1 Axes>"
            ]
          },
          "metadata": {
            "tags": [],
            "needs_background": "light"
          }
        }
      ]
    },
    {
      "cell_type": "code",
      "metadata": {
        "id": "ZdpgK3VwYX3S",
        "colab": {
          "base_uri": "https://localhost:8080/",
          "height": 299
        },
        "outputId": "54603749-b2b8-4cdb-bced-c802298942f4"
      },
      "source": [
        "sns.violinplot(df['Kilometers_Driven'][df['Kilometers_Driven'] < 600000])"
      ],
      "execution_count": null,
      "outputs": [
        {
          "output_type": "execute_result",
          "data": {
            "text/plain": [
              "<matplotlib.axes._subplots.AxesSubplot at 0x7f45c8d54588>"
            ]
          },
          "metadata": {
            "tags": []
          },
          "execution_count": 154
        },
        {
          "output_type": "display_data",
          "data": {
            "image/png": "[encoded data removed]",
            "text/plain": [
              "<Figure size 432x288 with 1 Axes>"
            ]
          },
          "metadata": {
            "tags": [],
            "needs_background": "light"
          }
        }
      ]
    },
    {
      "cell_type": "markdown",
      "metadata": {
        "id": "YWCwXiLejfBV"
      },
      "source": [
        "1. Rendah apabila berada di bawah IQR\n",
        "2. Tinggi apabila berada di atas IQR"
      ]
    },
    {
      "cell_type": "code",
      "metadata": {
        "id": "-CR_rCyLExeW",
        "colab": {
          "base_uri": "https://localhost:8080/",
          "height": 188
        },
        "outputId": "f0ee5eba-adba-4d29-e9b6-712f489f7d6d"
      },
      "source": [
        "round(df['Kilometers_Driven'][df['Kilometers_Driven'] < 600000].describe(), 2)"
      ],
      "execution_count": null,
      "outputs": [
        {
          "output_type": "execute_result",
          "data": {
            "text/plain": [
              "count      6015.00\n",
              "mean      57345.19\n",
              "std       34990.41\n",
              "min         171.00\n",
              "25%       34000.00\n",
              "50%       53000.00\n",
              "75%       73000.00\n",
              "max      480000.00\n",
              "Name: Kilometers_Driven, dtype: float64"
            ]
          },
          "metadata": {
            "tags": []
          },
          "execution_count": 155
        }
      ]
    },
    {
      "cell_type": "markdown",
      "metadata": {
        "id": "RjEMTdPpjpl1"
      },
      "source": [
        "6. Apakah terdapat outlier pada kolom Kilometers_Driven? Sertakan argumen yang\n",
        "mendukung jawaban."
      ]
    },
    {
      "cell_type": "code",
      "metadata": {
        "id": "JPKZFzfejuI8",
        "colab": {
          "base_uri": "https://localhost:8080/",
          "height": 188
        },
        "outputId": "96dcc10f-56f0-40be-eee6-475e97d41fd6"
      },
      "source": [
        "round(df['Kilometers_Driven'].describe()/1000, 2)"
      ],
      "execution_count": null,
      "outputs": [
        {
          "output_type": "execute_result",
          "data": {
            "text/plain": [
              "count       6.02\n",
              "mean       58.74\n",
              "std        91.27\n",
              "min         0.17\n",
              "25%        34.00\n",
              "50%        53.00\n",
              "75%        73.00\n",
              "max      6500.00\n",
              "Name: Kilometers_Driven, dtype: float64"
            ]
          },
          "metadata": {
            "tags": []
          },
          "execution_count": 156
        }
      ]
    },
    {
      "cell_type": "code",
      "metadata": {
        "id": "ZsQxCvOrjvaz"
      },
      "source": [
        "import numpy as np"
      ],
      "execution_count": null,
      "outputs": []
    },
    {
      "cell_type": "code",
      "metadata": {
        "id": "zonG0cq5kwyQ"
      },
      "source": [
        "def show_total_outliers(df, col):\n",
        "  quant = np.quantile(df[col], [0.25, 0.75])\n",
        "  IQR = quant[1] - quant[0]\n",
        "  upper_threshold = quant[1] + IQR * 1.5\n",
        "  lower_threshold = quant[0] - IQR * 1.5\n",
        "  lower_outlier = df[col] < lower_threshold\n",
        "  upper_outlier = df[col] > upper_threshold\n",
        "  return lower_outlier, upper_outlier"
      ],
      "execution_count": null,
      "outputs": []
    },
    {
      "cell_type": "code",
      "metadata": {
        "id": "G_sjKQdFk0X1",
        "colab": {
          "base_uri": "https://localhost:8080/",
          "height": 169
        },
        "outputId": "5cdee4f1-7833-44b3-fc05-160425b22359"
      },
      "source": [
        "print(\"Lower outlier :\\n{}\\n\\nUpper outlier :\\n{}\".format(show_total_outliers(df, 'Kilometers_Driven')[0].value_counts(),\n",
        "                                                          show_total_outliers(df, 'Kilometers_Driven')[1].value_counts()))\n"
      ],
      "execution_count": null,
      "outputs": [
        {
          "output_type": "stream",
          "text": [
            "Lower outlier :\n",
            "False    6019\n",
            "Name: Kilometers_Driven, dtype: int64\n",
            "\n",
            "Upper outlier :\n",
            "False    5817\n",
            "True      202\n",
            "Name: Kilometers_Driven, dtype: int64\n"
          ],
          "name": "stdout"
        }
      ]
    },
    {
      "cell_type": "code",
      "metadata": {
        "id": "DhTTTefSmAWV",
        "colab": {
          "base_uri": "https://localhost:8080/",
          "height": 299
        },
        "outputId": "2cfe2e68-135a-404b-d107-53a6a619a162"
      },
      "source": [
        "sns.boxplot(df['Kilometers_Driven'][df['Kilometers_Driven'] < 650000])"
      ],
      "execution_count": null,
      "outputs": [
        {
          "output_type": "execute_result",
          "data": {
            "text/plain": [
              "<matplotlib.axes._subplots.AxesSubplot at 0x7f45c8d3e400>"
            ]
          },
          "metadata": {
            "tags": []
          },
          "execution_count": 160
        },
        {
          "output_type": "display_data",
          "data": {
            "image/png": "[encoded data removed]",
            "text/plain": [
              "<Figure size 432x288 with 1 Axes>"
            ]
          },
          "metadata": {
            "tags": [],
            "needs_background": "light"
          }
        }
      ]
    },
    {
      "cell_type": "markdown",
      "metadata": {
        "id": "7FSn6eitn5cy"
      },
      "source": [
        "7. Apakah tahun pembuatan mobil berpengaruh terhadap total jarak pemakaian? Sertakan\n",
        "argumen yang mendukung jawaban."
      ]
    },
    {
      "cell_type": "code",
      "metadata": {
        "id": "uqJnpozLn6KV",
        "colab": {
          "base_uri": "https://localhost:8080/",
          "height": 112
        },
        "outputId": "e7a7a9ff-3a04-4067-f362-8f436c232ce9"
      },
      "source": [
        "df[['Kilometers_Driven', 'Year']].corr()"
      ],
      "execution_count": null,
      "outputs": [
        {
          "output_type": "execute_result",
          "data": {
            "text/html": [
              "<div>\n",
              "<style scoped>\n",
              "    .dataframe tbody tr th:only-of-type {\n",
              "        vertical-align: middle;\n",
              "    }\n",
              "\n",
              "    .dataframe tbody tr th {\n",
              "        vertical-align: top;\n",
              "    }\n",
              "\n",
              "    .dataframe thead th {\n",
              "        text-align: right;\n",
              "    }\n",
              "</style>\n",
              "<table border=\"1\" class=\"dataframe\">\n",
              "  <thead>\n",
              "    <tr style=\"text-align: right;\">\n",
              "      <th></th>\n",
              "      <th>Kilometers_Driven</th>\n",
              "      <th>Year</th>\n",
              "    </tr>\n",
              "  </thead>\n",
              "  <tbody>\n",
              "    <tr>\n",
              "      <th>Kilometers_Driven</th>\n",
              "      <td>1.000000</td>\n",
              "      <td>-0.173048</td>\n",
              "    </tr>\n",
              "    <tr>\n",
              "      <th>Year</th>\n",
              "      <td>-0.173048</td>\n",
              "      <td>1.000000</td>\n",
              "    </tr>\n",
              "  </tbody>\n",
              "</table>\n",
              "</div>"
            ],
            "text/plain": [
              "                   Kilometers_Driven      Year\n",
              "Kilometers_Driven           1.000000 -0.173048\n",
              "Year                       -0.173048  1.000000"
            ]
          },
          "metadata": {
            "tags": []
          },
          "execution_count": 161
        }
      ]
    },
    {
      "cell_type": "code",
      "metadata": {
        "id": "dGS9Kz3Jo82d"
      },
      "source": [
        "from sklearn.preprocessing import StandardScaler"
      ],
      "execution_count": null,
      "outputs": []
    },
    {
      "cell_type": "code",
      "metadata": {
        "id": "OPnOYmJ9pAxS"
      },
      "source": [
        "standardized = StandardScaler()\n",
        "standar_df = standardized.fit_transform(df[['Year', 'Kilometers_Driven']])"
      ],
      "execution_count": null,
      "outputs": []
    },
    {
      "cell_type": "code",
      "metadata": {
        "id": "BWvV_vxnpM2r",
        "colab": {
          "base_uri": "https://localhost:8080/",
          "height": 36
        },
        "outputId": "8fff7059-317f-4df5-b700-48f3098613fd"
      },
      "source": [
        "scaled_df = pd.DataFrame(standar_df, columns=['Year', 'Kilometers_Driven'])\n",
        "max(scaled_df['Kilometers_Driven'])"
      ],
      "execution_count": null,
      "outputs": [
        {
          "output_type": "execute_result",
          "data": {
            "text/plain": [
              "70.58045810025035"
            ]
          },
          "metadata": {
            "tags": []
          },
          "execution_count": 164
        }
      ]
    },
    {
      "cell_type": "code",
      "metadata": {
        "id": "-VjsVDo0oq-m",
        "colab": {
          "base_uri": "https://localhost:8080/",
          "height": 279
        },
        "outputId": "1b586b74-0cb3-42eb-dcc8-9823cdc80236"
      },
      "source": [
        "plt.plot(scaled_df['Year'][scaled_df['Kilometers_Driven'] < max(scaled_df['Kilometers_Driven'])], \n",
        "         scaled_df['Kilometers_Driven'][scaled_df['Kilometers_Driven'] < max(scaled_df['Kilometers_Driven'])], marker='.', linestyle='none')\n",
        "plt.xlabel('Year')\n",
        "plt.ylabel('Kilometers_Driven')\n",
        "plt.show()"
      ],
      "execution_count": null,
      "outputs": [
        {
          "output_type": "display_data",
          "data": {
            "image/png": "[encoded data removed]",
            "text/plain": [
              "<Figure size 432x288 with 1 Axes>"
            ]
          },
          "metadata": {
            "tags": [],
            "needs_background": "light"
          }
        }
      ]
    },
    {
      "cell_type": "code",
      "metadata": {
        "id": "XuMhopv6o3DZ"
      },
      "source": [
        "#Drop 202 outliers\n",
        "df_nonoutlier = scaled_df[~show_total_outliers(scaled_df, 'Kilometers_Driven')[1]]"
      ],
      "execution_count": null,
      "outputs": []
    },
    {
      "cell_type": "code",
      "metadata": {
        "id": "1jpazotL-WOE",
        "colab": {
          "base_uri": "https://localhost:8080/",
          "height": 36
        },
        "outputId": "ed91b4a5-bf91-4e6d-d2f8-b5244eac722e"
      },
      "source": [
        "print(\"Lower Outlier :\", show_total_outliers(scaled_df, 'Year')[0].value_counts()[1])"
      ],
      "execution_count": null,
      "outputs": [
        {
          "output_type": "stream",
          "text": [
            "Lower Outlier : 50\n"
          ],
          "name": "stdout"
        }
      ]
    },
    {
      "cell_type": "code",
      "metadata": {
        "id": "Q2a-5WR9-pCF",
        "colab": {
          "base_uri": "https://localhost:8080/",
          "height": 298
        },
        "outputId": "fb93d506-43f6-454b-d525-38167594f268"
      },
      "source": [
        "sns.boxplot(scaled_df['Year'])"
      ],
      "execution_count": null,
      "outputs": [
        {
          "output_type": "execute_result",
          "data": {
            "text/plain": [
              "<matplotlib.axes._subplots.AxesSubplot at 0x7f45c8ccf3c8>"
            ]
          },
          "metadata": {
            "tags": []
          },
          "execution_count": 168
        },
        {
          "output_type": "display_data",
          "data": {
            "image/png": "[encoded data removed]",
            "text/plain": [
              "<Figure size 432x288 with 1 Axes>"
            ]
          },
          "metadata": {
            "tags": [],
            "needs_background": "light"
          }
        }
      ]
    },
    {
      "cell_type": "code",
      "metadata": {
        "id": "e4rr4BdGrhn8"
      },
      "source": [
        "df_nonoutlier = df_nonoutlier[~show_total_outliers(df_nonoutlier, 'Year')[0]]"
      ],
      "execution_count": null,
      "outputs": []
    },
    {
      "cell_type": "code",
      "metadata": {
        "id": "yF2N5rc4-9fm",
        "colab": {
          "base_uri": "https://localhost:8080/",
          "height": 36
        },
        "outputId": "5250df8f-edbc-4cc2-a9f6-7e487b7b0d72"
      },
      "source": [
        "df_nonoutlier.shape"
      ],
      "execution_count": null,
      "outputs": [
        {
          "output_type": "execute_result",
          "data": {
            "text/plain": [
              "(5696, 2)"
            ]
          },
          "metadata": {
            "tags": []
          },
          "execution_count": 170
        }
      ]
    },
    {
      "cell_type": "markdown",
      "metadata": {
        "id": "SrikYtov69Qj"
      },
      "source": [
        "###Distribution Treatment"
      ]
    },
    {
      "cell_type": "code",
      "metadata": {
        "id": "TASjZTLc-BOD",
        "colab": {
          "base_uri": "https://localhost:8080/",
          "height": 302
        },
        "outputId": "0b66ec73-7a2e-422f-c975-047bda5565cd"
      },
      "source": [
        "# PMF\n",
        "sns.distplot(df_nonoutlier['Kilometers_Driven'])"
      ],
      "execution_count": null,
      "outputs": [
        {
          "output_type": "execute_result",
          "data": {
            "text/plain": [
              "<matplotlib.axes._subplots.AxesSubplot at 0x7f45c9171f98>"
            ]
          },
          "metadata": {
            "tags": []
          },
          "execution_count": 171
        },
        {
          "output_type": "display_data",
          "data": {
            "image/png": "[encoded data removed]",
            "text/plain": [
              "<Figure size 432x288 with 1 Axes>"
            ]
          },
          "metadata": {
            "tags": [],
            "needs_background": "light"
          }
        }
      ]
    },
    {
      "cell_type": "code",
      "metadata": {
        "id": "Hnr1no1yCawK",
        "colab": {
          "base_uri": "https://localhost:8080/",
          "height": 298
        },
        "outputId": "5a00d484-e6d0-4fcd-cd56-7fb09df1d60b"
      },
      "source": [
        "sns.distplot(df_nonoutlier['Year'])"
      ],
      "execution_count": null,
      "outputs": [
        {
          "output_type": "execute_result",
          "data": {
            "text/plain": [
              "<matplotlib.axes._subplots.AxesSubplot at 0x7f45c8f350b8>"
            ]
          },
          "metadata": {
            "tags": []
          },
          "execution_count": 172
        },
        {
          "output_type": "display_data",
          "data": {
            "image/png": "[encoded data removed]",
            "text/plain": [
              "<Figure size 432x288 with 1 Axes>"
            ]
          },
          "metadata": {
            "tags": [],
            "needs_background": "light"
          }
        }
      ]
    },
    {
      "cell_type": "markdown",
      "metadata": {
        "id": "MfHM42_m_ipg"
      },
      "source": [
        "Hypothesis = Little skewed to the right"
      ]
    },
    {
      "cell_type": "markdown",
      "metadata": {
        "id": "vyKrB6lG8im0"
      },
      "source": [
        "ECDF DISTRIBUTION EVALUATION"
      ]
    },
    {
      "cell_type": "code",
      "metadata": {
        "id": "uTpJB9mr7HMb"
      },
      "source": [
        "def ecdf(data):\n",
        "    \"\"\"Compute ECDF for a one-dimensional array of measurements.\"\"\"\n",
        "    # Number of data points: n\n",
        "    n = len(data)\n",
        "\n",
        "    # x-data for the ECDF: x\n",
        "    x = np.sort(data)\n",
        "\n",
        "    # y-data for the ECDF: y\n",
        "    y = np.arange(1, n+1) / n\n",
        "\n",
        "    return x, y\n"
      ],
      "execution_count": null,
      "outputs": []
    },
    {
      "cell_type": "code",
      "metadata": {
        "id": "W8VWSSUs7V7E"
      },
      "source": [
        "#For Kilometers_Driven\n",
        "x, y = ecdf(df_nonoutlier['Kilometers_Driven'])\n",
        "samples = np.random.normal(np.mean(df_nonoutlier['Kilometers_Driven']), np.std(df_nonoutlier['Kilometers_Driven']), 10000)\n",
        "x_theor, y_theor = ecdf(samples)"
      ],
      "execution_count": null,
      "outputs": []
    },
    {
      "cell_type": "code",
      "metadata": {
        "id": "JU3QrxxC7lGR",
        "colab": {
          "base_uri": "https://localhost:8080/",
          "height": 517
        },
        "outputId": "7449a296-557b-4b71-f4c2-641250aada32"
      },
      "source": [
        "plt.figure(figsize=(12, 8))\n",
        "plt.plot(x, y, marker='.', linestyle='none', label='Distribusi Sample')\n",
        "plt.plot(x_theor, y_theor, label='Parameter Distribusi Normal')\n",
        "plt.xlabel('Kilometers_Driven')\n",
        "plt.ylabel('CDF Distribution')\n",
        "plt.legend()"
      ],
      "execution_count": null,
      "outputs": [
        {
          "output_type": "execute_result",
          "data": {
            "text/plain": [
              "<matplotlib.legend.Legend at 0x7f45c8e7c668>"
            ]
          },
          "metadata": {
            "tags": []
          },
          "execution_count": 175
        },
        {
          "output_type": "display_data",
          "data": {
            "image/png": "[encoded data removed]",
            "text/plain": [
              "<Figure size 864x576 with 1 Axes>"
            ]
          },
          "metadata": {
            "tags": [],
            "needs_background": "light"
          }
        }
      ]
    },
    {
      "cell_type": "code",
      "metadata": {
        "id": "RsU2yuq9Ako9",
        "colab": {
          "base_uri": "https://localhost:8080/",
          "height": 36
        },
        "outputId": "e3122dcf-e18c-48c0-ceb6-8510850c8f32"
      },
      "source": [
        "df_nonoutlier['Kilometers_Driven'].skew()"
      ],
      "execution_count": null,
      "outputs": [
        {
          "output_type": "execute_result",
          "data": {
            "text/plain": [
              "0.4325217195099588"
            ]
          },
          "metadata": {
            "tags": []
          },
          "execution_count": 176
        }
      ]
    },
    {
      "cell_type": "markdown",
      "metadata": {
        "id": "zCNXVCQK8eKT"
      },
      "source": [
        "ALMOST NORMAL !!!!"
      ]
    },
    {
      "cell_type": "code",
      "metadata": {
        "id": "3d6WkjKu8uDm"
      },
      "source": [
        "#For Year column\n",
        "x, y = ecdf(df_nonoutlier['Year'])\n",
        "samples2 = np.random.normal(np.mean(df_nonoutlier['Year']), np.std(df_nonoutlier['Year']), 10000)\n",
        "x_theor, y_theor = ecdf(samples2)"
      ],
      "execution_count": null,
      "outputs": []
    },
    {
      "cell_type": "code",
      "metadata": {
        "id": "NGI-Dwth80bF",
        "colab": {
          "base_uri": "https://localhost:8080/",
          "height": 298
        },
        "outputId": "645a7b9c-fbc4-4d8e-ad11-a72721048ad1"
      },
      "source": [
        "plt.plot(x, y, marker='.', linestyle='none', label='Distribusi Sample')\n",
        "plt.plot(x_theor, y_theor, label='Parameter Distribusi Normal')\n",
        "plt.xlabel('Year')\n",
        "plt.ylabel('CDF Distribution')\n",
        "plt.legend()"
      ],
      "execution_count": null,
      "outputs": [
        {
          "output_type": "execute_result",
          "data": {
            "text/plain": [
              "<matplotlib.legend.Legend at 0x7f45c8d79668>"
            ]
          },
          "metadata": {
            "tags": []
          },
          "execution_count": 178
        },
        {
          "output_type": "display_data",
          "data": {
            "image/png": "[encoded data removed]",
            "text/plain": [
              "<Figure size 432x288 with 1 Axes>"
            ]
          },
          "metadata": {
            "tags": [],
            "needs_background": "light"
          }
        }
      ]
    },
    {
      "cell_type": "code",
      "metadata": {
        "id": "EIGRMT3AAg_g",
        "colab": {
          "base_uri": "https://localhost:8080/",
          "height": 36
        },
        "outputId": "403f56a8-cf3f-4ad7-9820-607af7ac841f"
      },
      "source": [
        "df_nonoutlier['Year'].skew()"
      ],
      "execution_count": null,
      "outputs": [
        {
          "output_type": "execute_result",
          "data": {
            "text/plain": [
              "-0.47260532700615054"
            ]
          },
          "metadata": {
            "tags": []
          },
          "execution_count": 179
        }
      ]
    },
    {
      "cell_type": "markdown",
      "metadata": {
        "id": "u2E0vShv9lvp"
      },
      "source": [
        "Just a little skewed to the right with only -0.47 skew coef \n",
        "\n"
      ]
    },
    {
      "cell_type": "markdown",
      "metadata": {
        "id": "YhE7dwwsDisB"
      },
      "source": [
        "So do we really need treatment for these dist?\n",
        " Bulmer (1979) — a classic — suggests this rule of thumb:\n",
        "\n",
        "    If skewness is less than −1 or greater than +1, the distribution is highly skewed.\n",
        "    If skewness is between −1 and −½ or between +½ and +1, the distribution is moderately skewed.\n",
        "    If skewness is between −½ and +½, the distribution is approximately symmetric.\n"
      ]
    },
    {
      "cell_type": "markdown",
      "metadata": {
        "id": "yw_4rtwqDqVK"
      },
      "source": [
        "Summary :\n",
        "1. Kilometers Driven feature skewness coefficient == 0.43 < +1 & 0.43 > -1 -> Approx symm\n",
        "2.Year skewness feature skewness coefficient == -0.47 > -0.5 & -0.47 < 0.5 -> Approx symm"
      ]
    },
    {
      "cell_type": "markdown",
      "metadata": {
        "id": "WiMgJ0-p9uR-"
      },
      "source": [
        "###Linear Regression with numpy & statsmodels\n",
        "\n",
        "\n",
        "\n",
        "\n",
        "\n",
        "\n"
      ]
    },
    {
      "cell_type": "code",
      "metadata": {
        "id": "a-ZOIL44-EGE",
        "colab": {
          "base_uri": "https://localhost:8080/",
          "height": 36
        },
        "outputId": "33571db0-8d3b-404c-ecbe-94dc396fe210"
      },
      "source": [
        "df_nonoutlier.shape"
      ],
      "execution_count": null,
      "outputs": [
        {
          "output_type": "execute_result",
          "data": {
            "text/plain": [
              "(5696, 2)"
            ]
          },
          "metadata": {
            "tags": []
          },
          "execution_count": 180
        }
      ]
    },
    {
      "cell_type": "code",
      "metadata": {
        "id": "2-GK3ft6Fgsh",
        "colab": {
          "base_uri": "https://localhost:8080/",
          "height": 112
        },
        "outputId": "501689f8-f459-4b0a-edc3-29352df7f3da"
      },
      "source": [
        "df_nonoutlier.corr()"
      ],
      "execution_count": null,
      "outputs": [
        {
          "output_type": "execute_result",
          "data": {
            "text/html": [
              "<div>\n",
              "<style scoped>\n",
              "    .dataframe tbody tr th:only-of-type {\n",
              "        vertical-align: middle;\n",
              "    }\n",
              "\n",
              "    .dataframe tbody tr th {\n",
              "        vertical-align: top;\n",
              "    }\n",
              "\n",
              "    .dataframe thead th {\n",
              "        text-align: right;\n",
              "    }\n",
              "</style>\n",
              "<table border=\"1\" class=\"dataframe\">\n",
              "  <thead>\n",
              "    <tr style=\"text-align: right;\">\n",
              "      <th></th>\n",
              "      <th>Year</th>\n",
              "      <th>Kilometers_Driven</th>\n",
              "    </tr>\n",
              "  </thead>\n",
              "  <tbody>\n",
              "    <tr>\n",
              "      <th>Year</th>\n",
              "      <td>1.000000</td>\n",
              "      <td>-0.502182</td>\n",
              "    </tr>\n",
              "    <tr>\n",
              "      <th>Kilometers_Driven</th>\n",
              "      <td>-0.502182</td>\n",
              "      <td>1.000000</td>\n",
              "    </tr>\n",
              "  </tbody>\n",
              "</table>\n",
              "</div>"
            ],
            "text/plain": [
              "                       Year  Kilometers_Driven\n",
              "Year               1.000000          -0.502182\n",
              "Kilometers_Driven -0.502182           1.000000"
            ]
          },
          "metadata": {
            "tags": []
          },
          "execution_count": 181
        }
      ]
    },
    {
      "cell_type": "code",
      "metadata": {
        "id": "rjFDvzfe4eYm",
        "colab": {
          "base_uri": "https://localhost:8080/",
          "height": 36
        },
        "outputId": "fc7cb2ba-bc33-4159-9cd2-647ef192cb58"
      },
      "source": [
        "def pearson_r(x, y):\n",
        "    \"\"\"Compute Pearson correlation coefficient between two arrays.\"\"\"\n",
        "    corr_mat = np.corrcoef(x, y)\n",
        "\n",
        "    # Return entry [0,1]\n",
        "    return corr_mat[0,1]\n",
        "\n",
        "r = pearson_r(df_nonoutlier['Year'], df_nonoutlier['Kilometers_Driven'])\n",
        "print(r)"
      ],
      "execution_count": null,
      "outputs": [
        {
          "output_type": "stream",
          "text": [
            "-0.5021818882393765\n"
          ],
          "name": "stdout"
        }
      ]
    },
    {
      "cell_type": "markdown",
      "metadata": {
        "id": "E3bDwtDFFL3R"
      },
      "source": [
        "Pearson Corr coef is -0.5\n",
        "- Negative correlation\n"
      ]
    },
    {
      "cell_type": "code",
      "metadata": {
        "id": "yQ3ymTLnr2dM",
        "colab": {
          "base_uri": "https://localhost:8080/",
          "height": 279
        },
        "outputId": "ec9dfd86-8b46-4039-abcb-e9e48a15968e"
      },
      "source": [
        "plt.plot(df_nonoutlier['Year'], \n",
        "         df_nonoutlier['Kilometers_Driven'], marker='.', linestyle='none')\n",
        "plt.xlabel('Year')\n",
        "plt.ylabel('Kilometers_Driven')\n",
        "plt.show()"
      ],
      "execution_count": null,
      "outputs": [
        {
          "output_type": "display_data",
          "data": {
            "image/png": "[encoded data removed]",
            "text/plain": [
              "<Figure size 432x288 with 1 Axes>"
            ]
          },
          "metadata": {
            "tags": [],
            "needs_background": "light"
          }
        }
      ]
    },
    {
      "cell_type": "markdown",
      "metadata": {
        "id": "nYJS73zO1_W9"
      },
      "source": [
        "Needs to reduce opacity of each data to see the pattern"
      ]
    },
    {
      "cell_type": "code",
      "metadata": {
        "id": "UdY-AuUussCv"
      },
      "source": [
        "slope, intercept = np.polyfit(df_nonoutlier['Year'], df_nonoutlier['Kilometers_Driven'], 1)"
      ],
      "execution_count": null,
      "outputs": []
    },
    {
      "cell_type": "code",
      "metadata": {
        "id": "9p5yLCN1tW9P"
      },
      "source": [
        "# mu = np.mean(df_nonoutlier['Year'])\n",
        "# sigma = np.std(df_nonoutlier['Year'])\n",
        "# x = np.random.normal(mu, sigma, len(df_nonoutlier))\n",
        "x = np.array([-3, 3])\n",
        "y = slope*x + intercept"
      ],
      "execution_count": null,
      "outputs": []
    },
    {
      "cell_type": "code",
      "metadata": {
        "id": "_8y1V4iE4DOK",
        "colab": {
          "base_uri": "https://localhost:8080/",
          "height": 279
        },
        "outputId": "95518418-42e6-4d95-c77f-0ac292bae3cc"
      },
      "source": [
        "plt.plot(df_nonoutlier['Year'], \n",
        "         df_nonoutlier['Kilometers_Driven'], \n",
        "         marker='.', linestyle='none', alpha=0.02)\n",
        "plt.plot(x, y)\n",
        "plt.xlabel('Year')\n",
        "plt.ylabel('Kilometers_Driven')\n",
        "plt.show()"
      ],
      "execution_count": null,
      "outputs": [
        {
          "output_type": "display_data",
          "data": {
            "image/png": "[encoded data removed]",
            "text/plain": [
              "<Figure size 432x288 with 1 Axes>"
            ]
          },
          "metadata": {
            "tags": [],
            "needs_background": "light"
          }
        }
      ]
    },
    {
      "cell_type": "markdown",
      "metadata": {
        "id": "a4gxFnY1tP9E"
      },
      "source": [
        "Jitter the plot (discrete data plot treatment)"
      ]
    },
    {
      "cell_type": "code",
      "metadata": {
        "id": "hCQm25wztXfg",
        "colab": {
          "base_uri": "https://localhost:8080/",
          "height": 295
        },
        "outputId": "4c3577b1-8478-4127-81d9-b61cc58d0a7e"
      },
      "source": [
        "x_jitter = df_nonoutlier['Year'] + np.random.normal(0, 0.5, size=len(df_nonoutlier))\n",
        "y_jitter = df_nonoutlier['Kilometers_Driven'] + np.random.normal(0, 0.5, size=len(df_nonoutlier))\n",
        "\n",
        "plt.plot(df_nonoutlier['Year'], \n",
        "         df_nonoutlier['Kilometers_Driven'], \n",
        "         marker='.', linestyle='none', alpha=0.02, markersize=0.7, color='purple')\n",
        "\n",
        "plt.plot(x_jitter, y_jitter, marker='.', linestyle='none', alpha=0.4, markersize=0.7, color='purple')\n",
        "plt.plot(x, y, color='r')\n",
        "plt.xlabel('Year')\n",
        "plt.ylabel('Kilometers_Driven')\n",
        "plt.title('Plot Regresi Linear')\n",
        "plt.show()"
      ],
      "execution_count": null,
      "outputs": [
        {
          "output_type": "display_data",
          "data": {
            "image/png": "[encoded data removed]",
            "text/plain": [
              "<Figure size 432x288 with 1 Axes>"
            ]
          },
          "metadata": {
            "tags": [],
            "needs_background": "light"
          }
        }
      ]
    },
    {
      "cell_type": "code",
      "metadata": {
        "id": "37ubDNgRe4hh"
      },
      "source": [
        "# ols = np.linalg.lstsq(x, y)"
      ],
      "execution_count": null,
      "outputs": []
    },
    {
      "cell_type": "code",
      "metadata": {
        "id": "3nPvKEBEaTa_"
      },
      "source": [
        "import statsmodels.api as sm"
      ],
      "execution_count": null,
      "outputs": []
    },
    {
      "cell_type": "code",
      "metadata": {
        "id": "-rrJZnqpar2G"
      },
      "source": [
        "p = df_nonoutlier['Kilometers_Driven']\n",
        "f = df_nonoutlier['Year']"
      ],
      "execution_count": null,
      "outputs": []
    },
    {
      "cell_type": "code",
      "metadata": {
        "id": "mNUAzs87aZLn",
        "colab": {
          "base_uri": "https://localhost:8080/",
          "height": 550
        },
        "outputId": "108130dc-7d03-4acc-f289-8f5058383ef4"
      },
      "source": [
        "f = sm.add_constant(f)\n",
        "lr = sm.OLS(p, f).fit()\n",
        "print(lr.params)\n",
        "print(lr.summary())\n",
        "summary = lr.summary()"
      ],
      "execution_count": null,
      "outputs": [
        {
          "output_type": "stream",
          "text": [
            "const   -0.047931\n",
            "Year    -0.166567\n",
            "dtype: float64\n",
            "                            OLS Regression Results                            \n",
            "==============================================================================\n",
            "Dep. Variable:      Kilometers_Driven   R-squared:                       0.252\n",
            "Model:                            OLS   Adj. R-squared:                  0.252\n",
            "Method:                 Least Squares   F-statistic:                     1920.\n",
            "Date:                Sun, 19 Jul 2020   Prob (F-statistic):               0.00\n",
            "Time:                        11:22:08   Log-Likelihood:                -243.22\n",
            "No. Observations:                5696   AIC:                             490.4\n",
            "Df Residuals:                    5694   BIC:                             503.7\n",
            "Df Model:                           1                                         \n",
            "Covariance Type:            nonrobust                                         \n",
            "==============================================================================\n",
            "                 coef    std err          t      P>|t|      [0.025      0.975]\n",
            "------------------------------------------------------------------------------\n",
            "const         -0.0479      0.003    -14.233      0.000      -0.055      -0.041\n",
            "Year          -0.1666      0.004    -43.820      0.000      -0.174      -0.159\n",
            "==============================================================================\n",
            "Omnibus:                      297.718   Durbin-Watson:                   1.993\n",
            "Prob(Omnibus):                  0.000   Jarque-Bera (JB):              353.398\n",
            "Skew:                           0.558   Prob(JB):                     1.82e-77\n",
            "Kurtosis:                       3.494   Cond. No.                         1.18\n",
            "==============================================================================\n",
            "\n",
            "Warnings:\n",
            "[1] Standard Errors assume that the covariance matrix of the errors is correctly specified.\n"
          ],
          "name": "stdout"
        }
      ]
    },
    {
      "cell_type": "markdown",
      "metadata": {
        "id": "SLBJUugJc6KY"
      },
      "source": [
        "*p.s : R-squared == Adj. R-squared because there's only 1 feature. Adj. R-square is intended to eliminate non-usefull feature*\n",
        "\n",
        "1. R-squared (coef. determ.) = 0.252, very small impact for Kilometers Dr\n",
        "2. Year Coefficient value is small negative, means that Year feature only give a negative small impact to Kilometers Driven. Higher year value, lower Kilometers Driven, and vice versa.\n",
        "3. Low std error means the accuracy of feature coefficient is high\n",
        "4. Conf interval = 95% --> p-value < significance : Reject null hypothesis. Other word, there's a causation between year and kilometers driven, although its not very significant\n",
        "\n"
      ]
    },
    {
      "cell_type": "code",
      "metadata": {
        "id": "Y7kaKIei06-K",
        "colab": {
          "base_uri": "https://localhost:8080/",
          "height": 36
        },
        "outputId": "583a40f1-18d9-4666-b237-99d80e504a4c"
      },
      "source": [
        "from scipy.stats import linregress\n",
        "\n",
        "res = linregress(df_nonoutlier['Year'], df_nonoutlier['Kilometers_Driven'])\n",
        "res"
      ],
      "execution_count": null,
      "outputs": [
        {
          "output_type": "execute_result",
          "data": {
            "text/plain": [
              "LinregressResult(slope=-0.16656665305361262, intercept=-0.047930655107760525, rvalue=-0.5021818882393764, pvalue=0.0, stderr=0.0038011489656656463)"
            ]
          },
          "metadata": {
            "tags": []
          },
          "execution_count": 192
        }
      ]
    },
    {
      "cell_type": "markdown",
      "metadata": {
        "id": "R3j7C5JxFFwY"
      },
      "source": [
        "LINEAR REGRESSION WITH SKLEARN"
      ]
    },
    {
      "cell_type": "code",
      "metadata": {
        "id": "qdc3McI6-EVL"
      },
      "source": [
        "from sklearn.linear_model import LinearRegression"
      ],
      "execution_count": null,
      "outputs": []
    },
    {
      "cell_type": "code",
      "metadata": {
        "id": "ND4sDy0L-G73"
      },
      "source": [
        "x = df_nonoutlier['Year']\n",
        "y = df_nonoutlier['Kilometers_Driven']"
      ],
      "execution_count": null,
      "outputs": []
    },
    {
      "cell_type": "code",
      "metadata": {
        "id": "gXEkJj4bFd58"
      },
      "source": [
        "x = np.array(x).reshape((-1, 1))"
      ],
      "execution_count": null,
      "outputs": []
    },
    {
      "cell_type": "code",
      "metadata": {
        "id": "2js3Yah-Ddd3",
        "colab": {
          "base_uri": "https://localhost:8080/",
          "height": 36
        },
        "outputId": "d60e60c1-fbd8-4aa8-aeb8-143ad3136e43"
      },
      "source": [
        "y.shape"
      ],
      "execution_count": null,
      "outputs": [
        {
          "output_type": "execute_result",
          "data": {
            "text/plain": [
              "(5696,)"
            ]
          },
          "metadata": {
            "tags": []
          },
          "execution_count": 196
        }
      ]
    },
    {
      "cell_type": "code",
      "metadata": {
        "id": "dSA46TzdCZEn"
      },
      "source": [
        "LR = LinearRegression().fit(x, y)\n",
        "model_score = LR.score(x, y)"
      ],
      "execution_count": null,
      "outputs": []
    },
    {
      "cell_type": "code",
      "metadata": {
        "id": "IJNBU9aJGc_Z",
        "colab": {
          "base_uri": "https://localhost:8080/",
          "height": 36
        },
        "outputId": "646bdd57-f36d-4967-8915-13d25fae08fb"
      },
      "source": [
        "print('coefficient of determination (R square):', model_score)"
      ],
      "execution_count": null,
      "outputs": [
        {
          "output_type": "stream",
          "text": [
            "coefficient of determination (R square): 0.25218664887566555\n"
          ],
          "name": "stdout"
        }
      ]
    },
    {
      "cell_type": "code",
      "metadata": {
        "id": "8HBQIOyJHIw1"
      },
      "source": [
        "import scipy"
      ],
      "execution_count": null,
      "outputs": []
    },
    {
      "cell_type": "code",
      "metadata": {
        "id": "zeDe-j1eGhQt",
        "colab": {
          "base_uri": "https://localhost:8080/",
          "height": 55
        },
        "outputId": "a88efb17-58b0-4a07-94c9-3d366a552a06"
      },
      "source": [
        "# F-test\n",
        "F = np.var(x) / np.var(y)\n",
        "df1 = len(x) - 1\n",
        "df2 = len(y) - 1\n",
        "alpha = 0.05\n",
        "p_value = scipy.stats.f.cdf(F, df1, df2)\n",
        "print(p_value)\n",
        "if p_value > alpha:\n",
        "    print('Reject the null hypothesis that Var(X) == Var(Y)')"
      ],
      "execution_count": null,
      "outputs": [
        {
          "output_type": "stream",
          "text": [
            "0.9999999999999999\n",
            "Reject the null hypothesis that Var(X) == Var(Y)\n"
          ],
          "name": "stdout"
        }
      ]
    },
    {
      "cell_type": "markdown",
      "metadata": {
        "id": "Heypf6jSp-jt"
      },
      "source": [
        "8. Berapa banyak mobil yang merupakan kepemilikan ketiga atau lebih?"
      ]
    },
    {
      "cell_type": "code",
      "metadata": {
        "id": "Z1ce3Sx0qBJG"
      },
      "source": [
        "mobil_third = mobil_second['Owner_Type'][mobil_second['Owner_Type'] != 'Second']"
      ],
      "execution_count": null,
      "outputs": []
    },
    {
      "cell_type": "code",
      "metadata": {
        "id": "DeLnPwUwiXuG",
        "colab": {
          "base_uri": "https://localhost:8080/",
          "height": 74
        },
        "outputId": "fabe32f3-e86f-4bbf-8a12-3da3ce083ef7"
      },
      "source": [
        "mobil_third.value_counts()"
      ],
      "execution_count": null,
      "outputs": [
        {
          "output_type": "execute_result",
          "data": {
            "text/plain": [
              "Third             113\n",
              "Fourth & Above      9\n",
              "Name: Owner_Type, dtype: int64"
            ]
          },
          "metadata": {
            "tags": []
          },
          "execution_count": 202
        }
      ]
    },
    {
      "cell_type": "code",
      "metadata": {
        "id": "STC0TF6cqTQX",
        "colab": {
          "base_uri": "https://localhost:8080/",
          "height": 296
        },
        "outputId": "903fc98a-5a78-45ba-e5e5-29ad1f9d5a75"
      },
      "source": [
        "ax2 = mobil_third.value_counts().plot(kind='bar')\n",
        "plt.ylabel('Jumlah mobil')\n",
        "plt.xlabel('Owner_Type')\n",
        "plt.title('Distribusi Mobil Bekas')\n",
        "plt.xticks(rotation=0)\n",
        "plt.yticks(np.arange(0, 160, 20))\n",
        "\n",
        "\n",
        "# Annotate bar chart\n",
        "for i in ax2.patches:\n",
        "    ax2.text(i.get_x()+.22, i.get_height()+4.8, \\\n",
        "            str(i.get_height()), fontsize=12,\n",
        "                color='dimgrey')"
      ],
      "execution_count": null,
      "outputs": [
        {
          "output_type": "display_data",
          "data": {
            "image/png": "[encoded data removed]",
            "text/plain": [
              "<Figure size 432x288 with 1 Axes>"
            ]
          },
          "metadata": {
            "tags": [],
            "needs_background": "light"
          }
        }
      ]
    },
    {
      "cell_type": "markdown",
      "metadata": {
        "id": "RKs13_BFqdfz"
      },
      "source": [
        "9. Tipe bahan bakar apa yang memiliki mileage (konsumsi bahan bakar) paling hemat?"
      ]
    },
    {
      "cell_type": "code",
      "metadata": {
        "id": "tRtxiHPxqfsC",
        "colab": {
          "base_uri": "https://localhost:8080/",
          "height": 206
        },
        "outputId": "315f075d-28e8-4d4b-dcd3-5a26663cdbb2"
      },
      "source": [
        "df.head()"
      ],
      "execution_count": null,
      "outputs": [
        {
          "output_type": "execute_result",
          "data": {
            "text/html": [
              "<div>\n",
              "<style scoped>\n",
              "    .dataframe tbody tr th:only-of-type {\n",
              "        vertical-align: middle;\n",
              "    }\n",
              "\n",
              "    .dataframe tbody tr th {\n",
              "        vertical-align: top;\n",
              "    }\n",
              "\n",
              "    .dataframe thead th {\n",
              "        text-align: right;\n",
              "    }\n",
              "</style>\n",
              "<table border=\"1\" class=\"dataframe\">\n",
              "  <thead>\n",
              "    <tr style=\"text-align: right;\">\n",
              "      <th></th>\n",
              "      <th>Name</th>\n",
              "      <th>Location</th>\n",
              "      <th>Year</th>\n",
              "      <th>Kilometers_Driven</th>\n",
              "      <th>Fuel_Type</th>\n",
              "      <th>Transmission</th>\n",
              "      <th>Owner_Type</th>\n",
              "      <th>Mileage</th>\n",
              "      <th>Engine</th>\n",
              "      <th>Power</th>\n",
              "      <th>Seats</th>\n",
              "      <th>Price</th>\n",
              "    </tr>\n",
              "  </thead>\n",
              "  <tbody>\n",
              "    <tr>\n",
              "      <th>0</th>\n",
              "      <td>Maruti Wagon R LXI CNG</td>\n",
              "      <td>Mumbai</td>\n",
              "      <td>2010</td>\n",
              "      <td>72000</td>\n",
              "      <td>CNG</td>\n",
              "      <td>Manual</td>\n",
              "      <td>First</td>\n",
              "      <td>26.6 km/kg</td>\n",
              "      <td>998 CC</td>\n",
              "      <td>58.16 bhp</td>\n",
              "      <td>5.0</td>\n",
              "      <td>1.75</td>\n",
              "    </tr>\n",
              "    <tr>\n",
              "      <th>1</th>\n",
              "      <td>Hyundai Creta 1.6 CRDi SX Option</td>\n",
              "      <td>Pune</td>\n",
              "      <td>2015</td>\n",
              "      <td>41000</td>\n",
              "      <td>Diesel</td>\n",
              "      <td>Manual</td>\n",
              "      <td>First</td>\n",
              "      <td>19.67 kmpl</td>\n",
              "      <td>1582 CC</td>\n",
              "      <td>126.2 bhp</td>\n",
              "      <td>5.0</td>\n",
              "      <td>12.50</td>\n",
              "    </tr>\n",
              "    <tr>\n",
              "      <th>2</th>\n",
              "      <td>Honda Jazz V</td>\n",
              "      <td>Chennai</td>\n",
              "      <td>2011</td>\n",
              "      <td>46000</td>\n",
              "      <td>Petrol</td>\n",
              "      <td>Manual</td>\n",
              "      <td>First</td>\n",
              "      <td>18.2 kmpl</td>\n",
              "      <td>1199 CC</td>\n",
              "      <td>88.7 bhp</td>\n",
              "      <td>5.0</td>\n",
              "      <td>4.50</td>\n",
              "    </tr>\n",
              "    <tr>\n",
              "      <th>3</th>\n",
              "      <td>Maruti Ertiga VDI</td>\n",
              "      <td>Chennai</td>\n",
              "      <td>2012</td>\n",
              "      <td>87000</td>\n",
              "      <td>Diesel</td>\n",
              "      <td>Manual</td>\n",
              "      <td>First</td>\n",
              "      <td>20.77 kmpl</td>\n",
              "      <td>1248 CC</td>\n",
              "      <td>88.76 bhp</td>\n",
              "      <td>7.0</td>\n",
              "      <td>6.00</td>\n",
              "    </tr>\n",
              "    <tr>\n",
              "      <th>4</th>\n",
              "      <td>Audi A4 New 2.0 TDI Multitronic</td>\n",
              "      <td>Coimbatore</td>\n",
              "      <td>2013</td>\n",
              "      <td>40670</td>\n",
              "      <td>Diesel</td>\n",
              "      <td>Automatic</td>\n",
              "      <td>Second</td>\n",
              "      <td>15.2 kmpl</td>\n",
              "      <td>1968 CC</td>\n",
              "      <td>140.8 bhp</td>\n",
              "      <td>5.0</td>\n",
              "      <td>17.74</td>\n",
              "    </tr>\n",
              "  </tbody>\n",
              "</table>\n",
              "</div>"
            ],
            "text/plain": [
              "                               Name    Location  Year  ...      Power Seats  Price\n",
              "0            Maruti Wagon R LXI CNG      Mumbai  2010  ...  58.16 bhp   5.0   1.75\n",
              "1  Hyundai Creta 1.6 CRDi SX Option        Pune  2015  ...  126.2 bhp   5.0  12.50\n",
              "2                      Honda Jazz V     Chennai  2011  ...   88.7 bhp   5.0   4.50\n",
              "3                 Maruti Ertiga VDI     Chennai  2012  ...  88.76 bhp   7.0   6.00\n",
              "4   Audi A4 New 2.0 TDI Multitronic  Coimbatore  2013  ...  140.8 bhp   5.0  17.74\n",
              "\n",
              "[5 rows x 12 columns]"
            ]
          },
          "metadata": {
            "tags": []
          },
          "execution_count": 204
        }
      ]
    },
    {
      "cell_type": "code",
      "metadata": {
        "id": "OuZv0TC4qn1A",
        "colab": {
          "base_uri": "https://localhost:8080/",
          "height": 424
        },
        "outputId": "d325bf84-3cd7-45c8-cb27-c91a831fa085"
      },
      "source": [
        "df[['Mileage', 'Fuel_Type']].sort_values('Mileage')"
      ],
      "execution_count": null,
      "outputs": [
        {
          "output_type": "execute_result",
          "data": {
            "text/html": [
              "<div>\n",
              "<style scoped>\n",
              "    .dataframe tbody tr th:only-of-type {\n",
              "        vertical-align: middle;\n",
              "    }\n",
              "\n",
              "    .dataframe tbody tr th {\n",
              "        vertical-align: top;\n",
              "    }\n",
              "\n",
              "    .dataframe thead th {\n",
              "        text-align: right;\n",
              "    }\n",
              "</style>\n",
              "<table border=\"1\" class=\"dataframe\">\n",
              "  <thead>\n",
              "    <tr style=\"text-align: right;\">\n",
              "      <th></th>\n",
              "      <th>Mileage</th>\n",
              "      <th>Fuel_Type</th>\n",
              "    </tr>\n",
              "  </thead>\n",
              "  <tbody>\n",
              "    <tr>\n",
              "      <th>5119</th>\n",
              "      <td>0.0 kmpl</td>\n",
              "      <td>Petrol</td>\n",
              "    </tr>\n",
              "    <tr>\n",
              "      <th>1385</th>\n",
              "      <td>0.0 kmpl</td>\n",
              "      <td>Petrol</td>\n",
              "    </tr>\n",
              "    <tr>\n",
              "      <th>3061</th>\n",
              "      <td>0.0 kmpl</td>\n",
              "      <td>Petrol</td>\n",
              "    </tr>\n",
              "    <tr>\n",
              "      <th>6011</th>\n",
              "      <td>0.0 kmpl</td>\n",
              "      <td>Petrol</td>\n",
              "    </tr>\n",
              "    <tr>\n",
              "      <th>3044</th>\n",
              "      <td>0.0 kmpl</td>\n",
              "      <td>Petrol</td>\n",
              "    </tr>\n",
              "    <tr>\n",
              "      <th>...</th>\n",
              "      <td>...</td>\n",
              "      <td>...</td>\n",
              "    </tr>\n",
              "    <tr>\n",
              "      <th>557</th>\n",
              "      <td>9.9 kmpl</td>\n",
              "      <td>Petrol</td>\n",
              "    </tr>\n",
              "    <tr>\n",
              "      <th>3580</th>\n",
              "      <td>9.9 kmpl</td>\n",
              "      <td>Diesel</td>\n",
              "    </tr>\n",
              "    <tr>\n",
              "      <th>1288</th>\n",
              "      <td>9.9 kmpl</td>\n",
              "      <td>Petrol</td>\n",
              "    </tr>\n",
              "    <tr>\n",
              "      <th>4446</th>\n",
              "      <td>NaN</td>\n",
              "      <td>Electric</td>\n",
              "    </tr>\n",
              "    <tr>\n",
              "      <th>4904</th>\n",
              "      <td>NaN</td>\n",
              "      <td>Electric</td>\n",
              "    </tr>\n",
              "  </tbody>\n",
              "</table>\n",
              "<p>6019 rows × 2 columns</p>\n",
              "</div>"
            ],
            "text/plain": [
              "       Mileage Fuel_Type\n",
              "5119  0.0 kmpl    Petrol\n",
              "1385  0.0 kmpl    Petrol\n",
              "3061  0.0 kmpl    Petrol\n",
              "6011  0.0 kmpl    Petrol\n",
              "3044  0.0 kmpl    Petrol\n",
              "...        ...       ...\n",
              "557   9.9 kmpl    Petrol\n",
              "3580  9.9 kmpl    Diesel\n",
              "1288  9.9 kmpl    Petrol\n",
              "4446       NaN  Electric\n",
              "4904       NaN  Electric\n",
              "\n",
              "[6019 rows x 2 columns]"
            ]
          },
          "metadata": {
            "tags": []
          },
          "execution_count": 205
        }
      ]
    },
    {
      "cell_type": "code",
      "metadata": {
        "id": "mFCej5zAq78e",
        "colab": {
          "base_uri": "https://localhost:8080/",
          "height": 379
        },
        "outputId": "dced9b1b-9241-40d9-cfe5-6e25c802c2fe"
      },
      "source": [
        "df.info()"
      ],
      "execution_count": null,
      "outputs": [
        {
          "output_type": "stream",
          "text": [
            "<class 'pandas.core.frame.DataFrame'>\n",
            "RangeIndex: 6019 entries, 0 to 6018\n",
            "Data columns (total 12 columns):\n",
            " #   Column             Non-Null Count  Dtype  \n",
            "---  ------             --------------  -----  \n",
            " 0   Name               6019 non-null   object \n",
            " 1   Location           6019 non-null   object \n",
            " 2   Year               6019 non-null   int64  \n",
            " 3   Kilometers_Driven  6019 non-null   int64  \n",
            " 4   Fuel_Type          6019 non-null   object \n",
            " 5   Transmission       6019 non-null   object \n",
            " 6   Owner_Type         6019 non-null   object \n",
            " 7   Mileage            6017 non-null   object \n",
            " 8   Engine             5983 non-null   object \n",
            " 9   Power              5983 non-null   object \n",
            " 10  Seats              5977 non-null   float64\n",
            " 11  Price              6019 non-null   float64\n",
            "dtypes: float64(2), int64(2), object(8)\n",
            "memory usage: 564.4+ KB\n"
          ],
          "name": "stdout"
        }
      ]
    },
    {
      "cell_type": "code",
      "metadata": {
        "id": "B3xS2Utqqxev"
      },
      "source": [
        "df[['Mileage_int', 'Satuan']] = df['Mileage'].str.split(\" \", expand=True)"
      ],
      "execution_count": null,
      "outputs": []
    },
    {
      "cell_type": "code",
      "metadata": {
        "id": "FHIVeibdrU95"
      },
      "source": [
        "df['Mileage_int'] = pd.to_numeric(df['Mileage_int'])"
      ],
      "execution_count": null,
      "outputs": []
    },
    {
      "cell_type": "code",
      "metadata": {
        "id": "_M7LYOEprk2Z",
        "colab": {
          "base_uri": "https://localhost:8080/",
          "height": 417
        },
        "outputId": "bb460150-476c-4bba-df08-51255e181458"
      },
      "source": [
        "df.info()"
      ],
      "execution_count": null,
      "outputs": [
        {
          "output_type": "stream",
          "text": [
            "<class 'pandas.core.frame.DataFrame'>\n",
            "RangeIndex: 6019 entries, 0 to 6018\n",
            "Data columns (total 14 columns):\n",
            " #   Column             Non-Null Count  Dtype  \n",
            "---  ------             --------------  -----  \n",
            " 0   Name               6019 non-null   object \n",
            " 1   Location           6019 non-null   object \n",
            " 2   Year               6019 non-null   int64  \n",
            " 3   Kilometers_Driven  6019 non-null   int64  \n",
            " 4   Fuel_Type          6019 non-null   object \n",
            " 5   Transmission       6019 non-null   object \n",
            " 6   Owner_Type         6019 non-null   object \n",
            " 7   Mileage            6017 non-null   object \n",
            " 8   Engine             5983 non-null   object \n",
            " 9   Power              5983 non-null   object \n",
            " 10  Seats              5977 non-null   float64\n",
            " 11  Price              6019 non-null   float64\n",
            " 12  Mileage_int        6017 non-null   float64\n",
            " 13  Satuan             6017 non-null   object \n",
            "dtypes: float64(3), int64(2), object(9)\n",
            "memory usage: 658.5+ KB\n"
          ],
          "name": "stdout"
        }
      ]
    },
    {
      "cell_type": "code",
      "metadata": {
        "id": "KLgS5wB4-5zx"
      },
      "source": [
        "# Drop 0 mileage (assumed as error data)\n",
        "df['Mileage_int'] = df['Mileage_int'][df['Mileage_int'] > 0.00]"
      ],
      "execution_count": null,
      "outputs": []
    },
    {
      "cell_type": "code",
      "metadata": {
        "id": "XAfJFYW5woFM",
        "colab": {
          "base_uri": "https://localhost:8080/",
          "height": 74
        },
        "outputId": "34d972df-8a3c-4825-ff3a-42bb3110a350"
      },
      "source": [
        "df['Satuan'].value_counts()"
      ],
      "execution_count": null,
      "outputs": [
        {
          "output_type": "execute_result",
          "data": {
            "text/plain": [
              "kmpl     5951\n",
              "km/kg      66\n",
              "Name: Satuan, dtype: int64"
            ]
          },
          "metadata": {
            "tags": []
          },
          "execution_count": 211
        }
      ]
    },
    {
      "cell_type": "code",
      "metadata": {
        "id": "h6dLe1a7uXNs",
        "colab": {
          "base_uri": "https://localhost:8080/",
          "height": 299
        },
        "outputId": "c9eca8d4-dea1-4321-806f-c83c5698aefe"
      },
      "source": [
        "sns.boxplot('Mileage_int', 'Fuel_Type', data=df)"
      ],
      "execution_count": null,
      "outputs": [
        {
          "output_type": "execute_result",
          "data": {
            "text/plain": [
              "<matplotlib.axes._subplots.AxesSubplot at 0x7f45c85fdc50>"
            ]
          },
          "metadata": {
            "tags": []
          },
          "execution_count": 212
        },
        {
          "output_type": "display_data",
          "data": {
            "image/png": "[encoded data removed]",
            "text/plain": [
              "<Figure size 432x288 with 1 Axes>"
            ]
          },
          "metadata": {
            "tags": [],
            "needs_background": "light"
          }
        }
      ]
    },
    {
      "cell_type": "code",
      "metadata": {
        "id": "Sx0YVIPVvsFO",
        "colab": {
          "base_uri": "https://localhost:8080/",
          "height": 188
        },
        "outputId": "f38d63b0-58a9-41a7-fd0e-eeca24e6d205"
      },
      "source": [
        "df['Mileage_int'].describe()"
      ],
      "execution_count": null,
      "outputs": [
        {
          "output_type": "execute_result",
          "data": {
            "text/plain": [
              "count    5949.000000\n",
              "mean       18.342252\n",
              "std         4.175475\n",
              "min         6.400000\n",
              "25%        15.300000\n",
              "50%        18.200000\n",
              "75%        21.100000\n",
              "max        33.540000\n",
              "Name: Mileage_int, dtype: float64"
            ]
          },
          "metadata": {
            "tags": []
          },
          "execution_count": 213
        }
      ]
    },
    {
      "cell_type": "code",
      "metadata": {
        "id": "4ueJ8NA1v2Bq",
        "colab": {
          "base_uri": "https://localhost:8080/",
          "height": 150
        },
        "outputId": "271942f6-2e44-47dd-9865-203a4b674908"
      },
      "source": [
        "df.groupby('Fuel_Type')['Mileage_int'].mean()"
      ],
      "execution_count": null,
      "outputs": [
        {
          "output_type": "execute_result",
          "data": {
            "text/plain": [
              "Fuel_Type\n",
              "CNG         25.418036\n",
              "Diesel      18.778682\n",
              "Electric          NaN\n",
              "LPG         19.385000\n",
              "Petrol      17.679168\n",
              "Name: Mileage_int, dtype: float64"
            ]
          },
          "metadata": {
            "tags": []
          },
          "execution_count": 214
        }
      ]
    },
    {
      "cell_type": "code",
      "metadata": {
        "id": "Z3O4rOA6-ysY",
        "colab": {
          "base_uri": "https://localhost:8080/",
          "height": 150
        },
        "outputId": "4d8559a5-1c2f-48bf-ee70-af75d9b16d0f"
      },
      "source": [
        "df.groupby('Fuel_Type')['Mileage_int'].min()"
      ],
      "execution_count": null,
      "outputs": [
        {
          "output_type": "execute_result",
          "data": {
            "text/plain": [
              "Fuel_Type\n",
              "CNG         13.20\n",
              "Diesel       7.50\n",
              "Electric      NaN\n",
              "LPG         13.45\n",
              "Petrol       6.40\n",
              "Name: Mileage_int, dtype: float64"
            ]
          },
          "metadata": {
            "tags": []
          },
          "execution_count": 215
        }
      ]
    },
    {
      "cell_type": "markdown",
      "metadata": {
        "id": "qk5p4wQpRXlt"
      },
      "source": [
        "Fuel Type's Outlier is assumed as an extreme data instead of error data. therefore, those outliers are included as a factor for conclusion"
      ]
    },
    {
      "cell_type": "code",
      "metadata": {
        "id": "RxOvSK03eJ59"
      },
      "source": [
        "# df[df['Seats'].isna()]"
      ],
      "execution_count": null,
      "outputs": []
    },
    {
      "cell_type": "markdown",
      "metadata": {
        "id": "FrSEsvKXSKA4"
      },
      "source": [
        "##10. Apa saja faktor-faktor yang mempengaruhi harga mobil bekas di India? Sertakan argumen yang mendukung jawaban."
      ]
    },
    {
      "cell_type": "markdown",
      "metadata": {
        "id": "5aMGofNJTtXR"
      },
      "source": [
        "Feature Selection approaches :\n",
        "1. Correlation (Pearson Corr -> Cont Data)\n",
        "2. Univariate Selection\n",
        "3. Feature Importance\n",
        "4. Permutation Importance (considering there are many of discrete data type)"
      ]
    },
    {
      "cell_type": "markdown",
      "metadata": {
        "id": "ppUqJevxVeOR"
      },
      "source": [
        "### Data Cleaning"
      ]
    },
    {
      "cell_type": "code",
      "metadata": {
        "id": "GuGgCG0YToTT",
        "colab": {
          "base_uri": "https://localhost:8080/",
          "height": 206
        },
        "outputId": "98487bf7-bcc7-479d-a6a8-18bb83e638a5"
      },
      "source": [
        "df.head()"
      ],
      "execution_count": null,
      "outputs": [
        {
          "output_type": "execute_result",
          "data": {
            "text/html": [
              "<div>\n",
              "<style scoped>\n",
              "    .dataframe tbody tr th:only-of-type {\n",
              "        vertical-align: middle;\n",
              "    }\n",
              "\n",
              "    .dataframe tbody tr th {\n",
              "        vertical-align: top;\n",
              "    }\n",
              "\n",
              "    .dataframe thead th {\n",
              "        text-align: right;\n",
              "    }\n",
              "</style>\n",
              "<table border=\"1\" class=\"dataframe\">\n",
              "  <thead>\n",
              "    <tr style=\"text-align: right;\">\n",
              "      <th></th>\n",
              "      <th>Name</th>\n",
              "      <th>Location</th>\n",
              "      <th>Year</th>\n",
              "      <th>Kilometers_Driven</th>\n",
              "      <th>Fuel_Type</th>\n",
              "      <th>Transmission</th>\n",
              "      <th>Owner_Type</th>\n",
              "      <th>Mileage</th>\n",
              "      <th>Engine</th>\n",
              "      <th>Power</th>\n",
              "      <th>Seats</th>\n",
              "      <th>Price</th>\n",
              "      <th>Mileage_int</th>\n",
              "      <th>Satuan</th>\n",
              "    </tr>\n",
              "  </thead>\n",
              "  <tbody>\n",
              "    <tr>\n",
              "      <th>0</th>\n",
              "      <td>Maruti Wagon R LXI CNG</td>\n",
              "      <td>Mumbai</td>\n",
              "      <td>2010</td>\n",
              "      <td>72000</td>\n",
              "      <td>CNG</td>\n",
              "      <td>Manual</td>\n",
              "      <td>First</td>\n",
              "      <td>26.6 km/kg</td>\n",
              "      <td>998 CC</td>\n",
              "      <td>58.16 bhp</td>\n",
              "      <td>5.0</td>\n",
              "      <td>1.75</td>\n",
              "      <td>26.60</td>\n",
              "      <td>km/kg</td>\n",
              "    </tr>\n",
              "    <tr>\n",
              "      <th>1</th>\n",
              "      <td>Hyundai Creta 1.6 CRDi SX Option</td>\n",
              "      <td>Pune</td>\n",
              "      <td>2015</td>\n",
              "      <td>41000</td>\n",
              "      <td>Diesel</td>\n",
              "      <td>Manual</td>\n",
              "      <td>First</td>\n",
              "      <td>19.67 kmpl</td>\n",
              "      <td>1582 CC</td>\n",
              "      <td>126.2 bhp</td>\n",
              "      <td>5.0</td>\n",
              "      <td>12.50</td>\n",
              "      <td>19.67</td>\n",
              "      <td>kmpl</td>\n",
              "    </tr>\n",
              "    <tr>\n",
              "      <th>2</th>\n",
              "      <td>Honda Jazz V</td>\n",
              "      <td>Chennai</td>\n",
              "      <td>2011</td>\n",
              "      <td>46000</td>\n",
              "      <td>Petrol</td>\n",
              "      <td>Manual</td>\n",
              "      <td>First</td>\n",
              "      <td>18.2 kmpl</td>\n",
              "      <td>1199 CC</td>\n",
              "      <td>88.7 bhp</td>\n",
              "      <td>5.0</td>\n",
              "      <td>4.50</td>\n",
              "      <td>18.20</td>\n",
              "      <td>kmpl</td>\n",
              "    </tr>\n",
              "    <tr>\n",
              "      <th>3</th>\n",
              "      <td>Maruti Ertiga VDI</td>\n",
              "      <td>Chennai</td>\n",
              "      <td>2012</td>\n",
              "      <td>87000</td>\n",
              "      <td>Diesel</td>\n",
              "      <td>Manual</td>\n",
              "      <td>First</td>\n",
              "      <td>20.77 kmpl</td>\n",
              "      <td>1248 CC</td>\n",
              "      <td>88.76 bhp</td>\n",
              "      <td>7.0</td>\n",
              "      <td>6.00</td>\n",
              "      <td>20.77</td>\n",
              "      <td>kmpl</td>\n",
              "    </tr>\n",
              "    <tr>\n",
              "      <th>4</th>\n",
              "      <td>Audi A4 New 2.0 TDI Multitronic</td>\n",
              "      <td>Coimbatore</td>\n",
              "      <td>2013</td>\n",
              "      <td>40670</td>\n",
              "      <td>Diesel</td>\n",
              "      <td>Automatic</td>\n",
              "      <td>Second</td>\n",
              "      <td>15.2 kmpl</td>\n",
              "      <td>1968 CC</td>\n",
              "      <td>140.8 bhp</td>\n",
              "      <td>5.0</td>\n",
              "      <td>17.74</td>\n",
              "      <td>15.20</td>\n",
              "      <td>kmpl</td>\n",
              "    </tr>\n",
              "  </tbody>\n",
              "</table>\n",
              "</div>"
            ],
            "text/plain": [
              "                               Name    Location  ...  Mileage_int  Satuan\n",
              "0            Maruti Wagon R LXI CNG      Mumbai  ...        26.60   km/kg\n",
              "1  Hyundai Creta 1.6 CRDi SX Option        Pune  ...        19.67    kmpl\n",
              "2                      Honda Jazz V     Chennai  ...        18.20    kmpl\n",
              "3                 Maruti Ertiga VDI     Chennai  ...        20.77    kmpl\n",
              "4   Audi A4 New 2.0 TDI Multitronic  Coimbatore  ...        15.20    kmpl\n",
              "\n",
              "[5 rows x 14 columns]"
            ]
          },
          "metadata": {
            "tags": []
          },
          "execution_count": 217
        }
      ]
    },
    {
      "cell_type": "code",
      "metadata": {
        "id": "rNjfl0NRUlP4",
        "colab": {
          "base_uri": "https://localhost:8080/",
          "height": 36
        },
        "outputId": "d9747243-177a-48d8-cc72-8dded9188b0b"
      },
      "source": [
        "df.shape"
      ],
      "execution_count": null,
      "outputs": [
        {
          "output_type": "execute_result",
          "data": {
            "text/plain": [
              "(6019, 14)"
            ]
          },
          "metadata": {
            "tags": []
          },
          "execution_count": 218
        }
      ]
    },
    {
      "cell_type": "code",
      "metadata": {
        "id": "FSQH3DhMUowd",
        "colab": {
          "base_uri": "https://localhost:8080/",
          "height": 112
        },
        "outputId": "f81bebd7-6834-4fca-9a9d-eed7ae568e4b"
      },
      "source": [
        "df['Owner_Type'].value_counts()"
      ],
      "execution_count": null,
      "outputs": [
        {
          "output_type": "execute_result",
          "data": {
            "text/plain": [
              "First             4929\n",
              "Second             968\n",
              "Third              113\n",
              "Fourth & Above       9\n",
              "Name: Owner_Type, dtype: int64"
            ]
          },
          "metadata": {
            "tags": []
          },
          "execution_count": 219
        }
      ]
    },
    {
      "cell_type": "code",
      "metadata": {
        "id": "sgf6BXMDUETr"
      },
      "source": [
        "df_bekas = df[df['Owner_Type'] != 'First']"
      ],
      "execution_count": null,
      "outputs": []
    },
    {
      "cell_type": "code",
      "metadata": {
        "id": "NcI9CSI0UiAd"
      },
      "source": [
        "features = df_bekas.drop(['Satuan', 'Mileage'], axis=1)\n",
        "# predictor = df_bekas['Price']"
      ],
      "execution_count": null,
      "outputs": []
    },
    {
      "cell_type": "code",
      "metadata": {
        "id": "BYICo1nOVFjC",
        "colab": {
          "base_uri": "https://localhost:8080/",
          "height": 206
        },
        "outputId": "d0c0a9fc-dc27-4495-ab3f-83225a8ea31a"
      },
      "source": [
        "features.head()"
      ],
      "execution_count": null,
      "outputs": [
        {
          "output_type": "execute_result",
          "data": {
            "text/html": [
              "<div>\n",
              "<style scoped>\n",
              "    .dataframe tbody tr th:only-of-type {\n",
              "        vertical-align: middle;\n",
              "    }\n",
              "\n",
              "    .dataframe tbody tr th {\n",
              "        vertical-align: top;\n",
              "    }\n",
              "\n",
              "    .dataframe thead th {\n",
              "        text-align: right;\n",
              "    }\n",
              "</style>\n",
              "<table border=\"1\" class=\"dataframe\">\n",
              "  <thead>\n",
              "    <tr style=\"text-align: right;\">\n",
              "      <th></th>\n",
              "      <th>Name</th>\n",
              "      <th>Location</th>\n",
              "      <th>Year</th>\n",
              "      <th>Kilometers_Driven</th>\n",
              "      <th>Fuel_Type</th>\n",
              "      <th>Transmission</th>\n",
              "      <th>Owner_Type</th>\n",
              "      <th>Engine</th>\n",
              "      <th>Power</th>\n",
              "      <th>Seats</th>\n",
              "      <th>Price</th>\n",
              "      <th>Mileage_int</th>\n",
              "    </tr>\n",
              "  </thead>\n",
              "  <tbody>\n",
              "    <tr>\n",
              "      <th>4</th>\n",
              "      <td>Audi A4 New 2.0 TDI Multitronic</td>\n",
              "      <td>Coimbatore</td>\n",
              "      <td>2013</td>\n",
              "      <td>40670</td>\n",
              "      <td>Diesel</td>\n",
              "      <td>Automatic</td>\n",
              "      <td>Second</td>\n",
              "      <td>1968 CC</td>\n",
              "      <td>140.8 bhp</td>\n",
              "      <td>5.0</td>\n",
              "      <td>17.74</td>\n",
              "      <td>15.20</td>\n",
              "    </tr>\n",
              "    <tr>\n",
              "      <th>9</th>\n",
              "      <td>Tata Indica Vista Quadrajet LS</td>\n",
              "      <td>Chennai</td>\n",
              "      <td>2012</td>\n",
              "      <td>65932</td>\n",
              "      <td>Diesel</td>\n",
              "      <td>Manual</td>\n",
              "      <td>Second</td>\n",
              "      <td>1248 CC</td>\n",
              "      <td>74 bhp</td>\n",
              "      <td>5.0</td>\n",
              "      <td>1.95</td>\n",
              "      <td>22.30</td>\n",
              "    </tr>\n",
              "    <tr>\n",
              "      <th>14</th>\n",
              "      <td>Land Rover Freelander 2 TD4 SE</td>\n",
              "      <td>Pune</td>\n",
              "      <td>2012</td>\n",
              "      <td>85000</td>\n",
              "      <td>Diesel</td>\n",
              "      <td>Automatic</td>\n",
              "      <td>Second</td>\n",
              "      <td>2179 CC</td>\n",
              "      <td>115 bhp</td>\n",
              "      <td>5.0</td>\n",
              "      <td>17.50</td>\n",
              "      <td>NaN</td>\n",
              "    </tr>\n",
              "    <tr>\n",
              "      <th>21</th>\n",
              "      <td>Maruti S Cross DDiS 200 Alpha</td>\n",
              "      <td>Bangalore</td>\n",
              "      <td>2015</td>\n",
              "      <td>55392</td>\n",
              "      <td>Diesel</td>\n",
              "      <td>Manual</td>\n",
              "      <td>Second</td>\n",
              "      <td>1248 CC</td>\n",
              "      <td>88.5 bhp</td>\n",
              "      <td>5.0</td>\n",
              "      <td>8.25</td>\n",
              "      <td>23.65</td>\n",
              "    </tr>\n",
              "    <tr>\n",
              "      <th>27</th>\n",
              "      <td>Maruti Alto K10 2010-2014 VXI</td>\n",
              "      <td>Hyderabad</td>\n",
              "      <td>2013</td>\n",
              "      <td>54000</td>\n",
              "      <td>Petrol</td>\n",
              "      <td>Manual</td>\n",
              "      <td>Second</td>\n",
              "      <td>998 CC</td>\n",
              "      <td>67.1 bhp</td>\n",
              "      <td>5.0</td>\n",
              "      <td>2.75</td>\n",
              "      <td>20.92</td>\n",
              "    </tr>\n",
              "  </tbody>\n",
              "</table>\n",
              "</div>"
            ],
            "text/plain": [
              "                               Name    Location  ...  Price  Mileage_int\n",
              "4   Audi A4 New 2.0 TDI Multitronic  Coimbatore  ...  17.74        15.20\n",
              "9    Tata Indica Vista Quadrajet LS     Chennai  ...   1.95        22.30\n",
              "14   Land Rover Freelander 2 TD4 SE        Pune  ...  17.50          NaN\n",
              "21    Maruti S Cross DDiS 200 Alpha   Bangalore  ...   8.25        23.65\n",
              "27    Maruti Alto K10 2010-2014 VXI   Hyderabad  ...   2.75        20.92\n",
              "\n",
              "[5 rows x 12 columns]"
            ]
          },
          "metadata": {
            "tags": []
          },
          "execution_count": 222
        }
      ]
    },
    {
      "cell_type": "code",
      "metadata": {
        "id": "9jAyR_bNWmRh",
        "colab": {
          "base_uri": "https://localhost:8080/",
          "height": 379
        },
        "outputId": "ae2afb7f-7e02-43ee-b8fe-cb92e236cd37"
      },
      "source": [
        "features.info()"
      ],
      "execution_count": null,
      "outputs": [
        {
          "output_type": "stream",
          "text": [
            "<class 'pandas.core.frame.DataFrame'>\n",
            "Int64Index: 1090 entries, 4 to 6016\n",
            "Data columns (total 12 columns):\n",
            " #   Column             Non-Null Count  Dtype  \n",
            "---  ------             --------------  -----  \n",
            " 0   Name               1090 non-null   object \n",
            " 1   Location           1090 non-null   object \n",
            " 2   Year               1090 non-null   int64  \n",
            " 3   Kilometers_Driven  1090 non-null   int64  \n",
            " 4   Fuel_Type          1090 non-null   object \n",
            " 5   Transmission       1090 non-null   object \n",
            " 6   Owner_Type         1090 non-null   object \n",
            " 7   Engine             1076 non-null   object \n",
            " 8   Power              1076 non-null   object \n",
            " 9   Seats              1072 non-null   float64\n",
            " 10  Price              1090 non-null   float64\n",
            " 11  Mileage_int        1065 non-null   float64\n",
            "dtypes: float64(3), int64(2), object(7)\n",
            "memory usage: 110.7+ KB\n"
          ],
          "name": "stdout"
        }
      ]
    },
    {
      "cell_type": "code",
      "metadata": {
        "id": "Q7VBfKwYUisg"
      },
      "source": [
        "features['Engine'] = features['Engine'].str.split(\" \", expand=True).fillna('0')\n",
        "features['Power'] = features['Power'].str.split(\" \", expand=True).fillna('0')\n",
        "features['Name'] = features['Name'].str.split(\" \", expand=True)"
      ],
      "execution_count": null,
      "outputs": []
    },
    {
      "cell_type": "code",
      "metadata": {
        "id": "wXbT15kFUxBQ"
      },
      "source": [
        "features['Engine'] = features.Engine.astype(float)\n",
        "features['Power'] = features.Power.str.replace('null', '0').astype(float)\n"
      ],
      "execution_count": null,
      "outputs": []
    },
    {
      "cell_type": "code",
      "metadata": {
        "id": "952HQbnIXJyI",
        "colab": {
          "base_uri": "https://localhost:8080/",
          "height": 379
        },
        "outputId": "084ed5c8-68d0-47cc-9121-1a09a9181d36"
      },
      "source": [
        "features.info()"
      ],
      "execution_count": null,
      "outputs": [
        {
          "output_type": "stream",
          "text": [
            "<class 'pandas.core.frame.DataFrame'>\n",
            "Int64Index: 1090 entries, 4 to 6016\n",
            "Data columns (total 12 columns):\n",
            " #   Column             Non-Null Count  Dtype  \n",
            "---  ------             --------------  -----  \n",
            " 0   Name               1090 non-null   object \n",
            " 1   Location           1090 non-null   object \n",
            " 2   Year               1090 non-null   int64  \n",
            " 3   Kilometers_Driven  1090 non-null   int64  \n",
            " 4   Fuel_Type          1090 non-null   object \n",
            " 5   Transmission       1090 non-null   object \n",
            " 6   Owner_Type         1090 non-null   object \n",
            " 7   Engine             1090 non-null   float64\n",
            " 8   Power              1090 non-null   float64\n",
            " 9   Seats              1072 non-null   float64\n",
            " 10  Price              1090 non-null   float64\n",
            " 11  Mileage_int        1065 non-null   float64\n",
            "dtypes: float64(5), int64(2), object(5)\n",
            "memory usage: 110.7+ KB\n"
          ],
          "name": "stdout"
        }
      ]
    },
    {
      "cell_type": "code",
      "metadata": {
        "id": "QQBiAd8yXuxc",
        "colab": {
          "base_uri": "https://localhost:8080/",
          "height": 206
        },
        "outputId": "f507b8d5-23ff-4432-b514-1eb8717ae65a"
      },
      "source": [
        "features.head()"
      ],
      "execution_count": null,
      "outputs": [
        {
          "output_type": "execute_result",
          "data": {
            "text/html": [
              "<div>\n",
              "<style scoped>\n",
              "    .dataframe tbody tr th:only-of-type {\n",
              "        vertical-align: middle;\n",
              "    }\n",
              "\n",
              "    .dataframe tbody tr th {\n",
              "        vertical-align: top;\n",
              "    }\n",
              "\n",
              "    .dataframe thead th {\n",
              "        text-align: right;\n",
              "    }\n",
              "</style>\n",
              "<table border=\"1\" class=\"dataframe\">\n",
              "  <thead>\n",
              "    <tr style=\"text-align: right;\">\n",
              "      <th></th>\n",
              "      <th>Name</th>\n",
              "      <th>Location</th>\n",
              "      <th>Year</th>\n",
              "      <th>Kilometers_Driven</th>\n",
              "      <th>Fuel_Type</th>\n",
              "      <th>Transmission</th>\n",
              "      <th>Owner_Type</th>\n",
              "      <th>Engine</th>\n",
              "      <th>Power</th>\n",
              "      <th>Seats</th>\n",
              "      <th>Price</th>\n",
              "      <th>Mileage_int</th>\n",
              "    </tr>\n",
              "  </thead>\n",
              "  <tbody>\n",
              "    <tr>\n",
              "      <th>4</th>\n",
              "      <td>Audi</td>\n",
              "      <td>Coimbatore</td>\n",
              "      <td>2013</td>\n",
              "      <td>40670</td>\n",
              "      <td>Diesel</td>\n",
              "      <td>Automatic</td>\n",
              "      <td>Second</td>\n",
              "      <td>1968.0</td>\n",
              "      <td>140.8</td>\n",
              "      <td>5.0</td>\n",
              "      <td>17.74</td>\n",
              "      <td>15.20</td>\n",
              "    </tr>\n",
              "    <tr>\n",
              "      <th>9</th>\n",
              "      <td>Tata</td>\n",
              "      <td>Chennai</td>\n",
              "      <td>2012</td>\n",
              "      <td>65932</td>\n",
              "      <td>Diesel</td>\n",
              "      <td>Manual</td>\n",
              "      <td>Second</td>\n",
              "      <td>1248.0</td>\n",
              "      <td>74.0</td>\n",
              "      <td>5.0</td>\n",
              "      <td>1.95</td>\n",
              "      <td>22.30</td>\n",
              "    </tr>\n",
              "    <tr>\n",
              "      <th>14</th>\n",
              "      <td>Land</td>\n",
              "      <td>Pune</td>\n",
              "      <td>2012</td>\n",
              "      <td>85000</td>\n",
              "      <td>Diesel</td>\n",
              "      <td>Automatic</td>\n",
              "      <td>Second</td>\n",
              "      <td>2179.0</td>\n",
              "      <td>115.0</td>\n",
              "      <td>5.0</td>\n",
              "      <td>17.50</td>\n",
              "      <td>NaN</td>\n",
              "    </tr>\n",
              "    <tr>\n",
              "      <th>21</th>\n",
              "      <td>Maruti</td>\n",
              "      <td>Bangalore</td>\n",
              "      <td>2015</td>\n",
              "      <td>55392</td>\n",
              "      <td>Diesel</td>\n",
              "      <td>Manual</td>\n",
              "      <td>Second</td>\n",
              "      <td>1248.0</td>\n",
              "      <td>88.5</td>\n",
              "      <td>5.0</td>\n",
              "      <td>8.25</td>\n",
              "      <td>23.65</td>\n",
              "    </tr>\n",
              "    <tr>\n",
              "      <th>27</th>\n",
              "      <td>Maruti</td>\n",
              "      <td>Hyderabad</td>\n",
              "      <td>2013</td>\n",
              "      <td>54000</td>\n",
              "      <td>Petrol</td>\n",
              "      <td>Manual</td>\n",
              "      <td>Second</td>\n",
              "      <td>998.0</td>\n",
              "      <td>67.1</td>\n",
              "      <td>5.0</td>\n",
              "      <td>2.75</td>\n",
              "      <td>20.92</td>\n",
              "    </tr>\n",
              "  </tbody>\n",
              "</table>\n",
              "</div>"
            ],
            "text/plain": [
              "      Name    Location  Year  ...  Seats  Price Mileage_int\n",
              "4     Audi  Coimbatore  2013  ...    5.0  17.74       15.20\n",
              "9     Tata     Chennai  2012  ...    5.0   1.95       22.30\n",
              "14    Land        Pune  2012  ...    5.0  17.50         NaN\n",
              "21  Maruti   Bangalore  2015  ...    5.0   8.25       23.65\n",
              "27  Maruti   Hyderabad  2013  ...    5.0   2.75       20.92\n",
              "\n",
              "[5 rows x 12 columns]"
            ]
          },
          "metadata": {
            "tags": []
          },
          "execution_count": 227
        }
      ]
    },
    {
      "cell_type": "code",
      "metadata": {
        "id": "9_rAOOY_du_7"
      },
      "source": [
        "features['Seats'].replace(0, np.nan, inplace=True)"
      ],
      "execution_count": null,
      "outputs": []
    },
    {
      "cell_type": "code",
      "metadata": {
        "id": "G-8w15Dth-aG"
      },
      "source": [
        "features.dropna(inplace=True)"
      ],
      "execution_count": null,
      "outputs": []
    },
    {
      "cell_type": "code",
      "metadata": {
        "id": "JYS6UiKDiz55"
      },
      "source": [
        "features_Int = pd.get_dummies(features)"
      ],
      "execution_count": null,
      "outputs": []
    },
    {
      "cell_type": "code",
      "metadata": {
        "id": "LVnpUU8pj6N5",
        "colab": {
          "base_uri": "https://localhost:8080/",
          "height": 36
        },
        "outputId": "3f99c9e2-0b61-45e4-e7f7-cac4b4cd3cff"
      },
      "source": [
        "features_Int.shape"
      ],
      "execution_count": null,
      "outputs": [
        {
          "output_type": "execute_result",
          "data": {
            "text/plain": [
              "(1052, 51)"
            ]
          },
          "metadata": {
            "tags": []
          },
          "execution_count": 231
        }
      ]
    },
    {
      "cell_type": "code",
      "metadata": {
        "id": "idO-8mv_WbfB",
        "colab": {
          "base_uri": "https://localhost:8080/",
          "height": 169
        },
        "outputId": "53fa4a55-af08-4e71-9608-abbb2d36d53b"
      },
      "source": [
        "features_Int.select_dtypes(['float', 'int']).isna().any()"
      ],
      "execution_count": null,
      "outputs": [
        {
          "output_type": "execute_result",
          "data": {
            "text/plain": [
              "Year                 False\n",
              "Kilometers_Driven    False\n",
              "Engine               False\n",
              "Power                False\n",
              "Seats                False\n",
              "Price                False\n",
              "Mileage_int          False\n",
              "dtype: bool"
            ]
          },
          "metadata": {
            "tags": []
          },
          "execution_count": 232
        }
      ]
    },
    {
      "cell_type": "markdown",
      "metadata": {
        "id": "uy8vqltCVkDR"
      },
      "source": [
        "### Outlier and Distribution Treatment"
      ]
    },
    {
      "cell_type": "code",
      "metadata": {
        "id": "_j8mHK-udF74",
        "colab": {
          "base_uri": "https://localhost:8080/",
          "height": 300
        },
        "outputId": "32159e32-4e83-47bb-d96b-81c77ed4782e"
      },
      "source": [
        "features_Int.select_dtypes(['float', 'int']).describe()"
      ],
      "execution_count": null,
      "outputs": [
        {
          "output_type": "execute_result",
          "data": {
            "text/html": [
              "<div>\n",
              "<style scoped>\n",
              "    .dataframe tbody tr th:only-of-type {\n",
              "        vertical-align: middle;\n",
              "    }\n",
              "\n",
              "    .dataframe tbody tr th {\n",
              "        vertical-align: top;\n",
              "    }\n",
              "\n",
              "    .dataframe thead th {\n",
              "        text-align: right;\n",
              "    }\n",
              "</style>\n",
              "<table border=\"1\" class=\"dataframe\">\n",
              "  <thead>\n",
              "    <tr style=\"text-align: right;\">\n",
              "      <th></th>\n",
              "      <th>Year</th>\n",
              "      <th>Kilometers_Driven</th>\n",
              "      <th>Engine</th>\n",
              "      <th>Power</th>\n",
              "      <th>Seats</th>\n",
              "      <th>Price</th>\n",
              "      <th>Mileage_int</th>\n",
              "    </tr>\n",
              "  </thead>\n",
              "  <tbody>\n",
              "    <tr>\n",
              "      <th>count</th>\n",
              "      <td>1052.000000</td>\n",
              "      <td>1052.000000</td>\n",
              "      <td>1052.000000</td>\n",
              "      <td>1052.000000</td>\n",
              "      <td>1052.000000</td>\n",
              "      <td>1052.000000</td>\n",
              "      <td>1052.000000</td>\n",
              "    </tr>\n",
              "    <tr>\n",
              "      <th>mean</th>\n",
              "      <td>2010.890684</td>\n",
              "      <td>73817.398289</td>\n",
              "      <td>1689.265209</td>\n",
              "      <td>113.854411</td>\n",
              "      <td>5.286122</td>\n",
              "      <td>7.311093</td>\n",
              "      <td>17.044838</td>\n",
              "    </tr>\n",
              "    <tr>\n",
              "      <th>std</th>\n",
              "      <td>3.413527</td>\n",
              "      <td>37265.157621</td>\n",
              "      <td>629.050597</td>\n",
              "      <td>60.046189</td>\n",
              "      <td>0.840731</td>\n",
              "      <td>9.804591</td>\n",
              "      <td>3.929385</td>\n",
              "    </tr>\n",
              "    <tr>\n",
              "      <th>min</th>\n",
              "      <td>1998.000000</td>\n",
              "      <td>3000.000000</td>\n",
              "      <td>624.000000</td>\n",
              "      <td>0.000000</td>\n",
              "      <td>2.000000</td>\n",
              "      <td>0.440000</td>\n",
              "      <td>6.400000</td>\n",
              "    </tr>\n",
              "    <tr>\n",
              "      <th>25%</th>\n",
              "      <td>2009.000000</td>\n",
              "      <td>49000.000000</td>\n",
              "      <td>1198.000000</td>\n",
              "      <td>74.000000</td>\n",
              "      <td>5.000000</td>\n",
              "      <td>2.400000</td>\n",
              "      <td>14.020000</td>\n",
              "    </tr>\n",
              "    <tr>\n",
              "      <th>50%</th>\n",
              "      <td>2011.000000</td>\n",
              "      <td>67810.000000</td>\n",
              "      <td>1497.000000</td>\n",
              "      <td>100.000000</td>\n",
              "      <td>5.000000</td>\n",
              "      <td>4.050000</td>\n",
              "      <td>17.000000</td>\n",
              "    </tr>\n",
              "    <tr>\n",
              "      <th>75%</th>\n",
              "      <td>2013.000000</td>\n",
              "      <td>90000.000000</td>\n",
              "      <td>1995.000000</td>\n",
              "      <td>141.100000</td>\n",
              "      <td>5.000000</td>\n",
              "      <td>7.727500</td>\n",
              "      <td>19.300000</td>\n",
              "    </tr>\n",
              "    <tr>\n",
              "      <th>max</th>\n",
              "      <td>2018.000000</td>\n",
              "      <td>262000.000000</td>\n",
              "      <td>5461.000000</td>\n",
              "      <td>560.000000</td>\n",
              "      <td>10.000000</td>\n",
              "      <td>120.000000</td>\n",
              "      <td>33.440000</td>\n",
              "    </tr>\n",
              "  </tbody>\n",
              "</table>\n",
              "</div>"
            ],
            "text/plain": [
              "              Year  Kilometers_Driven  ...        Price  Mileage_int\n",
              "count  1052.000000        1052.000000  ...  1052.000000  1052.000000\n",
              "mean   2010.890684       73817.398289  ...     7.311093    17.044838\n",
              "std       3.413527       37265.157621  ...     9.804591     3.929385\n",
              "min    1998.000000        3000.000000  ...     0.440000     6.400000\n",
              "25%    2009.000000       49000.000000  ...     2.400000    14.020000\n",
              "50%    2011.000000       67810.000000  ...     4.050000    17.000000\n",
              "75%    2013.000000       90000.000000  ...     7.727500    19.300000\n",
              "max    2018.000000      262000.000000  ...   120.000000    33.440000\n",
              "\n",
              "[8 rows x 7 columns]"
            ]
          },
          "metadata": {
            "tags": []
          },
          "execution_count": 233
        }
      ]
    },
    {
      "cell_type": "code",
      "metadata": {
        "id": "o7_Asu57T0xZ",
        "colab": {
          "base_uri": "https://localhost:8080/",
          "height": 390
        },
        "outputId": "cf83616e-5005-48ee-a81b-023806c77ea5"
      },
      "source": [
        "# Scaling without Logaritmic Scale \n",
        "\n",
        "fig, ax = plt.subplots(1,5, figsize=(18, 6))\n",
        "ax[0].boxplot(list(features_Int.Kilometers_Driven))\n",
        "ax[0].set_title(\"Kilometers Driven\")\n",
        "\n",
        "ax[1].boxplot(features_Int.Mileage_int)\n",
        "ax[1].set_title(\"Mileage\")\n",
        "\n",
        "ax[2].boxplot(list(features_Int.Engine))\n",
        "ax[2].set_title(\"Engine\")\n",
        "    \n",
        "ax[3].boxplot(list(features_Int.Power))\n",
        "ax[3].set_title(\"Power\")\n",
        "    \n",
        "ax[4].boxplot(list(features_Int.Price))\n",
        "ax[4].set_title(\"Price\")\n",
        "\n",
        "\n",
        "plt.show()"
      ],
      "execution_count": null,
      "outputs": [
        {
          "output_type": "display_data",
          "data": {
            "image/png": "[encoded data removed]",
            "text/plain": [
              "<Figure size 1296x432 with 5 Axes>"
            ]
          },
          "metadata": {
            "tags": [],
            "needs_background": "light"
          }
        }
      ]
    },
    {
      "cell_type": "code",
      "metadata": {
        "id": "9ht9jPkDIHww",
        "colab": {
          "base_uri": "https://localhost:8080/",
          "height": 428
        },
        "outputId": "54e62057-1667-433b-d507-1b8ad1e6c5c9"
      },
      "source": [
        "# Scaling using Logarithmic Scale -> Reduce outliers\n",
        "\n",
        "fig, ax = plt.subplots(1,5, figsize=(18, 6))\n",
        "ax[0].boxplot(list(np.log(features_Int.Kilometers_Driven)))\n",
        "ax[0].set_title(\"Kilometers Driven\")\n",
        "\n",
        "ax[1].boxplot(np.log1p(features_Int.Mileage_int))\n",
        "ax[1].set_title(\"Mileage\")\n",
        "\n",
        "ax[2].boxplot(list(np.log1p(features_Int.Engine)))\n",
        "ax[2].set_title(\"Engine\")\n",
        "    \n",
        "ax[3].boxplot(list(np.log(features_Int.Power)))\n",
        "ax[3].set_title(\"Power\")\n",
        "    \n",
        "ax[4].boxplot(list(np.log(features_Int.Price)))\n",
        "ax[4].set_title(\"Price\")\n",
        "    \n",
        "plt.show()"
      ],
      "execution_count": null,
      "outputs": [
        {
          "output_type": "stream",
          "text": [
            "/usr/local/lib/python3.6/dist-packages/pandas/core/series.py:679: RuntimeWarning: divide by zero encountered in log\n",
            "  result = getattr(ufunc, method)(*inputs, **kwargs)\n"
          ],
          "name": "stderr"
        },
        {
          "output_type": "display_data",
          "data": {
            "image/png": "[encoded data removed]",
            "text/plain": [
              "<Figure size 1296x432 with 5 Axes>"
            ]
          },
          "metadata": {
            "tags": [],
            "needs_background": "light"
          }
        }
      ]
    },
    {
      "cell_type": "code",
      "metadata": {
        "id": "nBXRcmC2_MZg",
        "colab": {
          "base_uri": "https://localhost:8080/",
          "height": 87
        },
        "outputId": "577b7687-0813-40c0-e4bc-c37a2fb670be"
      },
      "source": [
        "features_Int[features_Int['Price'] == 0]"
      ],
      "execution_count": null,
      "outputs": [
        {
          "output_type": "execute_result",
          "data": {
            "text/html": [
              "<div>\n",
              "<style scoped>\n",
              "    .dataframe tbody tr th:only-of-type {\n",
              "        vertical-align: middle;\n",
              "    }\n",
              "\n",
              "    .dataframe tbody tr th {\n",
              "        vertical-align: top;\n",
              "    }\n",
              "\n",
              "    .dataframe thead th {\n",
              "        text-align: right;\n",
              "    }\n",
              "</style>\n",
              "<table border=\"1\" class=\"dataframe\">\n",
              "  <thead>\n",
              "    <tr style=\"text-align: right;\">\n",
              "      <th></th>\n",
              "      <th>Year</th>\n",
              "      <th>Kilometers_Driven</th>\n",
              "      <th>Engine</th>\n",
              "      <th>Power</th>\n",
              "      <th>Seats</th>\n",
              "      <th>Price</th>\n",
              "      <th>Mileage_int</th>\n",
              "      <th>Name_Ambassador</th>\n",
              "      <th>Name_Audi</th>\n",
              "      <th>Name_BMW</th>\n",
              "      <th>Name_Chevrolet</th>\n",
              "      <th>Name_Fiat</th>\n",
              "      <th>Name_Ford</th>\n",
              "      <th>Name_Honda</th>\n",
              "      <th>Name_Hyundai</th>\n",
              "      <th>Name_Jaguar</th>\n",
              "      <th>Name_Lamborghini</th>\n",
              "      <th>Name_Land</th>\n",
              "      <th>Name_Mahindra</th>\n",
              "      <th>Name_Maruti</th>\n",
              "      <th>Name_Mercedes-Benz</th>\n",
              "      <th>Name_Mini</th>\n",
              "      <th>Name_Mitsubishi</th>\n",
              "      <th>Name_Nissan</th>\n",
              "      <th>Name_Porsche</th>\n",
              "      <th>Name_Renault</th>\n",
              "      <th>Name_Skoda</th>\n",
              "      <th>Name_Tata</th>\n",
              "      <th>Name_Toyota</th>\n",
              "      <th>Name_Volkswagen</th>\n",
              "      <th>Name_Volvo</th>\n",
              "      <th>Location_Ahmedabad</th>\n",
              "      <th>Location_Bangalore</th>\n",
              "      <th>Location_Chennai</th>\n",
              "      <th>Location_Coimbatore</th>\n",
              "      <th>Location_Delhi</th>\n",
              "      <th>Location_Hyderabad</th>\n",
              "      <th>Location_Jaipur</th>\n",
              "      <th>Location_Kochi</th>\n",
              "      <th>Location_Kolkata</th>\n",
              "      <th>Location_Mumbai</th>\n",
              "      <th>Location_Pune</th>\n",
              "      <th>Fuel_Type_CNG</th>\n",
              "      <th>Fuel_Type_Diesel</th>\n",
              "      <th>Fuel_Type_LPG</th>\n",
              "      <th>Fuel_Type_Petrol</th>\n",
              "      <th>Transmission_Automatic</th>\n",
              "      <th>Transmission_Manual</th>\n",
              "      <th>Owner_Type_Fourth &amp; Above</th>\n",
              "      <th>Owner_Type_Second</th>\n",
              "      <th>Owner_Type_Third</th>\n",
              "    </tr>\n",
              "  </thead>\n",
              "  <tbody>\n",
              "  </tbody>\n",
              "</table>\n",
              "</div>"
            ],
            "text/plain": [
              "Empty DataFrame\n",
              "Columns: [Year, Kilometers_Driven, Engine, Power, Seats, Price, Mileage_int, Name_Ambassador, Name_Audi, Name_BMW, Name_Chevrolet, Name_Fiat, Name_Ford, Name_Honda, Name_Hyundai, Name_Jaguar, Name_Lamborghini, Name_Land, Name_Mahindra, Name_Maruti, Name_Mercedes-Benz, Name_Mini, Name_Mitsubishi, Name_Nissan, Name_Porsche, Name_Renault, Name_Skoda, Name_Tata, Name_Toyota, Name_Volkswagen, Name_Volvo, Location_Ahmedabad, Location_Bangalore, Location_Chennai, Location_Coimbatore, Location_Delhi, Location_Hyderabad, Location_Jaipur, Location_Kochi, Location_Kolkata, Location_Mumbai, Location_Pune, Fuel_Type_CNG, Fuel_Type_Diesel, Fuel_Type_LPG, Fuel_Type_Petrol, Transmission_Automatic, Transmission_Manual, Owner_Type_Fourth & Above, Owner_Type_Second, Owner_Type_Third]\n",
              "Index: []"
            ]
          },
          "metadata": {
            "tags": []
          },
          "execution_count": 236
        }
      ]
    },
    {
      "cell_type": "markdown",
      "metadata": {
        "id": "2nxpwT0IxTKJ"
      },
      "source": [
        "RuntimeWarning --> Power feature returns 0, needs another treatment\n",
        "try : 1/np.sqrt()"
      ]
    },
    {
      "cell_type": "markdown",
      "metadata": {
        "id": "dx6enqwGU7ol"
      },
      "source": [
        "Kilometers Driven needs treatment :\n",
        "1. IQR\n",
        "2. Imputation with mean"
      ]
    },
    {
      "cell_type": "code",
      "metadata": {
        "id": "MxQaGjAsK4Jf",
        "colab": {
          "base_uri": "https://localhost:8080/",
          "height": 55
        },
        "outputId": "b51585c0-ca19-4254-d6d8-bfb255548bf2"
      },
      "source": [
        "print(\"Skew \", np.log(features_Int['Price']).skew())\n",
        "print(\"kurt \", np.log(features_Int['Price']).kurt())"
      ],
      "execution_count": null,
      "outputs": [
        {
          "output_type": "stream",
          "text": [
            "Skew  0.41160305683838533\n",
            "kurt  0.06384273738497193\n"
          ],
          "name": "stdout"
        }
      ]
    },
    {
      "cell_type": "code",
      "metadata": {
        "id": "kbxjK0IOTLtj",
        "colab": {
          "base_uri": "https://localhost:8080/",
          "height": 55
        },
        "outputId": "1a846ccc-c9aa-4f78-ef34-00e6f56c94a3"
      },
      "source": [
        "print(\"Skew \", np.log(features_Int['Kilometers_Driven']).skew())\n",
        "print(\"kurt \", np.log(features_Int['Kilometers_Driven']).kurt())"
      ],
      "execution_count": null,
      "outputs": [
        {
          "output_type": "stream",
          "text": [
            "Skew  -0.7778916655122923\n",
            "kurt  2.2909674945635277\n"
          ],
          "name": "stdout"
        }
      ]
    },
    {
      "cell_type": "code",
      "metadata": {
        "id": "XBHwnLMD_49F"
      },
      "source": [
        "features_Int['Power'] = features_Int['Power'].mask(features_Int['Power'] == 0, features_Int['Power'].mean())"
      ],
      "execution_count": null,
      "outputs": []
    },
    {
      "cell_type": "markdown",
      "metadata": {
        "id": "9bXf7YORJA8O"
      },
      "source": [
        "GLM log link for Price column"
      ]
    },
    {
      "cell_type": "code",
      "metadata": {
        "id": "jDh4pEiXZ10S"
      },
      "source": [
        "# features_Int['Price_log'] = np.log1p(features_Int['Price'])\n",
        "# features_Int['Power_log'] = 1/np.sqrt(features_Int.Power)\n",
        "# features_Int['Engine_log'] = np.log(features_Int['Engine'])\n",
        "# features_Int['Mileage_log'] = np.log(features_Int['Mileage_int'])"
      ],
      "execution_count": null,
      "outputs": []
    },
    {
      "cell_type": "markdown",
      "metadata": {
        "id": "GMJ-Udq9Vu0W"
      },
      "source": [
        "### Feature Selection"
      ]
    },
    {
      "cell_type": "code",
      "metadata": {
        "id": "baGsFOUNoknk"
      },
      "source": [
        "X = features_Int.drop(['Price'], axis=1)\n",
        "y = features_Int['Price']"
      ],
      "execution_count": null,
      "outputs": []
    },
    {
      "cell_type": "code",
      "metadata": {
        "id": "OkTuH6Xyd0mQ"
      },
      "source": [
        "# y = np.log1p(y)\n",
        "# X['Power'] = np.log10(X.Power)\n",
        "# X['Engine'] = np.log10(X['Engine'])\n",
        "# X['Mileage_int'] = np.log10(X['Mileage_int'])"
      ],
      "execution_count": null,
      "outputs": []
    },
    {
      "cell_type": "code",
      "metadata": {
        "id": "7yfslwRIcub5"
      },
      "source": [
        "from sklearn.preprocessing import FunctionTransformer"
      ],
      "execution_count": null,
      "outputs": []
    },
    {
      "cell_type": "code",
      "metadata": {
        "id": "H0WgcEMZcvr7"
      },
      "source": [
        "# transformer = FunctionTransformer(np.log, validate=True)"
      ],
      "execution_count": null,
      "outputs": []
    },
    {
      "cell_type": "code",
      "metadata": {
        "id": "PPtmKuuMcyX3"
      },
      "source": [
        "# X = transformer.transform(X)"
      ],
      "execution_count": null,
      "outputs": []
    },
    {
      "cell_type": "markdown",
      "metadata": {
        "id": "IIfVCgeyRLE-"
      },
      "source": [
        "Univariate Selection"
      ]
    },
    {
      "cell_type": "code",
      "metadata": {
        "id": "2UfWzZ2OQN_n"
      },
      "source": [
        "from sklearn.feature_selection import SelectKBest\n",
        "from sklearn.feature_selection import f_regression"
      ],
      "execution_count": null,
      "outputs": []
    },
    {
      "cell_type": "code",
      "metadata": {
        "id": "km0YdOD7QS_k"
      },
      "source": [
        "# Building model\n",
        "fs = SelectKBest(score_func=f_regression, k=26)\n",
        "X_selected = fs.fit(X, y)"
      ],
      "execution_count": null,
      "outputs": []
    },
    {
      "cell_type": "code",
      "metadata": {
        "id": "JL28_54MQiiZ",
        "colab": {
          "base_uri": "https://localhost:8080/",
          "height": 322
        },
        "outputId": "13e0ea29-a1ac-442c-94e8-6c10a61487ec"
      },
      "source": [
        "dfscores = pd.DataFrame(X_selected.scores_)\n",
        "dfcolumns = pd.DataFrame(X.columns)\n",
        "\n",
        "featureScores = pd.concat([dfcolumns,dfscores],axis=1)\n",
        "featureScores.columns = ['Features','Score']  \n",
        "print(featureScores.nlargest(15,'Score'))  #print 10 best features"
      ],
      "execution_count": null,
      "outputs": [
        {
          "output_type": "stream",
          "text": [
            "                  Features        Score\n",
            "3                    Power  1364.026351\n",
            "2                   Engine   785.690570\n",
            "46     Transmission_Manual   456.756499\n",
            "45  Transmission_Automatic   456.756499\n",
            "15        Name_Lamborghini   151.111279\n",
            "7                Name_Audi   137.111282\n",
            "0                     Year   134.464948\n",
            "42        Fuel_Type_Diesel   121.638868\n",
            "44        Fuel_Type_Petrol   111.769399\n",
            "16               Name_Land   102.510719\n",
            "23            Name_Porsche    99.753940\n",
            "8                 Name_BMW    76.206327\n",
            "5              Mileage_int    73.561902\n",
            "19      Name_Mercedes-Benz    54.002121\n",
            "1        Kilometers_Driven    52.389345\n"
          ],
          "name": "stdout"
        }
      ]
    },
    {
      "cell_type": "markdown",
      "metadata": {
        "id": "5ZU-1mIuRHPb"
      },
      "source": [
        "Features Importances using ensemble ETR\n",
        "\n"
      ]
    },
    {
      "cell_type": "code",
      "metadata": {
        "id": "GSY63XVrorwn",
        "colab": {
          "base_uri": "https://localhost:8080/",
          "height": 483
        },
        "outputId": "f83a0a4b-fe52-4c3a-968b-2f86dec58bae"
      },
      "source": [
        "from sklearn.ensemble import ExtraTreesRegressor\n",
        "\n",
        "model = ExtraTreesRegressor()\n",
        "model.fit(X,y)\n",
        "# print(model.feature_importances_) \n",
        "feat_importances = pd.Series(model.feature_importances_, index=X.columns)\n",
        "plt.figure(figsize=(12, 8))\n",
        "feat_importances.nlargest(10).plot(kind='barh')\n",
        "plt.show()"
      ],
      "execution_count": null,
      "outputs": [
        {
          "output_type": "display_data",
          "data": {
            "image/png": "[encoded data removed]",
            "text/plain": [
              "<Figure size 864x576 with 1 Axes>"
            ]
          },
          "metadata": {
            "tags": [],
            "needs_background": "light"
          }
        }
      ]
    },
    {
      "cell_type": "markdown",
      "metadata": {
        "id": "1OeNwZ66p5fC"
      },
      "source": [
        "Feature Importance Using RandomForestRegressor\n",
        "- Not robust to outlier\n",
        "- doesnt need scaling/ centering"
      ]
    },
    {
      "cell_type": "code",
      "metadata": {
        "id": "d9rM5tALp8HW"
      },
      "source": [
        "from sklearn.ensemble import RandomForestRegressor"
      ],
      "execution_count": null,
      "outputs": []
    },
    {
      "cell_type": "code",
      "metadata": {
        "id": "6QRml7tEqCxN",
        "colab": {
          "base_uri": "https://localhost:8080/",
          "height": 150
        },
        "outputId": "3f895a4d-faf8-4844-fb67-e622e5b95333"
      },
      "source": [
        "rf = RandomForestRegressor()\n",
        "rf.fit(X, y)"
      ],
      "execution_count": null,
      "outputs": [
        {
          "output_type": "execute_result",
          "data": {
            "text/plain": [
              "RandomForestRegressor(bootstrap=True, ccp_alpha=0.0, criterion='mse',\n",
              "                      max_depth=None, max_features='auto', max_leaf_nodes=None,\n",
              "                      max_samples=None, min_impurity_decrease=0.0,\n",
              "                      min_impurity_split=None, min_samples_leaf=1,\n",
              "                      min_samples_split=2, min_weight_fraction_leaf=0.0,\n",
              "                      n_estimators=100, n_jobs=None, oob_score=False,\n",
              "                      random_state=None, verbose=0, warm_start=False)"
            ]
          },
          "metadata": {
            "tags": []
          },
          "execution_count": 252
        }
      ]
    },
    {
      "cell_type": "code",
      "metadata": {
        "id": "_C_1PadTqbM0",
        "colab": {
          "base_uri": "https://localhost:8080/",
          "height": 497
        },
        "outputId": "d96b1d83-9b47-4851-9f7c-79d1db5796b6"
      },
      "source": [
        "feat_importances = pd.Series(rf.feature_importances_, index=X.columns)\n",
        "plt.figure(figsize=(12, 8))\n",
        "feat_importances.nlargest(11).plot(kind='barh')\n",
        "plt.xlabel('Coefficient of Importance')\n",
        "plt.ylabel('Feature')\n",
        "plt.show()"
      ],
      "execution_count": null,
      "outputs": [
        {
          "output_type": "display_data",
          "data": {
            "image/png": "[encoded data removed]",
            "text/plain": [
              "<Figure size 864x576 with 1 Axes>"
            ]
          },
          "metadata": {
            "tags": [],
            "needs_background": "light"
          }
        }
      ]
    },
    {
      "cell_type": "markdown",
      "metadata": {
        "id": "D5W--1hQ2DCr"
      },
      "source": [
        "Lasso Regularization as scaler to standardize data scale\n",
        "- Main reason using this approach is to provide a principled way to reduce the number of features in a model\n",
        "- It can shrink useless feature to 0 because every low coefficient (weight) of feature (close to zero) will be given a penalty\n",
        "- Also, when features are correlated, LASSO will choose one or the other based on its performance in the particular data sample at hand."
      ]
    },
    {
      "cell_type": "code",
      "metadata": {
        "id": "VmxiFSse2dMy"
      },
      "source": [
        "from sklearn.linear_model import Lasso\n",
        "from sklearn.feature_selection import SelectFromModel"
      ],
      "execution_count": null,
      "outputs": []
    },
    {
      "cell_type": "code",
      "metadata": {
        "id": "2JNcgGFN4XLI"
      },
      "source": [
        "scaler = StandardScaler()\n",
        "scaled_X = scaler.fit_transform(X)"
      ],
      "execution_count": null,
      "outputs": []
    },
    {
      "cell_type": "code",
      "metadata": {
        "id": "B13t9gdt2wNj"
      },
      "source": [
        "lasso = Lasso(alpha=0.4)\n",
        "lasso_coef = lasso.fit(scaled_X, y).coef_"
      ],
      "execution_count": null,
      "outputs": []
    },
    {
      "cell_type": "code",
      "metadata": {
        "id": "5PnfFvhv305I",
        "colab": {
          "base_uri": "https://localhost:8080/",
          "height": 615
        },
        "outputId": "4da0dd9d-f7ee-4910-a5d5-a8c818998204"
      },
      "source": [
        "plt.figure(figsize=(18,8))\n",
        "plt.plot(range(len(X.columns)), lasso_coef)\n",
        "plt.xticks(range(len(X.columns)), X.columns, rotation=90)\n",
        "plt.margins(0.02)\n",
        "\n",
        "plt.show()\n"
      ],
      "execution_count": null,
      "outputs": [
        {
          "output_type": "display_data",
          "data": {
            "image/png": "[encoded data removed]",
            "text/plain": [
              "<Figure size 1296x576 with 1 Axes>"
            ]
          },
          "metadata": {
            "tags": [],
            "needs_background": "light"
          }
        }
      ]
    },
    {
      "cell_type": "code",
      "metadata": {
        "id": "LZ4TKtuL62uL"
      },
      "source": [
        "all_impact = {X.columns[x]:lasso_coef[x] for x in range(len(X.columns))}"
      ],
      "execution_count": null,
      "outputs": []
    },
    {
      "cell_type": "code",
      "metadata": {
        "id": "iBWiHhZM4DK5"
      },
      "source": [
        "negative_impact = {k:v for (k,v) in all_impact.items() if v < 0}\n",
        "positive_impact = {k:v for (k,v) in all_impact.items() if v > 0}"
      ],
      "execution_count": null,
      "outputs": []
    },
    {
      "cell_type": "code",
      "metadata": {
        "id": "faSPthLh_Z9I"
      },
      "source": [
        "impact = pd.DataFrame(list(all_impact.items()), columns=['Features', 'Scores'])"
      ],
      "execution_count": null,
      "outputs": []
    },
    {
      "cell_type": "code",
      "metadata": {
        "id": "Igk-4Ypf_q5c"
      },
      "source": [
        "impact = impact[impact['Scores'] != 0]"
      ],
      "execution_count": null,
      "outputs": []
    },
    {
      "cell_type": "code",
      "metadata": {
        "id": "VvPYtn_j9C97"
      },
      "source": [
        "impact = impact.set_index('Features').sort_values('Scores').reset_index()"
      ],
      "execution_count": null,
      "outputs": []
    },
    {
      "cell_type": "code",
      "metadata": {
        "id": "tnFmt8RSBZQE"
      },
      "source": [
        "tendency = []\n",
        "for i in range(len(impact)):\n",
        "  if impact['Scores'][i] > 0:\n",
        "    tendency.append('Positive')\n",
        "\n",
        "  else:\n",
        "    tendency.append('Negative')"
      ],
      "execution_count": null,
      "outputs": []
    },
    {
      "cell_type": "code",
      "metadata": {
        "id": "ImyGQKdoA8fe"
      },
      "source": [
        "impact['Tendency'] = tendency"
      ],
      "execution_count": null,
      "outputs": []
    },
    {
      "cell_type": "code",
      "metadata": {
        "id": "wMk3nO4fCMkj"
      },
      "source": [
        "impact_pivot = impact.pivot_table(values='Scores', index='Features', columns='Tendency').sort_values(['Positive', 'Negative'], ascending=[False, False]).fillna(0)"
      ],
      "execution_count": null,
      "outputs": []
    },
    {
      "cell_type": "code",
      "metadata": {
        "id": "kOsHiSyDILz5",
        "colab": {
          "base_uri": "https://localhost:8080/",
          "height": 771
        },
        "outputId": "e9d81bf3-32a2-47a9-b4db-9bd00b546d64"
      },
      "source": [
        "impact_pivot"
      ],
      "execution_count": null,
      "outputs": [
        {
          "output_type": "execute_result",
          "data": {
            "text/html": [
              "<div>\n",
              "<style scoped>\n",
              "    .dataframe tbody tr th:only-of-type {\n",
              "        vertical-align: middle;\n",
              "    }\n",
              "\n",
              "    .dataframe tbody tr th {\n",
              "        vertical-align: top;\n",
              "    }\n",
              "\n",
              "    .dataframe thead th {\n",
              "        text-align: right;\n",
              "    }\n",
              "</style>\n",
              "<table border=\"1\" class=\"dataframe\">\n",
              "  <thead>\n",
              "    <tr style=\"text-align: right;\">\n",
              "      <th>Tendency</th>\n",
              "      <th>Negative</th>\n",
              "      <th>Positive</th>\n",
              "    </tr>\n",
              "    <tr>\n",
              "      <th>Features</th>\n",
              "      <th></th>\n",
              "      <th></th>\n",
              "    </tr>\n",
              "  </thead>\n",
              "  <tbody>\n",
              "    <tr>\n",
              "      <th>Power</th>\n",
              "      <td>0.000000e+00</td>\n",
              "      <td>3.848270</td>\n",
              "    </tr>\n",
              "    <tr>\n",
              "      <th>Name_Lamborghini</th>\n",
              "      <td>0.000000e+00</td>\n",
              "      <td>1.910988</td>\n",
              "    </tr>\n",
              "    <tr>\n",
              "      <th>Year</th>\n",
              "      <td>0.000000e+00</td>\n",
              "      <td>1.786253</td>\n",
              "    </tr>\n",
              "    <tr>\n",
              "      <th>Name_Land</th>\n",
              "      <td>0.000000e+00</td>\n",
              "      <td>1.446076</td>\n",
              "    </tr>\n",
              "    <tr>\n",
              "      <th>Engine</th>\n",
              "      <td>0.000000e+00</td>\n",
              "      <td>1.317131</td>\n",
              "    </tr>\n",
              "    <tr>\n",
              "      <th>Name_Audi</th>\n",
              "      <td>0.000000e+00</td>\n",
              "      <td>1.157936</td>\n",
              "    </tr>\n",
              "    <tr>\n",
              "      <th>Name_Porsche</th>\n",
              "      <td>0.000000e+00</td>\n",
              "      <td>0.948774</td>\n",
              "    </tr>\n",
              "    <tr>\n",
              "      <th>Name_Mini</th>\n",
              "      <td>0.000000e+00</td>\n",
              "      <td>0.419412</td>\n",
              "    </tr>\n",
              "    <tr>\n",
              "      <th>Name_BMW</th>\n",
              "      <td>0.000000e+00</td>\n",
              "      <td>0.352888</td>\n",
              "    </tr>\n",
              "    <tr>\n",
              "      <th>Location_Bangalore</th>\n",
              "      <td>0.000000e+00</td>\n",
              "      <td>0.343419</td>\n",
              "    </tr>\n",
              "    <tr>\n",
              "      <th>Transmission_Automatic</th>\n",
              "      <td>0.000000e+00</td>\n",
              "      <td>0.320637</td>\n",
              "    </tr>\n",
              "    <tr>\n",
              "      <th>Name_Jaguar</th>\n",
              "      <td>0.000000e+00</td>\n",
              "      <td>0.286875</td>\n",
              "    </tr>\n",
              "    <tr>\n",
              "      <th>Fuel_Type_Diesel</th>\n",
              "      <td>0.000000e+00</td>\n",
              "      <td>0.223428</td>\n",
              "    </tr>\n",
              "    <tr>\n",
              "      <th>Name_Mercedes-Benz</th>\n",
              "      <td>0.000000e+00</td>\n",
              "      <td>0.134412</td>\n",
              "    </tr>\n",
              "    <tr>\n",
              "      <th>Location_Coimbatore</th>\n",
              "      <td>0.000000e+00</td>\n",
              "      <td>0.115376</td>\n",
              "    </tr>\n",
              "    <tr>\n",
              "      <th>Name_Maruti</th>\n",
              "      <td>0.000000e+00</td>\n",
              "      <td>0.107619</td>\n",
              "    </tr>\n",
              "    <tr>\n",
              "      <th>Transmission_Manual</th>\n",
              "      <td>-2.161347e-16</td>\n",
              "      <td>0.000000</td>\n",
              "    </tr>\n",
              "    <tr>\n",
              "      <th>Fuel_Type_Petrol</th>\n",
              "      <td>-7.855862e-02</td>\n",
              "      <td>0.000000</td>\n",
              "    </tr>\n",
              "    <tr>\n",
              "      <th>Name_Mahindra</th>\n",
              "      <td>-1.571748e-01</td>\n",
              "      <td>0.000000</td>\n",
              "    </tr>\n",
              "    <tr>\n",
              "      <th>Name_Honda</th>\n",
              "      <td>-3.301030e-01</td>\n",
              "      <td>0.000000</td>\n",
              "    </tr>\n",
              "    <tr>\n",
              "      <th>Location_Mumbai</th>\n",
              "      <td>-3.434433e-01</td>\n",
              "      <td>0.000000</td>\n",
              "    </tr>\n",
              "    <tr>\n",
              "      <th>Kilometers_Driven</th>\n",
              "      <td>-4.946986e-01</td>\n",
              "      <td>0.000000</td>\n",
              "    </tr>\n",
              "  </tbody>\n",
              "</table>\n",
              "</div>"
            ],
            "text/plain": [
              "Tendency                    Negative  Positive\n",
              "Features                                      \n",
              "Power                   0.000000e+00  3.848270\n",
              "Name_Lamborghini        0.000000e+00  1.910988\n",
              "Year                    0.000000e+00  1.786253\n",
              "Name_Land               0.000000e+00  1.446076\n",
              "Engine                  0.000000e+00  1.317131\n",
              "Name_Audi               0.000000e+00  1.157936\n",
              "Name_Porsche            0.000000e+00  0.948774\n",
              "Name_Mini               0.000000e+00  0.419412\n",
              "Name_BMW                0.000000e+00  0.352888\n",
              "Location_Bangalore      0.000000e+00  0.343419\n",
              "Transmission_Automatic  0.000000e+00  0.320637\n",
              "Name_Jaguar             0.000000e+00  0.286875\n",
              "Fuel_Type_Diesel        0.000000e+00  0.223428\n",
              "Name_Mercedes-Benz      0.000000e+00  0.134412\n",
              "Location_Coimbatore     0.000000e+00  0.115376\n",
              "Name_Maruti             0.000000e+00  0.107619\n",
              "Transmission_Manual    -2.161347e-16  0.000000\n",
              "Fuel_Type_Petrol       -7.855862e-02  0.000000\n",
              "Name_Mahindra          -1.571748e-01  0.000000\n",
              "Name_Honda             -3.301030e-01  0.000000\n",
              "Location_Mumbai        -3.434433e-01  0.000000\n",
              "Kilometers_Driven      -4.946986e-01  0.000000"
            ]
          },
          "metadata": {
            "tags": []
          },
          "execution_count": 266
        }
      ]
    },
    {
      "cell_type": "markdown",
      "metadata": {
        "id": "2RxnxkNW5JX7"
      },
      "source": [
        "Note :\n",
        "1. Small value of each feature above doesn't always mean small causation\n",
        "2. It might be a nonlinear relationship\n",
        "\n",
        "conclusion\n",
        "1. Needs to examine and elaborates more --> solution : plot with scatterplot"
      ]
    },
    {
      "cell_type": "markdown",
      "metadata": {
        "id": "rbLmMNbIMJGA"
      },
      "source": [
        "## Plotting nonlinear features with polynomial regression (adding quadratic term)"
      ]
    },
    {
      "cell_type": "code",
      "metadata": {
        "id": "kT8WpF2xCC20"
      },
      "source": [
        "import statsmodels.formula.api as smf"
      ],
      "execution_count": null,
      "outputs": []
    },
    {
      "cell_type": "code",
      "metadata": {
        "id": "7PqfqlYEEb4q",
        "colab": {
          "base_uri": "https://localhost:8080/",
          "height": 206
        },
        "outputId": "feeffbd7-0d3d-4a5e-99a3-96de3fb19f4b"
      },
      "source": [
        "features.head()"
      ],
      "execution_count": null,
      "outputs": [
        {
          "output_type": "execute_result",
          "data": {
            "text/html": [
              "<div>\n",
              "<style scoped>\n",
              "    .dataframe tbody tr th:only-of-type {\n",
              "        vertical-align: middle;\n",
              "    }\n",
              "\n",
              "    .dataframe tbody tr th {\n",
              "        vertical-align: top;\n",
              "    }\n",
              "\n",
              "    .dataframe thead th {\n",
              "        text-align: right;\n",
              "    }\n",
              "</style>\n",
              "<table border=\"1\" class=\"dataframe\">\n",
              "  <thead>\n",
              "    <tr style=\"text-align: right;\">\n",
              "      <th></th>\n",
              "      <th>Name</th>\n",
              "      <th>Location</th>\n",
              "      <th>Year</th>\n",
              "      <th>Kilometers_Driven</th>\n",
              "      <th>Fuel_Type</th>\n",
              "      <th>Transmission</th>\n",
              "      <th>Owner_Type</th>\n",
              "      <th>Engine</th>\n",
              "      <th>Power</th>\n",
              "      <th>Seats</th>\n",
              "      <th>Price</th>\n",
              "      <th>Mileage_int</th>\n",
              "    </tr>\n",
              "  </thead>\n",
              "  <tbody>\n",
              "    <tr>\n",
              "      <th>4</th>\n",
              "      <td>Audi</td>\n",
              "      <td>Coimbatore</td>\n",
              "      <td>2013</td>\n",
              "      <td>40670</td>\n",
              "      <td>Diesel</td>\n",
              "      <td>Automatic</td>\n",
              "      <td>Second</td>\n",
              "      <td>1968.0</td>\n",
              "      <td>140.8</td>\n",
              "      <td>5.0</td>\n",
              "      <td>17.74</td>\n",
              "      <td>15.20</td>\n",
              "    </tr>\n",
              "    <tr>\n",
              "      <th>9</th>\n",
              "      <td>Tata</td>\n",
              "      <td>Chennai</td>\n",
              "      <td>2012</td>\n",
              "      <td>65932</td>\n",
              "      <td>Diesel</td>\n",
              "      <td>Manual</td>\n",
              "      <td>Second</td>\n",
              "      <td>1248.0</td>\n",
              "      <td>74.0</td>\n",
              "      <td>5.0</td>\n",
              "      <td>1.95</td>\n",
              "      <td>22.30</td>\n",
              "    </tr>\n",
              "    <tr>\n",
              "      <th>21</th>\n",
              "      <td>Maruti</td>\n",
              "      <td>Bangalore</td>\n",
              "      <td>2015</td>\n",
              "      <td>55392</td>\n",
              "      <td>Diesel</td>\n",
              "      <td>Manual</td>\n",
              "      <td>Second</td>\n",
              "      <td>1248.0</td>\n",
              "      <td>88.5</td>\n",
              "      <td>5.0</td>\n",
              "      <td>8.25</td>\n",
              "      <td>23.65</td>\n",
              "    </tr>\n",
              "    <tr>\n",
              "      <th>27</th>\n",
              "      <td>Maruti</td>\n",
              "      <td>Hyderabad</td>\n",
              "      <td>2013</td>\n",
              "      <td>54000</td>\n",
              "      <td>Petrol</td>\n",
              "      <td>Manual</td>\n",
              "      <td>Second</td>\n",
              "      <td>998.0</td>\n",
              "      <td>67.1</td>\n",
              "      <td>5.0</td>\n",
              "      <td>2.75</td>\n",
              "      <td>20.92</td>\n",
              "    </tr>\n",
              "    <tr>\n",
              "      <th>29</th>\n",
              "      <td>Toyota</td>\n",
              "      <td>Mumbai</td>\n",
              "      <td>2007</td>\n",
              "      <td>262000</td>\n",
              "      <td>Diesel</td>\n",
              "      <td>Manual</td>\n",
              "      <td>Fourth &amp; Above</td>\n",
              "      <td>2494.0</td>\n",
              "      <td>102.0</td>\n",
              "      <td>7.0</td>\n",
              "      <td>4.00</td>\n",
              "      <td>12.80</td>\n",
              "    </tr>\n",
              "  </tbody>\n",
              "</table>\n",
              "</div>"
            ],
            "text/plain": [
              "      Name    Location  Year  ...  Seats  Price Mileage_int\n",
              "4     Audi  Coimbatore  2013  ...    5.0  17.74       15.20\n",
              "9     Tata     Chennai  2012  ...    5.0   1.95       22.30\n",
              "21  Maruti   Bangalore  2015  ...    5.0   8.25       23.65\n",
              "27  Maruti   Hyderabad  2013  ...    5.0   2.75       20.92\n",
              "29  Toyota      Mumbai  2007  ...    7.0   4.00       12.80\n",
              "\n",
              "[5 rows x 12 columns]"
            ]
          },
          "metadata": {
            "tags": []
          },
          "execution_count": 268
        }
      ]
    },
    {
      "cell_type": "code",
      "metadata": {
        "id": "Z00AQAwCBYWx"
      },
      "source": [
        "new_df = features.drop(['Name', 'Location', 'Fuel_Type', 'Owner_Type'], axis=1).copy()\n",
        "new_df['Transmission'] = new_df['Transmission'].map({'Automatic':1, 'Manual':0})"
      ],
      "execution_count": null,
      "outputs": []
    },
    {
      "cell_type": "code",
      "metadata": {
        "id": "icVCcp5GFAvW",
        "colab": {
          "base_uri": "https://localhost:8080/",
          "height": 144
        },
        "outputId": "107dd814-ee9a-419b-feb0-c6e90ff4568d"
      },
      "source": [
        "new_df.head(3)"
      ],
      "execution_count": null,
      "outputs": [
        {
          "output_type": "execute_result",
          "data": {
            "text/html": [
              "<div>\n",
              "<style scoped>\n",
              "    .dataframe tbody tr th:only-of-type {\n",
              "        vertical-align: middle;\n",
              "    }\n",
              "\n",
              "    .dataframe tbody tr th {\n",
              "        vertical-align: top;\n",
              "    }\n",
              "\n",
              "    .dataframe thead th {\n",
              "        text-align: right;\n",
              "    }\n",
              "</style>\n",
              "<table border=\"1\" class=\"dataframe\">\n",
              "  <thead>\n",
              "    <tr style=\"text-align: right;\">\n",
              "      <th></th>\n",
              "      <th>Year</th>\n",
              "      <th>Kilometers_Driven</th>\n",
              "      <th>Transmission</th>\n",
              "      <th>Engine</th>\n",
              "      <th>Power</th>\n",
              "      <th>Seats</th>\n",
              "      <th>Price</th>\n",
              "      <th>Mileage_int</th>\n",
              "    </tr>\n",
              "  </thead>\n",
              "  <tbody>\n",
              "    <tr>\n",
              "      <th>4</th>\n",
              "      <td>2013</td>\n",
              "      <td>40670</td>\n",
              "      <td>1</td>\n",
              "      <td>1968.0</td>\n",
              "      <td>140.8</td>\n",
              "      <td>5.0</td>\n",
              "      <td>17.74</td>\n",
              "      <td>15.20</td>\n",
              "    </tr>\n",
              "    <tr>\n",
              "      <th>9</th>\n",
              "      <td>2012</td>\n",
              "      <td>65932</td>\n",
              "      <td>0</td>\n",
              "      <td>1248.0</td>\n",
              "      <td>74.0</td>\n",
              "      <td>5.0</td>\n",
              "      <td>1.95</td>\n",
              "      <td>22.30</td>\n",
              "    </tr>\n",
              "    <tr>\n",
              "      <th>21</th>\n",
              "      <td>2015</td>\n",
              "      <td>55392</td>\n",
              "      <td>0</td>\n",
              "      <td>1248.0</td>\n",
              "      <td>88.5</td>\n",
              "      <td>5.0</td>\n",
              "      <td>8.25</td>\n",
              "      <td>23.65</td>\n",
              "    </tr>\n",
              "  </tbody>\n",
              "</table>\n",
              "</div>"
            ],
            "text/plain": [
              "    Year  Kilometers_Driven  Transmission  ...  Seats  Price  Mileage_int\n",
              "4   2013              40670             1  ...    5.0  17.74        15.20\n",
              "9   2012              65932             0  ...    5.0   1.95        22.30\n",
              "21  2015              55392             0  ...    5.0   8.25        23.65\n",
              "\n",
              "[3 rows x 8 columns]"
            ]
          },
          "metadata": {
            "tags": []
          },
          "execution_count": 270
        }
      ]
    },
    {
      "cell_type": "code",
      "metadata": {
        "id": "qsTYgwzJJlI_"
      },
      "source": [
        "new_df['Year2'] = new_df['Year']**2\n"
      ],
      "execution_count": null,
      "outputs": []
    },
    {
      "cell_type": "code",
      "metadata": {
        "id": "sabzKGJ4f9Ri",
        "colab": {
          "base_uri": "https://localhost:8080/",
          "height": 93
        },
        "outputId": "da32fc1e-6911-427d-aa23-82fcaa37c27f"
      },
      "source": [
        "formula = 'Price ~ Year + C(Transmission)'\n",
        "results = smf.ols(formula, data=new_df).fit()\n",
        "results.params"
      ],
      "execution_count": null,
      "outputs": [
        {
          "output_type": "execute_result",
          "data": {
            "text/plain": [
              "Intercept              -1521.682857\n",
              "C(Transmission)[T.1]      11.137533\n",
              "Year                       0.758777\n",
              "dtype: float64"
            ]
          },
          "metadata": {
            "tags": []
          },
          "execution_count": 272
        }
      ]
    },
    {
      "cell_type": "code",
      "metadata": {
        "id": "o4Nc-W_kgK0e"
      },
      "source": [
        "grouped1 = new_df.groupby('Year')\n",
        "y_grouped1 = grouped1['Price'].mean()"
      ],
      "execution_count": null,
      "outputs": []
    },
    {
      "cell_type": "code",
      "metadata": {
        "id": "ENnj2XmQgnhc",
        "colab": {
          "base_uri": "https://localhost:8080/",
          "height": 279
        },
        "outputId": "3432cb75-3829-4310-82a7-9ee4f4c808e3"
      },
      "source": [
        "plt.plot(y_grouped1, 'o', alpha=0.5)\n",
        "plt.xlabel('Year')\n",
        "plt.ylabel('Price Average')\n",
        "plt.show()"
      ],
      "execution_count": null,
      "outputs": [
        {
          "output_type": "display_data",
          "data": {
            "image/png": "[encoded data removed]",
            "text/plain": [
              "<Figure size 432x288 with 1 Axes>"
            ]
          },
          "metadata": {
            "tags": [],
            "needs_background": "light"
          }
        }
      ]
    },
    {
      "cell_type": "code",
      "metadata": {
        "id": "BZD7rBcAiCjG"
      },
      "source": [
        "new_df['Kilometers_Driven'] = new_df['Kilometers_Driven'][new_df['Kilometers_Driven'] > 0]"
      ],
      "execution_count": null,
      "outputs": []
    },
    {
      "cell_type": "code",
      "metadata": {
        "id": "n8T7iC8-jimg"
      },
      "source": [
        "bin_labels = ['Very Low', 'Low', 'Middle', 'High', 'Very High']\n",
        "\n",
        "new_df['Kilometers_Driven_qcut'] = pd.qcut(new_df['Kilometers_Driven'],\n",
        "                                q=[0, .2, .4, .6, .8, 1],\n",
        "                                labels=bin_labels)"
      ],
      "execution_count": null,
      "outputs": []
    },
    {
      "cell_type": "code",
      "metadata": {
        "id": "udnNI9W6iSTJ",
        "colab": {
          "base_uri": "https://localhost:8080/",
          "height": 206
        },
        "outputId": "acc30944-1542-459c-aaa9-e0abe34d0a06"
      },
      "source": [
        "new_df.head()"
      ],
      "execution_count": null,
      "outputs": [
        {
          "output_type": "execute_result",
          "data": {
            "text/html": [
              "<div>\n",
              "<style scoped>\n",
              "    .dataframe tbody tr th:only-of-type {\n",
              "        vertical-align: middle;\n",
              "    }\n",
              "\n",
              "    .dataframe tbody tr th {\n",
              "        vertical-align: top;\n",
              "    }\n",
              "\n",
              "    .dataframe thead th {\n",
              "        text-align: right;\n",
              "    }\n",
              "</style>\n",
              "<table border=\"1\" class=\"dataframe\">\n",
              "  <thead>\n",
              "    <tr style=\"text-align: right;\">\n",
              "      <th></th>\n",
              "      <th>Year</th>\n",
              "      <th>Kilometers_Driven</th>\n",
              "      <th>Transmission</th>\n",
              "      <th>Engine</th>\n",
              "      <th>Power</th>\n",
              "      <th>Seats</th>\n",
              "      <th>Price</th>\n",
              "      <th>Mileage_int</th>\n",
              "      <th>Year2</th>\n",
              "      <th>Kilometers_Driven_qcut</th>\n",
              "    </tr>\n",
              "  </thead>\n",
              "  <tbody>\n",
              "    <tr>\n",
              "      <th>4</th>\n",
              "      <td>2013</td>\n",
              "      <td>40670</td>\n",
              "      <td>1</td>\n",
              "      <td>1968.0</td>\n",
              "      <td>140.8</td>\n",
              "      <td>5.0</td>\n",
              "      <td>17.74</td>\n",
              "      <td>15.20</td>\n",
              "      <td>4052169</td>\n",
              "      <td>Very Low</td>\n",
              "    </tr>\n",
              "    <tr>\n",
              "      <th>9</th>\n",
              "      <td>2012</td>\n",
              "      <td>65932</td>\n",
              "      <td>0</td>\n",
              "      <td>1248.0</td>\n",
              "      <td>74.0</td>\n",
              "      <td>5.0</td>\n",
              "      <td>1.95</td>\n",
              "      <td>22.30</td>\n",
              "      <td>4048144</td>\n",
              "      <td>Middle</td>\n",
              "    </tr>\n",
              "    <tr>\n",
              "      <th>21</th>\n",
              "      <td>2015</td>\n",
              "      <td>55392</td>\n",
              "      <td>0</td>\n",
              "      <td>1248.0</td>\n",
              "      <td>88.5</td>\n",
              "      <td>5.0</td>\n",
              "      <td>8.25</td>\n",
              "      <td>23.65</td>\n",
              "      <td>4060225</td>\n",
              "      <td>Low</td>\n",
              "    </tr>\n",
              "    <tr>\n",
              "      <th>27</th>\n",
              "      <td>2013</td>\n",
              "      <td>54000</td>\n",
              "      <td>0</td>\n",
              "      <td>998.0</td>\n",
              "      <td>67.1</td>\n",
              "      <td>5.0</td>\n",
              "      <td>2.75</td>\n",
              "      <td>20.92</td>\n",
              "      <td>4052169</td>\n",
              "      <td>Low</td>\n",
              "    </tr>\n",
              "    <tr>\n",
              "      <th>29</th>\n",
              "      <td>2007</td>\n",
              "      <td>262000</td>\n",
              "      <td>0</td>\n",
              "      <td>2494.0</td>\n",
              "      <td>102.0</td>\n",
              "      <td>7.0</td>\n",
              "      <td>4.00</td>\n",
              "      <td>12.80</td>\n",
              "      <td>4028049</td>\n",
              "      <td>Very High</td>\n",
              "    </tr>\n",
              "  </tbody>\n",
              "</table>\n",
              "</div>"
            ],
            "text/plain": [
              "    Year  Kilometers_Driven  ...    Year2  Kilometers_Driven_qcut\n",
              "4   2013              40670  ...  4052169                Very Low\n",
              "9   2012              65932  ...  4048144                  Middle\n",
              "21  2015              55392  ...  4060225                     Low\n",
              "27  2013              54000  ...  4052169                     Low\n",
              "29  2007             262000  ...  4028049               Very High\n",
              "\n",
              "[5 rows x 10 columns]"
            ]
          },
          "metadata": {
            "tags": []
          },
          "execution_count": 277
        }
      ]
    },
    {
      "cell_type": "code",
      "metadata": {
        "id": "B0aU55pwiz5F",
        "colab": {
          "base_uri": "https://localhost:8080/",
          "height": 298
        },
        "outputId": "aa9eb2c1-e784-47ca-c8f9-876bf6d01504"
      },
      "source": [
        "sns.boxplot(new_df['Price'], new_df['Kilometers_Driven_qcut'])"
      ],
      "execution_count": null,
      "outputs": [
        {
          "output_type": "execute_result",
          "data": {
            "text/plain": [
              "<matplotlib.axes._subplots.AxesSubplot at 0x7f45c68741d0>"
            ]
          },
          "metadata": {
            "tags": []
          },
          "execution_count": 278
        },
        {
          "output_type": "display_data",
          "data": {
            "image/png": "[encoded data removed]",
            "text/plain": [
              "<Figure size 432x288 with 1 Axes>"
            ]
          },
          "metadata": {
            "tags": [],
            "needs_background": "light"
          }
        }
      ]
    },
    {
      "cell_type": "code",
      "metadata": {
        "id": "nwAOM2vWhh6Z",
        "colab": {
          "base_uri": "https://localhost:8080/",
          "height": 74
        },
        "outputId": "d7e1eefd-7538-4c77-c3ab-d7595ee79aaa"
      },
      "source": [
        "formula = 'Price ~ Kilometers_Driven'\n",
        "results = smf.ols(formula, data=new_df).fit()\n",
        "results.params"
      ],
      "execution_count": null,
      "outputs": [
        {
          "output_type": "execute_result",
          "data": {
            "text/plain": [
              "Intercept            11.544980\n",
              "Kilometers_Driven    -0.000057\n",
              "dtype: float64"
            ]
          },
          "metadata": {
            "tags": []
          },
          "execution_count": 279
        }
      ]
    },
    {
      "cell_type": "code",
      "metadata": {
        "id": "MyQGiU1Whp-0"
      },
      "source": [
        "grouped1 = new_df.groupby('Kilometers_Driven')\n",
        "y_grouped1 = grouped1['Price'].mean()"
      ],
      "execution_count": null,
      "outputs": []
    },
    {
      "cell_type": "code",
      "metadata": {
        "id": "xmGoyw8Dhu8n",
        "colab": {
          "base_uri": "https://localhost:8080/",
          "height": 280
        },
        "outputId": "445ce6d4-4f64-4ea2-d4f7-440745237b01"
      },
      "source": [
        "plt.plot(y_grouped1, 'o', alpha=0.5)\n",
        "plt.xlabel('Kilometers_Driven')\n",
        "plt.ylabel('Price Average')\n",
        "plt.show()"
      ],
      "execution_count": null,
      "outputs": [
        {
          "output_type": "display_data",
          "data": {
            "image/png": "[encoded data removed]",
            "text/plain": [
              "<Figure size 432x288 with 1 Axes>"
            ]
          },
          "metadata": {
            "tags": [],
            "needs_background": "light"
          }
        }
      ]
    },
    {
      "cell_type": "code",
      "metadata": {
        "id": "Q_bEH58lBDzx"
      },
      "source": [
        "formula = 'Price ~ Year + Year2 + C(Transmission)'\n",
        "results = smf.ols(formula, data=new_df).fit()"
      ],
      "execution_count": null,
      "outputs": []
    },
    {
      "cell_type": "code",
      "metadata": {
        "id": "V3Uzn5IAFQAA",
        "colab": {
          "base_uri": "https://localhost:8080/",
          "height": 112
        },
        "outputId": "df3eac3e-8773-4af3-f654-bb9d87bb379d"
      },
      "source": [
        "results.params"
      ],
      "execution_count": null,
      "outputs": [
        {
          "output_type": "execute_result",
          "data": {
            "text/plain": [
              "Intercept               167062.306311\n",
              "C(Transmission)[T.1]        11.208363\n",
              "Year                      -166.990535\n",
              "Year2                        0.041730\n",
              "dtype: float64"
            ]
          },
          "metadata": {
            "tags": []
          },
          "execution_count": 283
        }
      ]
    },
    {
      "cell_type": "code",
      "metadata": {
        "id": "EqfoVbwy9bdA"
      },
      "source": [
        "predict_df = pd.DataFrame()\n",
        "predict_df['Year'] = np.arange(1998, 2019)\n",
        "predict_df['Year2'] = predict_df['Year']**2\n",
        "\n",
        "predict_df['Transmission'] = 1 # automatic\n",
        "pred1 = results.predict(predict_df)\n"
      ],
      "execution_count": null,
      "outputs": []
    },
    {
      "cell_type": "code",
      "metadata": {
        "id": "75Q9yBHBOJmw",
        "colab": {
          "base_uri": "https://localhost:8080/",
          "height": 206
        },
        "outputId": "e37e60c4-71a8-4b85-c4cd-582e945fdd8d"
      },
      "source": [
        "predict_df.head()"
      ],
      "execution_count": null,
      "outputs": [
        {
          "output_type": "execute_result",
          "data": {
            "text/html": [
              "<div>\n",
              "<style scoped>\n",
              "    .dataframe tbody tr th:only-of-type {\n",
              "        vertical-align: middle;\n",
              "    }\n",
              "\n",
              "    .dataframe tbody tr th {\n",
              "        vertical-align: top;\n",
              "    }\n",
              "\n",
              "    .dataframe thead th {\n",
              "        text-align: right;\n",
              "    }\n",
              "</style>\n",
              "<table border=\"1\" class=\"dataframe\">\n",
              "  <thead>\n",
              "    <tr style=\"text-align: right;\">\n",
              "      <th></th>\n",
              "      <th>Year</th>\n",
              "      <th>Year2</th>\n",
              "      <th>Transmission</th>\n",
              "    </tr>\n",
              "  </thead>\n",
              "  <tbody>\n",
              "    <tr>\n",
              "      <th>0</th>\n",
              "      <td>1998</td>\n",
              "      <td>3992004</td>\n",
              "      <td>1</td>\n",
              "    </tr>\n",
              "    <tr>\n",
              "      <th>1</th>\n",
              "      <td>1999</td>\n",
              "      <td>3996001</td>\n",
              "      <td>1</td>\n",
              "    </tr>\n",
              "    <tr>\n",
              "      <th>2</th>\n",
              "      <td>2000</td>\n",
              "      <td>4000000</td>\n",
              "      <td>1</td>\n",
              "    </tr>\n",
              "    <tr>\n",
              "      <th>3</th>\n",
              "      <td>2001</td>\n",
              "      <td>4004001</td>\n",
              "      <td>1</td>\n",
              "    </tr>\n",
              "    <tr>\n",
              "      <th>4</th>\n",
              "      <td>2002</td>\n",
              "      <td>4008004</td>\n",
              "      <td>1</td>\n",
              "    </tr>\n",
              "  </tbody>\n",
              "</table>\n",
              "</div>"
            ],
            "text/plain": [
              "   Year    Year2  Transmission\n",
              "0  1998  3992004             1\n",
              "1  1999  3996001             1\n",
              "2  2000  4000000             1\n",
              "3  2001  4004001             1\n",
              "4  2002  4008004             1"
            ]
          },
          "metadata": {
            "tags": []
          },
          "execution_count": 285
        }
      ]
    },
    {
      "cell_type": "code",
      "metadata": {
        "id": "Q-GlXmu_CgDd"
      },
      "source": [
        "predict_df['Transmission'] = 0 #Manual\n",
        "pred2 = results.predict(predict_df)"
      ],
      "execution_count": null,
      "outputs": []
    },
    {
      "cell_type": "code",
      "metadata": {
        "id": "yUVMpu4nCpdX",
        "colab": {
          "base_uri": "https://localhost:8080/",
          "height": 516
        },
        "outputId": "0e008ef2-85b8-47f7-80cf-23822b4d9047"
      },
      "source": [
        "grouped = new_df.groupby('Year')\n",
        "y_grouped = grouped['Price'].mean()\n",
        "\n",
        "plt.figure(figsize=(12, 8))\n",
        "plt.plot(y_grouped, 'o')\n",
        "plt.plot(predict_df['Year'], pred1, label='Automatic')\n",
        "plt.plot(predict_df['Year'], pred2, label='Manual')\n",
        "plt.xlabel('Year')\n",
        "plt.ylabel('Price Average')\n",
        "plt.legend()\n",
        "\n",
        "plt.figure(figsize=(16, 12))\n",
        "plt.show()"
      ],
      "execution_count": null,
      "outputs": [
        {
          "output_type": "display_data",
          "data": {
            "image/png": "[encoded data removed]",
            "text/plain": [
              "<Figure size 864x576 with 1 Axes>"
            ]
          },
          "metadata": {
            "tags": [],
            "needs_background": "light"
          }
        },
        {
          "output_type": "display_data",
          "data": {
            "text/plain": [
              "<Figure size 1152x864 with 0 Axes>"
            ]
          },
          "metadata": {
            "tags": []
          }
        }
      ]
    },
    {
      "cell_type": "markdown",
      "metadata": {
        "id": "hp5XXmjdW6WI"
      },
      "source": [
        "Automatic Transmission more affects the price (above the average of price !) than Manual Transmission. \n",
        "With T.1 coefficient = 11.208363, means that Automatic Transmission is affecting 11.2 of price average "
      ]
    },
    {
      "cell_type": "code",
      "metadata": {
        "id": "skAFcLpP2-iQ"
      },
      "source": [
        ""
      ],
      "execution_count": null,
      "outputs": []
    },
    {
      "cell_type": "markdown",
      "metadata": {
        "id": "b-2vlVGm2_Vh"
      },
      "source": [
        "## SELECT TOP 12 FEATURES"
      ]
    },
    {
      "cell_type": "code",
      "metadata": {
        "id": "cmdl8vp5Bqjl"
      },
      "source": [
        "from sklearn.feature_selection import RFE\n",
        "from sklearn.ensemble import GradientBoostingRegressor"
      ],
      "execution_count": null,
      "outputs": []
    },
    {
      "cell_type": "code",
      "metadata": {
        "id": "T-pf_neh2M9t"
      },
      "source": [
        "rfe_gb = RFE(estimator=GradientBoostingRegressor(), n_features_to_select=10)\n",
        "rfe_gb.fit(X, y)\n",
        "rfe_gb = rfe_gb.support_\n"
      ],
      "execution_count": null,
      "outputs": []
    },
    {
      "cell_type": "code",
      "metadata": {
        "id": "P-geW5djTFCn"
      },
      "source": [
        "rfe_rf = RFE(estimator=RandomForestRegressor(), n_features_to_select=10)\n",
        "rfe_rf.fit(X, y)\n",
        "\n",
        "rf_mask = rfe_rf.support_"
      ],
      "execution_count": null,
      "outputs": []
    },
    {
      "cell_type": "code",
      "metadata": {
        "id": "6EE_-rSbSZ1C"
      },
      "source": [
        "from sklearn.linear_model import LassoCV"
      ],
      "execution_count": null,
      "outputs": []
    },
    {
      "cell_type": "code",
      "metadata": {
        "id": "czmu8hNsRGGh",
        "colab": {
          "base_uri": "https://localhost:8080/",
          "height": 36
        },
        "outputId": "9f308dc1-7cb7-4e80-bb49-f7a9261de96b"
      },
      "source": [
        "lcv = LassoCV()\n",
        "lcv.fit(X, y)\n",
        "print('Optimal alpha = {0:.3f}'.format(lcv.alpha_))"
      ],
      "execution_count": null,
      "outputs": [
        {
          "output_type": "stream",
          "text": [
            "Optimal alpha = 79.574\n"
          ],
          "name": "stdout"
        }
      ]
    },
    {
      "cell_type": "code",
      "metadata": {
        "id": "gxdB9USJSKoc",
        "colab": {
          "base_uri": "https://localhost:8080/",
          "height": 36
        },
        "outputId": "803132ab-3c74-461f-c183-f8b58a92618e"
      },
      "source": [
        "r_squared = lcv.score(scaled_X, y)\n",
        "print('The model explains {0:.1%} of the X variance'.format(r_squared))"
      ],
      "execution_count": null,
      "outputs": [
        {
          "output_type": "stream",
          "text": [
            "The model explains -149.3% of the X variance\n"
          ],
          "name": "stdout"
        }
      ]
    },
    {
      "cell_type": "code",
      "metadata": {
        "id": "Oj20-qNnSPYu",
        "colab": {
          "base_uri": "https://localhost:8080/",
          "height": 36
        },
        "outputId": "9e98cf8f-5c96-4a9b-d0f3-ee4ae92483b3"
      },
      "source": [
        "lcv_mask = lcv.coef_ != 0\n",
        "print('{} features out of {} selected'.format(sum(lcv_mask), len(lcv_mask)))"
      ],
      "execution_count": null,
      "outputs": [
        {
          "output_type": "stream",
          "text": [
            "3 features out of 50 selected\n"
          ],
          "name": "stdout"
        }
      ]
    },
    {
      "cell_type": "code",
      "metadata": {
        "id": "Z0sNd5OXSm4p",
        "colab": {
          "base_uri": "https://localhost:8080/",
          "height": 55
        },
        "outputId": "d7b1b7d2-8a81-40ef-c522-91638c7f0cfe"
      },
      "source": [
        "votes = np.sum([rfe_gb, rf_mask, lcv_mask], axis=0)\n",
        "\n",
        "print(votes)"
      ],
      "execution_count": null,
      "outputs": [
        {
          "output_type": "stream",
          "text": [
            "[2 3 3 3 1 2 0 1 0 0 0 0 0 0 0 0 2 0 0 0 2 0 0 0 0 0 0 0 0 0 0 1 0 0 0 0 0\n",
            " 0 0 0 0 0 1 0 0 1 1 0 0 0]\n"
          ],
          "name": "stdout"
        }
      ]
    },
    {
      "cell_type": "code",
      "metadata": {
        "id": "-As5UyM-Un_h"
      },
      "source": [
        "mask = votes >= 1"
      ],
      "execution_count": null,
      "outputs": []
    },
    {
      "cell_type": "code",
      "metadata": {
        "id": "YfybHTWuVLML"
      },
      "source": [
        "reduced_X = X.loc[:, mask]"
      ],
      "execution_count": null,
      "outputs": []
    },
    {
      "cell_type": "code",
      "metadata": {
        "id": "RnsMymBlVRFF",
        "colab": {
          "base_uri": "https://localhost:8080/",
          "height": 93
        },
        "outputId": "3ad00f37-8883-4f51-aa53-2a85e5b83944"
      },
      "source": [
        "reduced_X.columns"
      ],
      "execution_count": null,
      "outputs": [
        {
          "output_type": "execute_result",
          "data": {
            "text/plain": [
              "Index(['Year', 'Kilometers_Driven', 'Engine', 'Power', 'Seats', 'Mileage_int',\n",
              "       'Name_Audi', 'Name_Land', 'Name_Mini', 'Location_Bangalore',\n",
              "       'Fuel_Type_Diesel', 'Transmission_Automatic', 'Transmission_Manual'],\n",
              "      dtype='object')"
            ]
          },
          "metadata": {
            "tags": []
          },
          "execution_count": 298
        }
      ]
    },
    {
      "cell_type": "code",
      "metadata": {
        "id": "h9g5u-P0VSpM"
      },
      "source": [
        ""
      ],
      "execution_count": null,
      "outputs": []
    },
    {
      "cell_type": "code",
      "metadata": {
        "id": "KJx6Z-6T0P32",
        "colab": {
          "base_uri": "https://localhost:8080/",
          "height": 226
        },
        "outputId": "0f50447c-a1ea-4af3-a589-a78e750dcde2"
      },
      "source": [
        "new_df.dtypes"
      ],
      "execution_count": null,
      "outputs": [
        {
          "output_type": "execute_result",
          "data": {
            "text/plain": [
              "Year                         int64\n",
              "Kilometers_Driven            int64\n",
              "Transmission                 int64\n",
              "Engine                     float64\n",
              "Power                      float64\n",
              "Seats                      float64\n",
              "Price                      float64\n",
              "Mileage_int                float64\n",
              "Year2                        int64\n",
              "Kilometers_Driven_qcut    category\n",
              "dtype: object"
            ]
          },
          "metadata": {
            "tags": []
          },
          "execution_count": 299
        }
      ]
    }
  ]
}